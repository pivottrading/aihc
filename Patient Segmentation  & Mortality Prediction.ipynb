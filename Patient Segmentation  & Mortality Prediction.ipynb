{
 "cells": [
  {
   "cell_type": "code",
   "execution_count": 1,
   "metadata": {},
   "outputs": [
    {
     "name": "stdout",
     "output_type": "stream",
     "text": [
      "Requirement already satisfied: seaborn in c:\\users\\water\\.conda\\envs\\aihc-py39\\lib\\site-packages (0.13.2)\n",
      "Requirement already satisfied: scikit-learn in c:\\users\\water\\.conda\\envs\\aihc-py39\\lib\\site-packages (1.5.2)\n",
      "Requirement already satisfied: numpy!=1.24.0,>=1.20 in c:\\users\\water\\.conda\\envs\\aihc-py39\\lib\\site-packages (from seaborn) (2.0.2)\n",
      "Requirement already satisfied: pandas>=1.2 in c:\\users\\water\\.conda\\envs\\aihc-py39\\lib\\site-packages (from seaborn) (2.2.3)\n",
      "Requirement already satisfied: matplotlib!=3.6.1,>=3.4 in c:\\users\\water\\.conda\\envs\\aihc-py39\\lib\\site-packages (from seaborn) (3.9.2)\n",
      "Requirement already satisfied: scipy>=1.6.0 in c:\\users\\water\\.conda\\envs\\aihc-py39\\lib\\site-packages (from scikit-learn) (1.13.1)\n",
      "Requirement already satisfied: joblib>=1.2.0 in c:\\users\\water\\.conda\\envs\\aihc-py39\\lib\\site-packages (from scikit-learn) (1.4.2)\n",
      "Requirement already satisfied: threadpoolctl>=3.1.0 in c:\\users\\water\\.conda\\envs\\aihc-py39\\lib\\site-packages (from scikit-learn) (3.5.0)\n",
      "Requirement already satisfied: contourpy>=1.0.1 in c:\\users\\water\\.conda\\envs\\aihc-py39\\lib\\site-packages (from matplotlib!=3.6.1,>=3.4->seaborn) (1.3.0)\n",
      "Requirement already satisfied: cycler>=0.10 in c:\\users\\water\\.conda\\envs\\aihc-py39\\lib\\site-packages (from matplotlib!=3.6.1,>=3.4->seaborn) (0.12.1)\n",
      "Requirement already satisfied: fonttools>=4.22.0 in c:\\users\\water\\.conda\\envs\\aihc-py39\\lib\\site-packages (from matplotlib!=3.6.1,>=3.4->seaborn) (4.55.0)\n",
      "Requirement already satisfied: kiwisolver>=1.3.1 in c:\\users\\water\\.conda\\envs\\aihc-py39\\lib\\site-packages (from matplotlib!=3.6.1,>=3.4->seaborn) (1.4.7)\n",
      "Requirement already satisfied: packaging>=20.0 in c:\\users\\water\\.conda\\envs\\aihc-py39\\lib\\site-packages (from matplotlib!=3.6.1,>=3.4->seaborn) (24.1)\n",
      "Requirement already satisfied: pillow>=8 in c:\\users\\water\\.conda\\envs\\aihc-py39\\lib\\site-packages (from matplotlib!=3.6.1,>=3.4->seaborn) (10.2.0)\n",
      "Requirement already satisfied: pyparsing>=2.3.1 in c:\\users\\water\\.conda\\envs\\aihc-py39\\lib\\site-packages (from matplotlib!=3.6.1,>=3.4->seaborn) (3.2.0)\n",
      "Requirement already satisfied: python-dateutil>=2.7 in c:\\users\\water\\.conda\\envs\\aihc-py39\\lib\\site-packages (from matplotlib!=3.6.1,>=3.4->seaborn) (2.9.0.post0)\n",
      "Requirement already satisfied: importlib-resources>=3.2.0 in c:\\users\\water\\.conda\\envs\\aihc-py39\\lib\\site-packages (from matplotlib!=3.6.1,>=3.4->seaborn) (6.4.5)\n",
      "Requirement already satisfied: pytz>=2020.1 in c:\\users\\water\\.conda\\envs\\aihc-py39\\lib\\site-packages (from pandas>=1.2->seaborn) (2024.2)\n",
      "Requirement already satisfied: tzdata>=2022.7 in c:\\users\\water\\.conda\\envs\\aihc-py39\\lib\\site-packages (from pandas>=1.2->seaborn) (2024.2)\n",
      "Requirement already satisfied: zipp>=3.1.0 in c:\\users\\water\\.conda\\envs\\aihc-py39\\lib\\site-packages (from importlib-resources>=3.2.0->matplotlib!=3.6.1,>=3.4->seaborn) (3.17.0)\n",
      "Requirement already satisfied: six>=1.5 in c:\\users\\water\\.conda\\envs\\aihc-py39\\lib\\site-packages (from python-dateutil>=2.7->matplotlib!=3.6.1,>=3.4->seaborn) (1.16.0)\n"
     ]
    }
   ],
   "source": [
    "!pip install seaborn scikit-learn"
   ]
  },
  {
   "cell_type": "code",
   "execution_count": 2,
   "metadata": {
    "id": "pHCOF2Zon8I0"
   },
   "outputs": [],
   "source": [
    "# Imports\n",
    "import pandas as pd\n",
    "import numpy as np\n",
    "import matplotlib.pyplot as plt\n",
    "import seaborn as sns\n",
    "from sklearn.model_selection import train_test_split\n",
    "from sklearn.metrics import r2_score, mean_squared_error\n",
    "from sklearn.preprocessing import MinMaxScaler\n",
    "from sklearn.svm import SVR\n",
    "from sklearn.tree import DecisionTreeRegressor\n",
    "from sklearn.model_selection import GridSearchCV\n",
    "from sklearn.metrics import accuracy_score, f1_score, classification_report, confusion_matrix\n",
    "\n",
    "from sklearn.linear_model import SGDClassifier  #SGDClassifier(loss=\"hinge\", penalty=\"l2\")\n",
    "from sklearn.ensemble import GradientBoostingClassifier \n",
    "# GradientBoostingClassifier(\n",
    "#     n_estimators=100, \n",
    "#     learning_rate=0.1, \n",
    "#     max_depth=3, \n",
    "#     min_samples_split=2, \n",
    "#     min_samples_leaf=1, \n",
    "#     subsample=1, \n",
    "#     random_state=42\n",
    "# )\n",
    "from sklearn.linear_model import LogisticRegression\n",
    "from sklearn.neighbors import KNeighborsClassifier\n",
    "# KNeighborsClassifier(\n",
    "#     n_neighbors=5, \n",
    "#     weights='uniform', \n",
    "#     algorithm='auto', \n",
    "#     leaf_size=30, \n",
    "#     p=2, \n",
    "#     metric='minkowski', \n",
    "#     metric_params=None, \n",
    "#     n_jobs=None\n",
    "# )\n",
    "from sklearn.ensemble import RandomForestClassifier\n",
    "# RandomForestClassifier(\n",
    "#     n_estimators=100, \n",
    "#     criterion='gini', \n",
    "#     max_depth=None, \n",
    "#     min_samples_split=2, \n",
    "#     min_samples_leaf=1, \n",
    "#     min_weight_fraction_leaf=0.0, \n",
    "#     max_features='auto', \n",
    "#     max_leaf_nodes=None, \n",
    "#     min_impurity_decrease=0.0, \n",
    "#     bootstrap=True, \n",
    "#     oob_score=False, \n",
    "#     n_jobs=None, \n",
    "#     random_state=None, \n",
    "#     verbose=0, \n",
    "#     warm_start=False, \n",
    "#     class_weight=None, \n",
    "#     ccp_alpha=0.0, \n",
    "#     max_samples=None\n",
    "# )"
   ]
  },
  {
   "cell_type": "markdown",
   "metadata": {
    "id": "lftojnXMBSSC"
   },
   "source": [
    "**Load Data**"
   ]
  },
  {
   "cell_type": "code",
   "execution_count": 3,
   "metadata": {
    "colab": {
     "base_uri": "https://localhost:8080/",
     "height": 73
    },
    "id": "jjiZtFjMoBtJ",
    "outputId": "92c55f1e-d736-499e-ae94-b6cb28841b6b"
   },
   "outputs": [],
   "source": [
    "# from google.colab import files\n",
    "# uploaded = files.upload()"
   ]
  },
  {
   "cell_type": "code",
   "execution_count": 4,
   "metadata": {
    "colab": {
     "base_uri": "https://localhost:8080/",
     "height": 73
    },
    "id": "gTG5ysJ5oWwZ",
    "outputId": "1e174161-54da-471f-fcf0-0c8c14afc313"
   },
   "outputs": [],
   "source": [
    "# from google.colab import files\n",
    "# uploaded = files.upload()"
   ]
  },
  {
   "cell_type": "code",
   "execution_count": 5,
   "metadata": {
    "colab": {
     "base_uri": "https://localhost:8080/",
     "height": 73
    },
    "id": "ZhYpK7PWoaUg",
    "outputId": "dfeb9de0-72e0-4fed-be28-0818bcfbb495"
   },
   "outputs": [],
   "source": [
    "# from google.colab import files\n",
    "# uploaded = files.upload()"
   ]
  },
  {
   "cell_type": "code",
   "execution_count": 6,
   "metadata": {
    "colab": {
     "base_uri": "https://localhost:8080/",
     "height": 73
    },
    "id": "dIRvbGYMonQ1",
    "outputId": "886100f0-a396-4a60-9aac-6e4d72419a5c"
   },
   "outputs": [],
   "source": [
    "# from google.colab import files\n",
    "# uploaded = files.upload()"
   ]
  },
  {
   "cell_type": "code",
   "execution_count": 7,
   "metadata": {},
   "outputs": [
    {
     "name": "stdout",
     "output_type": "stream",
     "text": [
      "Requirement already satisfied: prettytable in c:\\users\\water\\.conda\\envs\\aihc-py39\\lib\\site-packages (3.12.0)\n",
      "Requirement already satisfied: wcwidth in c:\\users\\water\\.conda\\envs\\aihc-py39\\lib\\site-packages (from prettytable) (0.2.5)\n"
     ]
    }
   ],
   "source": [
    "!pip install prettytable"
   ]
  },
  {
   "cell_type": "code",
   "execution_count": 8,
   "metadata": {
    "id": "uX-FPjC6ovts"
   },
   "outputs": [],
   "source": [
    "# Primary Admissions information\n",
    "# Add'.gz' if you uploaded .gz file\n",
    "df = pd.read_csv('ADMISSIONS.csv')\n",
    "# df = pd.read_csv('ADMISSIONS.csv.gz')\n",
    "\n",
    "# Patient specific info such as gender\n",
    "df_pat = pd.read_csv('PATIENTS.csv')\n",
    "\n",
    "# Diagnosis for each admission to hospital\n",
    "df_diagcode = pd.read_csv('DIAGNOSES_ICD.csv')\n",
    "\n",
    "# Intensive Care Unit (ICU) for each admission to hospital\n",
    "df_icu = pd.read_csv('ICUSTAYS.csv')"
   ]
  },
  {
   "cell_type": "markdown",
   "metadata": {
    "id": "GQyncmAaBnLE"
   },
   "source": [
    "**Feature Engineering: ADMISSIONS Table**"
   ]
  },
  {
   "cell_type": "code",
   "execution_count": 9,
   "metadata": {
    "colab": {
     "base_uri": "https://localhost:8080/"
    },
    "id": "WAbdC6xxaOhf",
    "outputId": "d1840613-d333-4677-cd52-2abe4ec9fe6c"
   },
   "outputs": [
    {
     "data": {
      "text/plain": [
       "['ROW_ID',\n",
       " 'SUBJECT_ID',\n",
       " 'HADM_ID',\n",
       " 'ADMITTIME',\n",
       " 'DISCHTIME',\n",
       " 'DEATHTIME',\n",
       " 'ADMISSION_TYPE',\n",
       " 'ADMISSION_LOCATION',\n",
       " 'DISCHARGE_LOCATION',\n",
       " 'INSURANCE',\n",
       " 'LANGUAGE',\n",
       " 'RELIGION',\n",
       " 'MARITAL_STATUS',\n",
       " 'ETHNICITY',\n",
       " 'EDREGTIME',\n",
       " 'EDOUTTIME',\n",
       " 'DIAGNOSIS',\n",
       " 'HOSPITAL_EXPIRE_FLAG',\n",
       " 'HAS_CHARTEVENTS_DATA']"
      ]
     },
     "execution_count": 9,
     "metadata": {},
     "output_type": "execute_result"
    }
   ],
   "source": [
    "list(df)"
   ]
  },
  {
   "cell_type": "code",
   "execution_count": 10,
   "metadata": {
    "colab": {
     "base_uri": "https://localhost:8080/"
    },
    "id": "7H0pLY2GoyTj",
    "outputId": "979720bc-cb3f-4f78-c358-e3d8d3db186f"
   },
   "outputs": [
    {
     "data": {
      "text/plain": [
       "HOSPITAL_EXPIRE_FLAG\n",
       "0    53122\n",
       "1     5854\n",
       "Name: count, dtype: int64"
      ]
     },
     "execution_count": 10,
     "metadata": {},
     "output_type": "execute_result"
    }
   ],
   "source": [
    "df[\"HOSPITAL_EXPIRE_FLAG\"].value_counts()"
   ]
  },
  {
   "cell_type": "code",
   "execution_count": 11,
   "metadata": {
    "colab": {
     "base_uri": "https://localhost:8080/"
    },
    "id": "fM4qkt_mo12p",
    "outputId": "3fa9df52-b70f-494c-cde7-51e48a472a9a"
   },
   "outputs": [
    {
     "name": "stdout",
     "output_type": "stream",
     "text": [
      "Dataset has 58976 number of unique admission events.\n",
      "Dataset has 46520 number of unique patients.\n"
     ]
    }
   ],
   "source": [
    "print('Dataset has {} number of unique admission events.'.format(df['HADM_ID'].nunique()))\n",
    "print('Dataset has {} number of unique patients.'.format(df['SUBJECT_ID'].nunique()))"
   ]
  },
  {
   "cell_type": "code",
   "execution_count": 12,
   "metadata": {
    "colab": {
     "base_uri": "https://localhost:8080/",
     "height": 400
    },
    "id": "XKeoZTMxo4c1",
    "outputId": "613271ef-eb17-4724-e8d4-a3af8b5f37e8"
   },
   "outputs": [
    {
     "data": {
      "text/html": [
       "<div>\n",
       "<style scoped>\n",
       "    .dataframe tbody tr th:only-of-type {\n",
       "        vertical-align: middle;\n",
       "    }\n",
       "\n",
       "    .dataframe tbody tr th {\n",
       "        vertical-align: top;\n",
       "    }\n",
       "\n",
       "    .dataframe thead th {\n",
       "        text-align: right;\n",
       "    }\n",
       "</style>\n",
       "<table border=\"1\" class=\"dataframe\">\n",
       "  <thead>\n",
       "    <tr style=\"text-align: right;\">\n",
       "      <th></th>\n",
       "      <th>ROW_ID</th>\n",
       "      <th>SUBJECT_ID</th>\n",
       "      <th>HADM_ID</th>\n",
       "      <th>ADMITTIME</th>\n",
       "      <th>DISCHTIME</th>\n",
       "      <th>DEATHTIME</th>\n",
       "      <th>ADMISSION_TYPE</th>\n",
       "      <th>ADMISSION_LOCATION</th>\n",
       "      <th>DISCHARGE_LOCATION</th>\n",
       "      <th>INSURANCE</th>\n",
       "      <th>LANGUAGE</th>\n",
       "      <th>RELIGION</th>\n",
       "      <th>MARITAL_STATUS</th>\n",
       "      <th>ETHNICITY</th>\n",
       "      <th>EDREGTIME</th>\n",
       "      <th>EDOUTTIME</th>\n",
       "      <th>DIAGNOSIS</th>\n",
       "      <th>HOSPITAL_EXPIRE_FLAG</th>\n",
       "      <th>HAS_CHARTEVENTS_DATA</th>\n",
       "    </tr>\n",
       "  </thead>\n",
       "  <tbody>\n",
       "    <tr>\n",
       "      <th>0</th>\n",
       "      <td>21</td>\n",
       "      <td>22</td>\n",
       "      <td>165315</td>\n",
       "      <td>2196-04-09 12:26:00</td>\n",
       "      <td>2196-04-10 15:54:00</td>\n",
       "      <td>NaN</td>\n",
       "      <td>EMERGENCY</td>\n",
       "      <td>EMERGENCY ROOM ADMIT</td>\n",
       "      <td>DISC-TRAN CANCER/CHLDRN H</td>\n",
       "      <td>Private</td>\n",
       "      <td>NaN</td>\n",
       "      <td>UNOBTAINABLE</td>\n",
       "      <td>MARRIED</td>\n",
       "      <td>WHITE</td>\n",
       "      <td>2196-04-09 10:06:00</td>\n",
       "      <td>2196-04-09 13:24:00</td>\n",
       "      <td>BENZODIAZEPINE OVERDOSE</td>\n",
       "      <td>0</td>\n",
       "      <td>1</td>\n",
       "    </tr>\n",
       "    <tr>\n",
       "      <th>1</th>\n",
       "      <td>22</td>\n",
       "      <td>23</td>\n",
       "      <td>152223</td>\n",
       "      <td>2153-09-03 07:15:00</td>\n",
       "      <td>2153-09-08 19:10:00</td>\n",
       "      <td>NaN</td>\n",
       "      <td>ELECTIVE</td>\n",
       "      <td>PHYS REFERRAL/NORMAL DELI</td>\n",
       "      <td>HOME HEALTH CARE</td>\n",
       "      <td>Medicare</td>\n",
       "      <td>NaN</td>\n",
       "      <td>CATHOLIC</td>\n",
       "      <td>MARRIED</td>\n",
       "      <td>WHITE</td>\n",
       "      <td>NaN</td>\n",
       "      <td>NaN</td>\n",
       "      <td>CORONARY ARTERY DISEASE\\CORONARY ARTERY BYPASS...</td>\n",
       "      <td>0</td>\n",
       "      <td>1</td>\n",
       "    </tr>\n",
       "    <tr>\n",
       "      <th>2</th>\n",
       "      <td>23</td>\n",
       "      <td>23</td>\n",
       "      <td>124321</td>\n",
       "      <td>2157-10-18 19:34:00</td>\n",
       "      <td>2157-10-25 14:00:00</td>\n",
       "      <td>NaN</td>\n",
       "      <td>EMERGENCY</td>\n",
       "      <td>TRANSFER FROM HOSP/EXTRAM</td>\n",
       "      <td>HOME HEALTH CARE</td>\n",
       "      <td>Medicare</td>\n",
       "      <td>ENGL</td>\n",
       "      <td>CATHOLIC</td>\n",
       "      <td>MARRIED</td>\n",
       "      <td>WHITE</td>\n",
       "      <td>NaN</td>\n",
       "      <td>NaN</td>\n",
       "      <td>BRAIN MASS</td>\n",
       "      <td>0</td>\n",
       "      <td>1</td>\n",
       "    </tr>\n",
       "    <tr>\n",
       "      <th>3</th>\n",
       "      <td>24</td>\n",
       "      <td>24</td>\n",
       "      <td>161859</td>\n",
       "      <td>2139-06-06 16:14:00</td>\n",
       "      <td>2139-06-09 12:48:00</td>\n",
       "      <td>NaN</td>\n",
       "      <td>EMERGENCY</td>\n",
       "      <td>TRANSFER FROM HOSP/EXTRAM</td>\n",
       "      <td>HOME</td>\n",
       "      <td>Private</td>\n",
       "      <td>NaN</td>\n",
       "      <td>PROTESTANT QUAKER</td>\n",
       "      <td>SINGLE</td>\n",
       "      <td>WHITE</td>\n",
       "      <td>NaN</td>\n",
       "      <td>NaN</td>\n",
       "      <td>INTERIOR MYOCARDIAL INFARCTION</td>\n",
       "      <td>0</td>\n",
       "      <td>1</td>\n",
       "    </tr>\n",
       "    <tr>\n",
       "      <th>4</th>\n",
       "      <td>25</td>\n",
       "      <td>25</td>\n",
       "      <td>129635</td>\n",
       "      <td>2160-11-02 02:06:00</td>\n",
       "      <td>2160-11-05 14:55:00</td>\n",
       "      <td>NaN</td>\n",
       "      <td>EMERGENCY</td>\n",
       "      <td>EMERGENCY ROOM ADMIT</td>\n",
       "      <td>HOME</td>\n",
       "      <td>Private</td>\n",
       "      <td>NaN</td>\n",
       "      <td>UNOBTAINABLE</td>\n",
       "      <td>MARRIED</td>\n",
       "      <td>WHITE</td>\n",
       "      <td>2160-11-02 01:01:00</td>\n",
       "      <td>2160-11-02 04:27:00</td>\n",
       "      <td>ACUTE CORONARY SYNDROME</td>\n",
       "      <td>0</td>\n",
       "      <td>1</td>\n",
       "    </tr>\n",
       "  </tbody>\n",
       "</table>\n",
       "</div>"
      ],
      "text/plain": [
       "   ROW_ID  SUBJECT_ID  HADM_ID            ADMITTIME            DISCHTIME  \\\n",
       "0      21          22   165315  2196-04-09 12:26:00  2196-04-10 15:54:00   \n",
       "1      22          23   152223  2153-09-03 07:15:00  2153-09-08 19:10:00   \n",
       "2      23          23   124321  2157-10-18 19:34:00  2157-10-25 14:00:00   \n",
       "3      24          24   161859  2139-06-06 16:14:00  2139-06-09 12:48:00   \n",
       "4      25          25   129635  2160-11-02 02:06:00  2160-11-05 14:55:00   \n",
       "\n",
       "  DEATHTIME ADMISSION_TYPE         ADMISSION_LOCATION  \\\n",
       "0       NaN      EMERGENCY       EMERGENCY ROOM ADMIT   \n",
       "1       NaN       ELECTIVE  PHYS REFERRAL/NORMAL DELI   \n",
       "2       NaN      EMERGENCY  TRANSFER FROM HOSP/EXTRAM   \n",
       "3       NaN      EMERGENCY  TRANSFER FROM HOSP/EXTRAM   \n",
       "4       NaN      EMERGENCY       EMERGENCY ROOM ADMIT   \n",
       "\n",
       "          DISCHARGE_LOCATION INSURANCE LANGUAGE           RELIGION  \\\n",
       "0  DISC-TRAN CANCER/CHLDRN H   Private      NaN       UNOBTAINABLE   \n",
       "1           HOME HEALTH CARE  Medicare      NaN           CATHOLIC   \n",
       "2           HOME HEALTH CARE  Medicare     ENGL           CATHOLIC   \n",
       "3                       HOME   Private      NaN  PROTESTANT QUAKER   \n",
       "4                       HOME   Private      NaN       UNOBTAINABLE   \n",
       "\n",
       "  MARITAL_STATUS ETHNICITY            EDREGTIME            EDOUTTIME  \\\n",
       "0        MARRIED     WHITE  2196-04-09 10:06:00  2196-04-09 13:24:00   \n",
       "1        MARRIED     WHITE                  NaN                  NaN   \n",
       "2        MARRIED     WHITE                  NaN                  NaN   \n",
       "3         SINGLE     WHITE                  NaN                  NaN   \n",
       "4        MARRIED     WHITE  2160-11-02 01:01:00  2160-11-02 04:27:00   \n",
       "\n",
       "                                           DIAGNOSIS  HOSPITAL_EXPIRE_FLAG  \\\n",
       "0                            BENZODIAZEPINE OVERDOSE                     0   \n",
       "1  CORONARY ARTERY DISEASE\\CORONARY ARTERY BYPASS...                     0   \n",
       "2                                         BRAIN MASS                     0   \n",
       "3                     INTERIOR MYOCARDIAL INFARCTION                     0   \n",
       "4                            ACUTE CORONARY SYNDROME                     0   \n",
       "\n",
       "   HAS_CHARTEVENTS_DATA  \n",
       "0                     1  \n",
       "1                     1  \n",
       "2                     1  \n",
       "3                     1  \n",
       "4                     1  "
      ]
     },
     "execution_count": 12,
     "metadata": {},
     "output_type": "execute_result"
    }
   ],
   "source": [
    "df.head()"
   ]
  },
  {
   "cell_type": "code",
   "execution_count": 13,
   "metadata": {
    "id": "gPRhxQrbo7i5"
   },
   "outputs": [],
   "source": [
    "# # Convert admission and discharge times to datatime type\n",
    "# df['ADMITTIME'] = pd.to_datetime(df['ADMITTIME'])\n",
    "# df['DISCHTIME'] = pd.to_datetime(df['DISCHTIME'])\n",
    "\n",
    "# # Convert timedelta type into float 'days', 86400 seconds in a day\n",
    "# df['LOS'] = (df['DISCHTIME'] - df['ADMITTIME']).dt.total_seconds()/86400"
   ]
  },
  {
   "cell_type": "code",
   "execution_count": 14,
   "metadata": {
    "colab": {
     "base_uri": "https://localhost:8080/",
     "height": 206
    },
    "id": "HOHzkPhmo-sj",
    "outputId": "6974f249-392e-4e9c-dded-56d5a9c39ca9"
   },
   "outputs": [],
   "source": [
    "# # Verify\n",
    "# df[['ADMITTIME', 'DISCHTIME', 'LOS']].head()"
   ]
  },
  {
   "cell_type": "code",
   "execution_count": 15,
   "metadata": {
    "colab": {
     "base_uri": "https://localhost:8080/"
    },
    "id": "4fDRgZ11pCh_",
    "outputId": "721309de-4500-40c4-8549-3967fd0d9dba"
   },
   "outputs": [],
   "source": [
    "# df['LOS'].describe()"
   ]
  },
  {
   "cell_type": "code",
   "execution_count": 16,
   "metadata": {
    "colab": {
     "base_uri": "https://localhost:8080/",
     "height": 808
    },
    "id": "4DINudQFpGJk",
    "outputId": "b84d597b-e942-447f-be8e-96e21e39499a"
   },
   "outputs": [],
   "source": [
    "# Look at what is happening with negative LOS values\n",
    "# df[df['LOS'] < 0]"
   ]
  },
  {
   "cell_type": "code",
   "execution_count": 17,
   "metadata": {
    "colab": {
     "base_uri": "https://localhost:8080/"
    },
    "id": "z-qiu4N0pMW-",
    "outputId": "c6984f45-cd05-4249-aaf7-c95f6563f048"
   },
   "outputs": [],
   "source": [
    "# Drop rows with negative LOS, usually related to a time of death before admission\n",
    "# df['LOS'][df['LOS'] > 0].describe()"
   ]
  },
  {
   "cell_type": "code",
   "execution_count": 18,
   "metadata": {
    "id": "lmobRrA1pQNf"
   },
   "outputs": [],
   "source": [
    "# Drop LOS < 0\n",
    "# df = df[df['LOS'] > 0]"
   ]
  },
  {
   "cell_type": "code",
   "execution_count": 19,
   "metadata": {
    "colab": {
     "base_uri": "https://localhost:8080/",
     "height": 493
    },
    "id": "KY-2Jb01pSkY",
    "outputId": "1d07455b-3cf6-441e-8721-0e751549abae"
   },
   "outputs": [],
   "source": [
    "# # Plot LOS Distribution\n",
    "# plt.hist(df['LOS'], bins=200, color = '#55a868')\n",
    "# plt.xlim(0, 50)\n",
    "# plt.title('Distribution of LOS for all hospital admissions \\n incl. deceased')\n",
    "# plt.ylabel('Count')\n",
    "# plt.xlabel('Length-of-Stay (days)')\n",
    "# plt.tick_params(top=False, right=False)\n",
    "# plt.show();"
   ]
  },
  {
   "cell_type": "code",
   "execution_count": 20,
   "metadata": {
    "id": "4gY8yQPlpXQO"
   },
   "outputs": [],
   "source": [
    "# Pre-emptively drop some columns that I don't need anymore\n",
    "df.drop(columns=['DISCHTIME', 'ROW_ID',\n",
    "                'EDREGTIME', 'EDOUTTIME', 'HOSPITAL_EXPIRE_FLAG',\n",
    "                'HAS_CHARTEVENTS_DATA'], inplace=True)"
   ]
  },
  {
   "cell_type": "code",
   "execution_count": 21,
   "metadata": {
    "id": "09e8856_pcnU"
   },
   "outputs": [],
   "source": [
    "# Mark admissions where patients died in boolean column\n",
    "df['DECEASED'] = df['DEATHTIME'].notnull().map({True:1, False:0})"
   ]
  },
  {
   "cell_type": "code",
   "execution_count": 22,
   "metadata": {
    "colab": {
     "base_uri": "https://localhost:8080/"
    },
    "id": "-tPfoJ8OpftB",
    "outputId": "5ddb9d3f-7842-498a-8a00-d51bec62dd7d"
   },
   "outputs": [
    {
     "name": "stdout",
     "output_type": "stream",
     "text": [
      "5854 of 46520 patients died in the hospital\n"
     ]
    }
   ],
   "source": [
    "print(\"{} of {} patients died in the hospital\".format(df['DECEASED'].sum(),\n",
    "                                                     df['SUBJECT_ID'].nunique()))"
   ]
  },
  {
   "cell_type": "code",
   "execution_count": 23,
   "metadata": {
    "colab": {
     "base_uri": "https://localhost:8080/",
     "height": 400
    },
    "id": "M8X457foWeiU",
    "outputId": "ff86c7fb-bf7b-4d1c-bd48-d8efb962f4a6"
   },
   "outputs": [
    {
     "data": {
      "text/html": [
       "<div>\n",
       "<style scoped>\n",
       "    .dataframe tbody tr th:only-of-type {\n",
       "        vertical-align: middle;\n",
       "    }\n",
       "\n",
       "    .dataframe tbody tr th {\n",
       "        vertical-align: top;\n",
       "    }\n",
       "\n",
       "    .dataframe thead th {\n",
       "        text-align: right;\n",
       "    }\n",
       "</style>\n",
       "<table border=\"1\" class=\"dataframe\">\n",
       "  <thead>\n",
       "    <tr style=\"text-align: right;\">\n",
       "      <th></th>\n",
       "      <th>SUBJECT_ID</th>\n",
       "      <th>HADM_ID</th>\n",
       "      <th>ADMITTIME</th>\n",
       "      <th>DEATHTIME</th>\n",
       "      <th>ADMISSION_TYPE</th>\n",
       "      <th>ADMISSION_LOCATION</th>\n",
       "      <th>DISCHARGE_LOCATION</th>\n",
       "      <th>INSURANCE</th>\n",
       "      <th>LANGUAGE</th>\n",
       "      <th>RELIGION</th>\n",
       "      <th>MARITAL_STATUS</th>\n",
       "      <th>ETHNICITY</th>\n",
       "      <th>DIAGNOSIS</th>\n",
       "      <th>DECEASED</th>\n",
       "    </tr>\n",
       "  </thead>\n",
       "  <tbody>\n",
       "    <tr>\n",
       "      <th>0</th>\n",
       "      <td>22</td>\n",
       "      <td>165315</td>\n",
       "      <td>2196-04-09 12:26:00</td>\n",
       "      <td>NaN</td>\n",
       "      <td>EMERGENCY</td>\n",
       "      <td>EMERGENCY ROOM ADMIT</td>\n",
       "      <td>DISC-TRAN CANCER/CHLDRN H</td>\n",
       "      <td>Private</td>\n",
       "      <td>NaN</td>\n",
       "      <td>UNOBTAINABLE</td>\n",
       "      <td>MARRIED</td>\n",
       "      <td>WHITE</td>\n",
       "      <td>BENZODIAZEPINE OVERDOSE</td>\n",
       "      <td>0</td>\n",
       "    </tr>\n",
       "    <tr>\n",
       "      <th>1</th>\n",
       "      <td>23</td>\n",
       "      <td>152223</td>\n",
       "      <td>2153-09-03 07:15:00</td>\n",
       "      <td>NaN</td>\n",
       "      <td>ELECTIVE</td>\n",
       "      <td>PHYS REFERRAL/NORMAL DELI</td>\n",
       "      <td>HOME HEALTH CARE</td>\n",
       "      <td>Medicare</td>\n",
       "      <td>NaN</td>\n",
       "      <td>CATHOLIC</td>\n",
       "      <td>MARRIED</td>\n",
       "      <td>WHITE</td>\n",
       "      <td>CORONARY ARTERY DISEASE\\CORONARY ARTERY BYPASS...</td>\n",
       "      <td>0</td>\n",
       "    </tr>\n",
       "    <tr>\n",
       "      <th>2</th>\n",
       "      <td>23</td>\n",
       "      <td>124321</td>\n",
       "      <td>2157-10-18 19:34:00</td>\n",
       "      <td>NaN</td>\n",
       "      <td>EMERGENCY</td>\n",
       "      <td>TRANSFER FROM HOSP/EXTRAM</td>\n",
       "      <td>HOME HEALTH CARE</td>\n",
       "      <td>Medicare</td>\n",
       "      <td>ENGL</td>\n",
       "      <td>CATHOLIC</td>\n",
       "      <td>MARRIED</td>\n",
       "      <td>WHITE</td>\n",
       "      <td>BRAIN MASS</td>\n",
       "      <td>0</td>\n",
       "    </tr>\n",
       "    <tr>\n",
       "      <th>3</th>\n",
       "      <td>24</td>\n",
       "      <td>161859</td>\n",
       "      <td>2139-06-06 16:14:00</td>\n",
       "      <td>NaN</td>\n",
       "      <td>EMERGENCY</td>\n",
       "      <td>TRANSFER FROM HOSP/EXTRAM</td>\n",
       "      <td>HOME</td>\n",
       "      <td>Private</td>\n",
       "      <td>NaN</td>\n",
       "      <td>PROTESTANT QUAKER</td>\n",
       "      <td>SINGLE</td>\n",
       "      <td>WHITE</td>\n",
       "      <td>INTERIOR MYOCARDIAL INFARCTION</td>\n",
       "      <td>0</td>\n",
       "    </tr>\n",
       "    <tr>\n",
       "      <th>4</th>\n",
       "      <td>25</td>\n",
       "      <td>129635</td>\n",
       "      <td>2160-11-02 02:06:00</td>\n",
       "      <td>NaN</td>\n",
       "      <td>EMERGENCY</td>\n",
       "      <td>EMERGENCY ROOM ADMIT</td>\n",
       "      <td>HOME</td>\n",
       "      <td>Private</td>\n",
       "      <td>NaN</td>\n",
       "      <td>UNOBTAINABLE</td>\n",
       "      <td>MARRIED</td>\n",
       "      <td>WHITE</td>\n",
       "      <td>ACUTE CORONARY SYNDROME</td>\n",
       "      <td>0</td>\n",
       "    </tr>\n",
       "  </tbody>\n",
       "</table>\n",
       "</div>"
      ],
      "text/plain": [
       "   SUBJECT_ID  HADM_ID            ADMITTIME DEATHTIME ADMISSION_TYPE  \\\n",
       "0          22   165315  2196-04-09 12:26:00       NaN      EMERGENCY   \n",
       "1          23   152223  2153-09-03 07:15:00       NaN       ELECTIVE   \n",
       "2          23   124321  2157-10-18 19:34:00       NaN      EMERGENCY   \n",
       "3          24   161859  2139-06-06 16:14:00       NaN      EMERGENCY   \n",
       "4          25   129635  2160-11-02 02:06:00       NaN      EMERGENCY   \n",
       "\n",
       "          ADMISSION_LOCATION         DISCHARGE_LOCATION INSURANCE LANGUAGE  \\\n",
       "0       EMERGENCY ROOM ADMIT  DISC-TRAN CANCER/CHLDRN H   Private      NaN   \n",
       "1  PHYS REFERRAL/NORMAL DELI           HOME HEALTH CARE  Medicare      NaN   \n",
       "2  TRANSFER FROM HOSP/EXTRAM           HOME HEALTH CARE  Medicare     ENGL   \n",
       "3  TRANSFER FROM HOSP/EXTRAM                       HOME   Private      NaN   \n",
       "4       EMERGENCY ROOM ADMIT                       HOME   Private      NaN   \n",
       "\n",
       "            RELIGION MARITAL_STATUS ETHNICITY  \\\n",
       "0       UNOBTAINABLE        MARRIED     WHITE   \n",
       "1           CATHOLIC        MARRIED     WHITE   \n",
       "2           CATHOLIC        MARRIED     WHITE   \n",
       "3  PROTESTANT QUAKER         SINGLE     WHITE   \n",
       "4       UNOBTAINABLE        MARRIED     WHITE   \n",
       "\n",
       "                                           DIAGNOSIS  DECEASED  \n",
       "0                            BENZODIAZEPINE OVERDOSE         0  \n",
       "1  CORONARY ARTERY DISEASE\\CORONARY ARTERY BYPASS...         0  \n",
       "2                                         BRAIN MASS         0  \n",
       "3                     INTERIOR MYOCARDIAL INFARCTION         0  \n",
       "4                            ACUTE CORONARY SYNDROME         0  "
      ]
     },
     "execution_count": 23,
     "metadata": {},
     "output_type": "execute_result"
    }
   ],
   "source": [
    "df.head()"
   ]
  },
  {
   "cell_type": "code",
   "execution_count": 24,
   "metadata": {
    "colab": {
     "base_uri": "https://localhost:8080/"
    },
    "id": "L4R1UAzlW2UP",
    "outputId": "c60b0f7c-b4b5-4614-8b4c-2c793e79f21e"
   },
   "outputs": [
    {
     "data": {
      "text/plain": [
       "count    5854.0\n",
       "mean        1.0\n",
       "std         0.0\n",
       "min         1.0\n",
       "25%         1.0\n",
       "50%         1.0\n",
       "75%         1.0\n",
       "max         1.0\n",
       "Name: DECEASED, dtype: float64"
      ]
     },
     "execution_count": 24,
     "metadata": {},
     "output_type": "execute_result"
    }
   ],
   "source": [
    "df['DECEASED'][df['DECEASED']== 1].describe()"
   ]
  },
  {
   "cell_type": "code",
   "execution_count": 25,
   "metadata": {
    "colab": {
     "base_uri": "https://localhost:8080/",
     "height": 400
    },
    "id": "PEM8WRdYYOhI",
    "outputId": "96f888f8-a897-433c-dfb8-b8734dcc902a"
   },
   "outputs": [
    {
     "data": {
      "text/html": [
       "<div>\n",
       "<style scoped>\n",
       "    .dataframe tbody tr th:only-of-type {\n",
       "        vertical-align: middle;\n",
       "    }\n",
       "\n",
       "    .dataframe tbody tr th {\n",
       "        vertical-align: top;\n",
       "    }\n",
       "\n",
       "    .dataframe thead th {\n",
       "        text-align: right;\n",
       "    }\n",
       "</style>\n",
       "<table border=\"1\" class=\"dataframe\">\n",
       "  <thead>\n",
       "    <tr style=\"text-align: right;\">\n",
       "      <th></th>\n",
       "      <th>SUBJECT_ID</th>\n",
       "      <th>HADM_ID</th>\n",
       "      <th>ADMITTIME</th>\n",
       "      <th>DEATHTIME</th>\n",
       "      <th>ADMISSION_TYPE</th>\n",
       "      <th>ADMISSION_LOCATION</th>\n",
       "      <th>DISCHARGE_LOCATION</th>\n",
       "      <th>INSURANCE</th>\n",
       "      <th>LANGUAGE</th>\n",
       "      <th>RELIGION</th>\n",
       "      <th>MARITAL_STATUS</th>\n",
       "      <th>ETHNICITY</th>\n",
       "      <th>DIAGNOSIS</th>\n",
       "      <th>DECEASED</th>\n",
       "    </tr>\n",
       "  </thead>\n",
       "  <tbody>\n",
       "    <tr>\n",
       "      <th>9</th>\n",
       "      <td>31</td>\n",
       "      <td>128652</td>\n",
       "      <td>2108-08-22 23:27:00</td>\n",
       "      <td>2108-08-30 15:00:00</td>\n",
       "      <td>EMERGENCY</td>\n",
       "      <td>TRANSFER FROM HOSP/EXTRAM</td>\n",
       "      <td>DEAD/EXPIRED</td>\n",
       "      <td>Medicare</td>\n",
       "      <td>NaN</td>\n",
       "      <td>CATHOLIC</td>\n",
       "      <td>MARRIED</td>\n",
       "      <td>WHITE</td>\n",
       "      <td>STATUS EPILEPTICUS</td>\n",
       "      <td>1</td>\n",
       "    </tr>\n",
       "    <tr>\n",
       "      <th>57</th>\n",
       "      <td>56</td>\n",
       "      <td>181711</td>\n",
       "      <td>2104-01-02 02:01:00</td>\n",
       "      <td>2104-01-08 10:30:00</td>\n",
       "      <td>EMERGENCY</td>\n",
       "      <td>EMERGENCY ROOM ADMIT</td>\n",
       "      <td>DEAD/EXPIRED</td>\n",
       "      <td>Medicare</td>\n",
       "      <td>NaN</td>\n",
       "      <td>NOT SPECIFIED</td>\n",
       "      <td>NaN</td>\n",
       "      <td>WHITE</td>\n",
       "      <td>HEAD BLEED</td>\n",
       "      <td>1</td>\n",
       "    </tr>\n",
       "    <tr>\n",
       "      <th>63</th>\n",
       "      <td>61</td>\n",
       "      <td>189535</td>\n",
       "      <td>2119-01-04 18:12:00</td>\n",
       "      <td>2119-02-03 01:35:00</td>\n",
       "      <td>EMERGENCY</td>\n",
       "      <td>CLINIC REFERRAL/PREMATURE</td>\n",
       "      <td>DEAD/EXPIRED</td>\n",
       "      <td>Private</td>\n",
       "      <td>NaN</td>\n",
       "      <td>CATHOLIC</td>\n",
       "      <td>MARRIED</td>\n",
       "      <td>WHITE</td>\n",
       "      <td>NON-HODGKINS LYMPHOMA;FEBRILE;NEUTROPENIA</td>\n",
       "      <td>1</td>\n",
       "    </tr>\n",
       "    <tr>\n",
       "      <th>70</th>\n",
       "      <td>67</td>\n",
       "      <td>155252</td>\n",
       "      <td>2157-12-02 00:45:00</td>\n",
       "      <td>2157-12-02 03:55:00</td>\n",
       "      <td>EMERGENCY</td>\n",
       "      <td>EMERGENCY ROOM ADMIT</td>\n",
       "      <td>DEAD/EXPIRED</td>\n",
       "      <td>Medicare</td>\n",
       "      <td>NaN</td>\n",
       "      <td>JEWISH</td>\n",
       "      <td>SINGLE</td>\n",
       "      <td>WHITE</td>\n",
       "      <td>SUBARACHNOID HEMORRHAGE</td>\n",
       "      <td>1</td>\n",
       "    </tr>\n",
       "    <tr>\n",
       "      <th>88</th>\n",
       "      <td>84</td>\n",
       "      <td>166401</td>\n",
       "      <td>2196-04-14 04:02:00</td>\n",
       "      <td>2196-04-17 13:42:00</td>\n",
       "      <td>EMERGENCY</td>\n",
       "      <td>EMERGENCY ROOM ADMIT</td>\n",
       "      <td>DEAD/EXPIRED</td>\n",
       "      <td>Private</td>\n",
       "      <td>NaN</td>\n",
       "      <td>OTHER</td>\n",
       "      <td>MARRIED</td>\n",
       "      <td>WHITE</td>\n",
       "      <td>GLIOBLASTOMA,NAUSEA</td>\n",
       "      <td>1</td>\n",
       "    </tr>\n",
       "  </tbody>\n",
       "</table>\n",
       "</div>"
      ],
      "text/plain": [
       "    SUBJECT_ID  HADM_ID            ADMITTIME            DEATHTIME  \\\n",
       "9           31   128652  2108-08-22 23:27:00  2108-08-30 15:00:00   \n",
       "57          56   181711  2104-01-02 02:01:00  2104-01-08 10:30:00   \n",
       "63          61   189535  2119-01-04 18:12:00  2119-02-03 01:35:00   \n",
       "70          67   155252  2157-12-02 00:45:00  2157-12-02 03:55:00   \n",
       "88          84   166401  2196-04-14 04:02:00  2196-04-17 13:42:00   \n",
       "\n",
       "   ADMISSION_TYPE         ADMISSION_LOCATION DISCHARGE_LOCATION INSURANCE  \\\n",
       "9       EMERGENCY  TRANSFER FROM HOSP/EXTRAM       DEAD/EXPIRED  Medicare   \n",
       "57      EMERGENCY       EMERGENCY ROOM ADMIT       DEAD/EXPIRED  Medicare   \n",
       "63      EMERGENCY  CLINIC REFERRAL/PREMATURE       DEAD/EXPIRED   Private   \n",
       "70      EMERGENCY       EMERGENCY ROOM ADMIT       DEAD/EXPIRED  Medicare   \n",
       "88      EMERGENCY       EMERGENCY ROOM ADMIT       DEAD/EXPIRED   Private   \n",
       "\n",
       "   LANGUAGE       RELIGION MARITAL_STATUS ETHNICITY  \\\n",
       "9       NaN       CATHOLIC        MARRIED     WHITE   \n",
       "57      NaN  NOT SPECIFIED            NaN     WHITE   \n",
       "63      NaN       CATHOLIC        MARRIED     WHITE   \n",
       "70      NaN         JEWISH         SINGLE     WHITE   \n",
       "88      NaN          OTHER        MARRIED     WHITE   \n",
       "\n",
       "                                    DIAGNOSIS  DECEASED  \n",
       "9                          STATUS EPILEPTICUS         1  \n",
       "57                                 HEAD BLEED         1  \n",
       "63  NON-HODGKINS LYMPHOMA;FEBRILE;NEUTROPENIA         1  \n",
       "70                    SUBARACHNOID HEMORRHAGE         1  \n",
       "88                        GLIOBLASTOMA,NAUSEA         1  "
      ]
     },
     "execution_count": 25,
     "metadata": {},
     "output_type": "execute_result"
    }
   ],
   "source": [
    "df[df['DECEASED']==1].head()\n"
   ]
  },
  {
   "cell_type": "code",
   "execution_count": 26,
   "metadata": {
    "colab": {
     "base_uri": "https://localhost:8080/"
    },
    "id": "gACeNKGvpiLg",
    "outputId": "26101b70-4011-46dc-ce21-7ba1743cad3c"
   },
   "outputs": [],
   "source": [
    "# Look at statistics less admissions resulting in death\n",
    "# df['LOS'].loc[df['DECEASED'] == 0].describe()"
   ]
  },
  {
   "cell_type": "code",
   "execution_count": 27,
   "metadata": {
    "colab": {
     "base_uri": "https://localhost:8080/"
    },
    "id": "Epp6mUcRppcn",
    "outputId": "b1f3497b-311d-466f-f986-71905d46f504"
   },
   "outputs": [],
   "source": [
    "# # Hospital LOS metrics for later comparison\n",
    "# actual_mean_los = df['LOS'].loc[df['DECEASED'] == 0].mean()\n",
    "# actual_median_los = df['LOS'].loc[df['DECEASED'] == 0].median()\n",
    "\n",
    "# print(actual_mean_los)\n",
    "# print(actual_median_los)"
   ]
  },
  {
   "cell_type": "code",
   "execution_count": 28,
   "metadata": {
    "colab": {
     "base_uri": "https://localhost:8080/",
     "height": 472
    },
    "id": "1upWdxMBptEQ",
    "outputId": "8dc5ca96-1abb-426a-c278-67bdad4646c2"
   },
   "outputs": [],
   "source": [
    "# plt.hist(df['LOS'].loc[df['DECEASED'] == 0], bins=200, color = '#55a868')\n",
    "# plt.xlim(0, 50)\n",
    "# plt.title('Distribution of LOS for hospital admissions')\n",
    "# plt.ylabel('Count')\n",
    "# plt.xlabel('Length-of-Stay (days)')\n",
    "# plt.tick_params(top=False, right=False)\n",
    "# plt.show();"
   ]
  },
  {
   "cell_type": "code",
   "execution_count": 29,
   "metadata": {
    "colab": {
     "base_uri": "https://localhost:8080/"
    },
    "id": "lOnLkCuup0Ed",
    "outputId": "b39a6195-3cc3-4a75-b8ed-93d79b909cec"
   },
   "outputs": [
    {
     "data": {
      "text/plain": [
       "ETHNICITY\n",
       "WHITE                                                       40996\n",
       "BLACK/AFRICAN AMERICAN                                       5440\n",
       "UNKNOWN/NOT SPECIFIED                                        4523\n",
       "HISPANIC OR LATINO                                           1696\n",
       "OTHER                                                        1512\n",
       "ASIAN                                                        1509\n",
       "UNABLE TO OBTAIN                                              814\n",
       "PATIENT DECLINED TO ANSWER                                    559\n",
       "ASIAN - CHINESE                                               277\n",
       "HISPANIC/LATINO - PUERTO RICAN                                232\n",
       "BLACK/CAPE VERDEAN                                            200\n",
       "WHITE - RUSSIAN                                               164\n",
       "MULTI RACE ETHNICITY                                          130\n",
       "BLACK/HAITIAN                                                 101\n",
       "ASIAN - ASIAN INDIAN                                           85\n",
       "WHITE - OTHER EUROPEAN                                         81\n",
       "HISPANIC/LATINO - DOMINICAN                                    78\n",
       "PORTUGUESE                                                     61\n",
       "WHITE - BRAZILIAN                                              59\n",
       "ASIAN - VIETNAMESE                                             53\n",
       "AMERICAN INDIAN/ALASKA NATIVE                                  51\n",
       "BLACK/AFRICAN                                                  44\n",
       "MIDDLE EASTERN                                                 43\n",
       "HISPANIC/LATINO - GUATEMALAN                                   40\n",
       "WHITE - EASTERN EUROPEAN                                       25\n",
       "ASIAN - FILIPINO                                               25\n",
       "HISPANIC/LATINO - CUBAN                                        24\n",
       "HISPANIC/LATINO - SALVADORAN                                   19\n",
       "NATIVE HAWAIIAN OR OTHER PACIFIC ISLANDER                      18\n",
       "ASIAN - CAMBODIAN                                              17\n",
       "ASIAN - OTHER                                                  17\n",
       "HISPANIC/LATINO - MEXICAN                                      13\n",
       "HISPANIC/LATINO - CENTRAL AMERICAN (OTHER)                     13\n",
       "ASIAN - KOREAN                                                 13\n",
       "CARIBBEAN ISLAND                                                9\n",
       "HISPANIC/LATINO - COLOMBIAN                                     9\n",
       "SOUTH AMERICAN                                                  8\n",
       "ASIAN - JAPANESE                                                7\n",
       "ASIAN - THAI                                                    4\n",
       "HISPANIC/LATINO - HONDURAN                                      4\n",
       "AMERICAN INDIAN/ALASKA NATIVE FEDERALLY RECOGNIZED TRIBE        3\n",
       "Name: count, dtype: int64"
      ]
     },
     "execution_count": 29,
     "metadata": {},
     "output_type": "execute_result"
    }
   ],
   "source": [
    "df['ETHNICITY'].value_counts()"
   ]
  },
  {
   "cell_type": "code",
   "execution_count": 30,
   "metadata": {
    "colab": {
     "base_uri": "https://localhost:8080/"
    },
    "id": "az9Y5mCbp1ON",
    "outputId": "fa1454b6-3ba9-4f48-a50b-9d0740453630"
   },
   "outputs": [
    {
     "name": "stderr",
     "output_type": "stream",
     "text": [
      "C:\\Users\\Water\\AppData\\Local\\Temp\\ipykernel_22280\\1325925633.py:2: FutureWarning: A value is trying to be set on a copy of a DataFrame or Series through chained assignment using an inplace method.\n",
      "The behavior will change in pandas 3.0. This inplace method will never work because the intermediate object on which we are setting values always behaves as a copy.\n",
      "\n",
      "For example, when doing 'df[col].method(value, inplace=True)', try using 'df.method({col: value}, inplace=True)' or df[col] = df[col].method(value) instead, to perform the operation inplace on the original object.\n",
      "\n",
      "\n",
      "  df['ETHNICITY'].replace(regex=r'^ASIAN\\D*', value='ASIAN', inplace=True)\n",
      "C:\\Users\\Water\\AppData\\Local\\Temp\\ipykernel_22280\\1325925633.py:3: FutureWarning: A value is trying to be set on a copy of a DataFrame or Series through chained assignment using an inplace method.\n",
      "The behavior will change in pandas 3.0. This inplace method will never work because the intermediate object on which we are setting values always behaves as a copy.\n",
      "\n",
      "For example, when doing 'df[col].method(value, inplace=True)', try using 'df.method({col: value}, inplace=True)' or df[col] = df[col].method(value) instead, to perform the operation inplace on the original object.\n",
      "\n",
      "\n",
      "  df['ETHNICITY'].replace(regex=r'^WHITE\\D*', value='WHITE', inplace=True)\n",
      "C:\\Users\\Water\\AppData\\Local\\Temp\\ipykernel_22280\\1325925633.py:4: FutureWarning: A value is trying to be set on a copy of a DataFrame or Series through chained assignment using an inplace method.\n",
      "The behavior will change in pandas 3.0. This inplace method will never work because the intermediate object on which we are setting values always behaves as a copy.\n",
      "\n",
      "For example, when doing 'df[col].method(value, inplace=True)', try using 'df.method({col: value}, inplace=True)' or df[col] = df[col].method(value) instead, to perform the operation inplace on the original object.\n",
      "\n",
      "\n",
      "  df['ETHNICITY'].replace(regex=r'^HISPANIC\\D*', value='HISPANIC/LATINO', inplace=True)\n",
      "C:\\Users\\Water\\AppData\\Local\\Temp\\ipykernel_22280\\1325925633.py:5: FutureWarning: A value is trying to be set on a copy of a DataFrame or Series through chained assignment using an inplace method.\n",
      "The behavior will change in pandas 3.0. This inplace method will never work because the intermediate object on which we are setting values always behaves as a copy.\n",
      "\n",
      "For example, when doing 'df[col].method(value, inplace=True)', try using 'df.method({col: value}, inplace=True)' or df[col] = df[col].method(value) instead, to perform the operation inplace on the original object.\n",
      "\n",
      "\n",
      "  df['ETHNICITY'].replace(regex=r'^BLACK\\D*', value='BLACK/AFRICAN AMERICAN', inplace=True)\n",
      "C:\\Users\\Water\\AppData\\Local\\Temp\\ipykernel_22280\\1325925633.py:6: FutureWarning: A value is trying to be set on a copy of a DataFrame or Series through chained assignment using an inplace method.\n",
      "The behavior will change in pandas 3.0. This inplace method will never work because the intermediate object on which we are setting values always behaves as a copy.\n",
      "\n",
      "For example, when doing 'df[col].method(value, inplace=True)', try using 'df.method({col: value}, inplace=True)' or df[col] = df[col].method(value) instead, to perform the operation inplace on the original object.\n",
      "\n",
      "\n",
      "  df['ETHNICITY'].replace(['UNABLE TO OBTAIN', 'OTHER', 'PATIENT DECLINED TO ANSWER',\n",
      "C:\\Users\\Water\\AppData\\Local\\Temp\\ipykernel_22280\\1325925633.py:8: FutureWarning: ChainedAssignmentError: behaviour will change in pandas 3.0!\n",
      "You are setting values through chained assignment. Currently this works in certain cases, but when using Copy-on-Write (which will become the default behaviour in pandas 3.0) this will never work to update the original DataFrame or Series, because the intermediate object on which we are setting values will behave as a copy.\n",
      "A typical example is when you are setting values in a column of a DataFrame, like:\n",
      "\n",
      "df[\"col\"][row_indexer] = value\n",
      "\n",
      "Use `df.loc[row_indexer, \"col\"] = values` instead, to perform the assignment in a single step and ensure this keeps updating the original `df`.\n",
      "\n",
      "See the caveats in the documentation: https://pandas.pydata.org/pandas-docs/stable/user_guide/indexing.html#returning-a-view-versus-a-copy\n",
      "\n",
      "  df['ETHNICITY'].loc[~df['ETHNICITY'].isin(df['ETHNICITY'].value_counts().nlargest(5).index.tolist())] = 'OTHER/UNKNOWN'\n"
     ]
    },
    {
     "data": {
      "text/plain": [
       "ETHNICITY\n",
       "WHITE                     41325\n",
       "OTHER/UNKNOWN              7731\n",
       "BLACK/AFRICAN AMERICAN     5785\n",
       "HISPANIC/LATINO            2128\n",
       "ASIAN                      2007\n",
       "Name: count, dtype: int64"
      ]
     },
     "execution_count": 30,
     "metadata": {},
     "output_type": "execute_result"
    }
   ],
   "source": [
    "# Compress the number of ethnicity categories\n",
    "df['ETHNICITY'].replace(regex=r'^ASIAN\\D*', value='ASIAN', inplace=True)\n",
    "df['ETHNICITY'].replace(regex=r'^WHITE\\D*', value='WHITE', inplace=True)\n",
    "df['ETHNICITY'].replace(regex=r'^HISPANIC\\D*', value='HISPANIC/LATINO', inplace=True)\n",
    "df['ETHNICITY'].replace(regex=r'^BLACK\\D*', value='BLACK/AFRICAN AMERICAN', inplace=True)\n",
    "df['ETHNICITY'].replace(['UNABLE TO OBTAIN', 'OTHER', 'PATIENT DECLINED TO ANSWER',\n",
    "                         'UNKNOWN/NOT SPECIFIED'], value='OTHER/UNKNOWN', inplace=True)\n",
    "df['ETHNICITY'].loc[~df['ETHNICITY'].isin(df['ETHNICITY'].value_counts().nlargest(5).index.tolist())] = 'OTHER/UNKNOWN'\n",
    "df['ETHNICITY'].value_counts()"
   ]
  },
  {
   "cell_type": "code",
   "execution_count": 31,
   "metadata": {
    "colab": {
     "base_uri": "https://localhost:8080/",
     "height": 407
    },
    "id": "tIs2fJnrp_OE",
    "outputId": "fa208095-1f15-4a75-816b-c727e3470a15"
   },
   "outputs": [],
   "source": [
    "# Re-usable plotting function\n",
    "def plot_los_groupby(variable, size=(7,4)):\n",
    "    '''\n",
    "    Plot Median DECEASED by df categorical series name\n",
    "    '''\n",
    "    results = df[[variable, 'DECEASED']].groupby(variable).median().reset_index()\n",
    "    values = list(results['DECEASED'].values)\n",
    "    labels = list(results[variable].values)\n",
    "\n",
    "    fig, ax = plt.subplots(figsize=size)\n",
    "    ind = range(len(results))\n",
    "    ax.barh(ind, values, align='center', height=0.6, color = '#55a868', alpha=0.8)\n",
    "    ax.set_yticks(ind)\n",
    "    ax.set_yticklabels(labels)\n",
    "    ax.set_xlabel('Median Length of Stay (days)')\n",
    "    ax.tick_params(left=False, top=False, right=False)\n",
    "    ax.set_title('Comparison of {} labels'.format(variable))\n",
    "\n",
    "    plt.tight_layout()\n",
    "    plt.show();\n",
    "\n",
    "# Re-usable boxplot function\n",
    "def boxplot_los_groupby(variable, los_range=(-1, 30), size=(8,4)):\n",
    "    '''\n",
    "    Boxplot of DECEASED by df categorical series name\n",
    "    '''\n",
    "    results = df[[variable, 'DECEASED']].groupby(variable).median().reset_index()\n",
    "\n",
    "    categories = results[variable].values.tolist()\n",
    "\n",
    "    hist_data = []\n",
    "    for cat in categories:\n",
    "        hist_data.append(df['DECEASED'].loc[df[variable]==cat].values)\n",
    "\n",
    "    fig, ax = plt.subplots(figsize=size)\n",
    "    ax.boxplot(hist_data, 0, '', vert=False)\n",
    "    ax.set_xlim(los_range)\n",
    "    ax.set_yticklabels(categories)\n",
    "    ax.set_xlabel('Length of Stay (days)')\n",
    "    ax.tick_params(left=False, right=False)\n",
    "    ax.set_title('Comparison of {} categories'.format(variable))\n",
    "    plt.tight_layout()\n",
    "    plt.show();\n"
   ]
  },
  {
   "cell_type": "code",
   "execution_count": 32,
   "metadata": {
    "colab": {
     "base_uri": "https://localhost:8080/"
    },
    "id": "7ME7vZwuqCfR",
    "outputId": "5cbe2bc2-ff70-4a7a-e22d-5b7731306585"
   },
   "outputs": [
    {
     "data": {
      "text/plain": [
       "RELIGION\n",
       "CATHOLIC                  20606\n",
       "NOT SPECIFIED             11753\n",
       "UNOBTAINABLE               8269\n",
       "PROTESTANT QUAKER          7134\n",
       "JEWISH                     5314\n",
       "OTHER                      2696\n",
       "EPISCOPALIAN                774\n",
       "GREEK ORTHODOX              459\n",
       "CHRISTIAN SCIENTIST         429\n",
       "BUDDHIST                    267\n",
       "MUSLIM                      225\n",
       "JEHOVAH'S WITNESS           139\n",
       "UNITARIAN-UNIVERSALIST      124\n",
       "HINDU                       113\n",
       "ROMANIAN EAST. ORTH          83\n",
       "7TH DAY ADVENTIST            81\n",
       "BAPTIST                      28\n",
       "HEBREW                       16\n",
       "METHODIST                     7\n",
       "LUTHERAN                      1\n",
       "Name: count, dtype: int64"
      ]
     },
     "execution_count": 32,
     "metadata": {},
     "output_type": "execute_result"
    }
   ],
   "source": [
    "df['RELIGION'].value_counts()"
   ]
  },
  {
   "cell_type": "code",
   "execution_count": 33,
   "metadata": {
    "colab": {
     "base_uri": "https://localhost:8080/"
    },
    "id": "xoJYAY3aqIGf",
    "outputId": "f66193bf-d2d8-48a3-dc42-69f41f0252d2"
   },
   "outputs": [
    {
     "name": "stdout",
     "output_type": "stream",
     "text": [
      "RELIGION\n",
      "RELIGIOUS        38954\n",
      "NOT SPECIFIED    11753\n",
      "UNOBTAINABLE      8269\n",
      "Name: count, dtype: int64\n",
      "0.6605059685295713\n",
      "0.19928445469343462\n",
      "0.14020957677699403\n"
     ]
    },
    {
     "name": "stderr",
     "output_type": "stream",
     "text": [
      "C:\\Users\\Water\\AppData\\Local\\Temp\\ipykernel_22280\\2507947393.py:3: FutureWarning: ChainedAssignmentError: behaviour will change in pandas 3.0!\n",
      "You are setting values through chained assignment. Currently this works in certain cases, but when using Copy-on-Write (which will become the default behaviour in pandas 3.0) this will never work to update the original DataFrame or Series, because the intermediate object on which we are setting values will behave as a copy.\n",
      "A typical example is when you are setting values in a column of a DataFrame, like:\n",
      "\n",
      "df[\"col\"][row_indexer] = value\n",
      "\n",
      "Use `df.loc[row_indexer, \"col\"] = values` instead, to perform the assignment in a single step and ensure this keeps updating the original `df`.\n",
      "\n",
      "See the caveats in the documentation: https://pandas.pydata.org/pandas-docs/stable/user_guide/indexing.html#returning-a-view-versus-a-copy\n",
      "\n",
      "  df['RELIGION'].loc[~df['RELIGION'].isin(['NOT SPECIFIED', 'UNOBTAINABLE'])] = 'RELIGIOUS'\n",
      "C:\\Users\\Water\\AppData\\Local\\Temp\\ipykernel_22280\\2507947393.py:3: SettingWithCopyWarning: \n",
      "A value is trying to be set on a copy of a slice from a DataFrame\n",
      "\n",
      "See the caveats in the documentation: https://pandas.pydata.org/pandas-docs/stable/user_guide/indexing.html#returning-a-view-versus-a-copy\n",
      "  df['RELIGION'].loc[~df['RELIGION'].isin(['NOT SPECIFIED', 'UNOBTAINABLE'])] = 'RELIGIOUS'\n",
      "C:\\Users\\Water\\AppData\\Local\\Temp\\ipykernel_22280\\2507947393.py:6: FutureWarning: Series.__getitem__ treating keys as positions is deprecated. In a future version, integer keys will always be treated as labels (consistent with DataFrame behavior). To access a value by position, use `ser.iloc[pos]`\n",
      "  print(df['RELIGION'].value_counts()[0]/len(df['RELIGION']))\n",
      "C:\\Users\\Water\\AppData\\Local\\Temp\\ipykernel_22280\\2507947393.py:7: FutureWarning: Series.__getitem__ treating keys as positions is deprecated. In a future version, integer keys will always be treated as labels (consistent with DataFrame behavior). To access a value by position, use `ser.iloc[pos]`\n",
      "  print(df['RELIGION'].value_counts()[1]/len(df['RELIGION']))\n",
      "C:\\Users\\Water\\AppData\\Local\\Temp\\ipykernel_22280\\2507947393.py:8: FutureWarning: Series.__getitem__ treating keys as positions is deprecated. In a future version, integer keys will always be treated as labels (consistent with DataFrame behavior). To access a value by position, use `ser.iloc[pos]`\n",
      "  print(df['RELIGION'].value_counts()[2]/len(df['RELIGION']))\n"
     ]
    }
   ],
   "source": [
    "# Reduce categories to terms of religious or not\n",
    "# I tested with and without category reduction, with little change in R2 score\n",
    "df['RELIGION'].loc[~df['RELIGION'].isin(['NOT SPECIFIED', 'UNOBTAINABLE'])] = 'RELIGIOUS'\n",
    "\n",
    "print(df['RELIGION'].value_counts())\n",
    "print(df['RELIGION'].value_counts()[0]/len(df['RELIGION']))\n",
    "print(df['RELIGION'].value_counts()[1]/len(df['RELIGION']))\n",
    "print(df['RELIGION'].value_counts()[2]/len(df['RELIGION']))"
   ]
  },
  {
   "cell_type": "code",
   "execution_count": 34,
   "metadata": {
    "colab": {
     "base_uri": "https://localhost:8080/",
     "height": 400
    },
    "id": "YPy1PfqL1qmR",
    "outputId": "69c03900-2a04-494c-e40d-93214b7f5465"
   },
   "outputs": [
    {
     "data": {
      "text/html": [
       "<div>\n",
       "<style scoped>\n",
       "    .dataframe tbody tr th:only-of-type {\n",
       "        vertical-align: middle;\n",
       "    }\n",
       "\n",
       "    .dataframe tbody tr th {\n",
       "        vertical-align: top;\n",
       "    }\n",
       "\n",
       "    .dataframe thead th {\n",
       "        text-align: right;\n",
       "    }\n",
       "</style>\n",
       "<table border=\"1\" class=\"dataframe\">\n",
       "  <thead>\n",
       "    <tr style=\"text-align: right;\">\n",
       "      <th></th>\n",
       "      <th>SUBJECT_ID</th>\n",
       "      <th>HADM_ID</th>\n",
       "      <th>ADMITTIME</th>\n",
       "      <th>DEATHTIME</th>\n",
       "      <th>ADMISSION_TYPE</th>\n",
       "      <th>ADMISSION_LOCATION</th>\n",
       "      <th>DISCHARGE_LOCATION</th>\n",
       "      <th>INSURANCE</th>\n",
       "      <th>LANGUAGE</th>\n",
       "      <th>RELIGION</th>\n",
       "      <th>MARITAL_STATUS</th>\n",
       "      <th>ETHNICITY</th>\n",
       "      <th>DIAGNOSIS</th>\n",
       "      <th>DECEASED</th>\n",
       "    </tr>\n",
       "  </thead>\n",
       "  <tbody>\n",
       "    <tr>\n",
       "      <th>0</th>\n",
       "      <td>22</td>\n",
       "      <td>165315</td>\n",
       "      <td>2196-04-09 12:26:00</td>\n",
       "      <td>NaN</td>\n",
       "      <td>EMERGENCY</td>\n",
       "      <td>EMERGENCY ROOM ADMIT</td>\n",
       "      <td>DISC-TRAN CANCER/CHLDRN H</td>\n",
       "      <td>Private</td>\n",
       "      <td>NaN</td>\n",
       "      <td>UNOBTAINABLE</td>\n",
       "      <td>MARRIED</td>\n",
       "      <td>WHITE</td>\n",
       "      <td>BENZODIAZEPINE OVERDOSE</td>\n",
       "      <td>0</td>\n",
       "    </tr>\n",
       "    <tr>\n",
       "      <th>1</th>\n",
       "      <td>23</td>\n",
       "      <td>152223</td>\n",
       "      <td>2153-09-03 07:15:00</td>\n",
       "      <td>NaN</td>\n",
       "      <td>ELECTIVE</td>\n",
       "      <td>PHYS REFERRAL/NORMAL DELI</td>\n",
       "      <td>HOME HEALTH CARE</td>\n",
       "      <td>Medicare</td>\n",
       "      <td>NaN</td>\n",
       "      <td>RELIGIOUS</td>\n",
       "      <td>MARRIED</td>\n",
       "      <td>WHITE</td>\n",
       "      <td>CORONARY ARTERY DISEASE\\CORONARY ARTERY BYPASS...</td>\n",
       "      <td>0</td>\n",
       "    </tr>\n",
       "    <tr>\n",
       "      <th>2</th>\n",
       "      <td>23</td>\n",
       "      <td>124321</td>\n",
       "      <td>2157-10-18 19:34:00</td>\n",
       "      <td>NaN</td>\n",
       "      <td>EMERGENCY</td>\n",
       "      <td>TRANSFER FROM HOSP/EXTRAM</td>\n",
       "      <td>HOME HEALTH CARE</td>\n",
       "      <td>Medicare</td>\n",
       "      <td>ENGL</td>\n",
       "      <td>RELIGIOUS</td>\n",
       "      <td>MARRIED</td>\n",
       "      <td>WHITE</td>\n",
       "      <td>BRAIN MASS</td>\n",
       "      <td>0</td>\n",
       "    </tr>\n",
       "    <tr>\n",
       "      <th>3</th>\n",
       "      <td>24</td>\n",
       "      <td>161859</td>\n",
       "      <td>2139-06-06 16:14:00</td>\n",
       "      <td>NaN</td>\n",
       "      <td>EMERGENCY</td>\n",
       "      <td>TRANSFER FROM HOSP/EXTRAM</td>\n",
       "      <td>HOME</td>\n",
       "      <td>Private</td>\n",
       "      <td>NaN</td>\n",
       "      <td>RELIGIOUS</td>\n",
       "      <td>SINGLE</td>\n",
       "      <td>WHITE</td>\n",
       "      <td>INTERIOR MYOCARDIAL INFARCTION</td>\n",
       "      <td>0</td>\n",
       "    </tr>\n",
       "    <tr>\n",
       "      <th>4</th>\n",
       "      <td>25</td>\n",
       "      <td>129635</td>\n",
       "      <td>2160-11-02 02:06:00</td>\n",
       "      <td>NaN</td>\n",
       "      <td>EMERGENCY</td>\n",
       "      <td>EMERGENCY ROOM ADMIT</td>\n",
       "      <td>HOME</td>\n",
       "      <td>Private</td>\n",
       "      <td>NaN</td>\n",
       "      <td>UNOBTAINABLE</td>\n",
       "      <td>MARRIED</td>\n",
       "      <td>WHITE</td>\n",
       "      <td>ACUTE CORONARY SYNDROME</td>\n",
       "      <td>0</td>\n",
       "    </tr>\n",
       "  </tbody>\n",
       "</table>\n",
       "</div>"
      ],
      "text/plain": [
       "   SUBJECT_ID  HADM_ID            ADMITTIME DEATHTIME ADMISSION_TYPE  \\\n",
       "0          22   165315  2196-04-09 12:26:00       NaN      EMERGENCY   \n",
       "1          23   152223  2153-09-03 07:15:00       NaN       ELECTIVE   \n",
       "2          23   124321  2157-10-18 19:34:00       NaN      EMERGENCY   \n",
       "3          24   161859  2139-06-06 16:14:00       NaN      EMERGENCY   \n",
       "4          25   129635  2160-11-02 02:06:00       NaN      EMERGENCY   \n",
       "\n",
       "          ADMISSION_LOCATION         DISCHARGE_LOCATION INSURANCE LANGUAGE  \\\n",
       "0       EMERGENCY ROOM ADMIT  DISC-TRAN CANCER/CHLDRN H   Private      NaN   \n",
       "1  PHYS REFERRAL/NORMAL DELI           HOME HEALTH CARE  Medicare      NaN   \n",
       "2  TRANSFER FROM HOSP/EXTRAM           HOME HEALTH CARE  Medicare     ENGL   \n",
       "3  TRANSFER FROM HOSP/EXTRAM                       HOME   Private      NaN   \n",
       "4       EMERGENCY ROOM ADMIT                       HOME   Private      NaN   \n",
       "\n",
       "       RELIGION MARITAL_STATUS ETHNICITY  \\\n",
       "0  UNOBTAINABLE        MARRIED     WHITE   \n",
       "1     RELIGIOUS        MARRIED     WHITE   \n",
       "2     RELIGIOUS        MARRIED     WHITE   \n",
       "3     RELIGIOUS         SINGLE     WHITE   \n",
       "4  UNOBTAINABLE        MARRIED     WHITE   \n",
       "\n",
       "                                           DIAGNOSIS  DECEASED  \n",
       "0                            BENZODIAZEPINE OVERDOSE         0  \n",
       "1  CORONARY ARTERY DISEASE\\CORONARY ARTERY BYPASS...         0  \n",
       "2                                         BRAIN MASS         0  \n",
       "3                     INTERIOR MYOCARDIAL INFARCTION         0  \n",
       "4                            ACUTE CORONARY SYNDROME         0  "
      ]
     },
     "execution_count": 34,
     "metadata": {},
     "output_type": "execute_result"
    }
   ],
   "source": [
    "df.head()"
   ]
  },
  {
   "cell_type": "markdown",
   "metadata": {
    "id": "aFh1rx8v1vfB"
   },
   "source": []
  },
  {
   "cell_type": "code",
   "execution_count": 35,
   "metadata": {
    "colab": {
     "base_uri": "https://localhost:8080/"
    },
    "id": "LrUyuWr5qahZ",
    "outputId": "a355b61f-be0e-43cf-d170-a0003c754c5e"
   },
   "outputs": [
    {
     "data": {
      "text/plain": [
       "ADMISSION_TYPE\n",
       "EMERGENCY    42071\n",
       "NEWBORN       7863\n",
       "ELECTIVE      7706\n",
       "URGENT        1336\n",
       "Name: count, dtype: int64"
      ]
     },
     "execution_count": 35,
     "metadata": {},
     "output_type": "execute_result"
    }
   ],
   "source": [
    "df['ADMISSION_TYPE'].value_counts()"
   ]
  },
  {
   "cell_type": "code",
   "execution_count": 36,
   "metadata": {
    "colab": {
     "base_uri": "https://localhost:8080/"
    },
    "id": "GO9HNKCmqgLv",
    "outputId": "0bf8b944-d664-45b8-a36c-d19af792df19"
   },
   "outputs": [
    {
     "data": {
      "text/plain": [
       "INSURANCE\n",
       "Medicare      28215\n",
       "Private       22582\n",
       "Medicaid       5785\n",
       "Government     1783\n",
       "Self Pay        611\n",
       "Name: count, dtype: int64"
      ]
     },
     "execution_count": 36,
     "metadata": {},
     "output_type": "execute_result"
    }
   ],
   "source": [
    "df['INSURANCE'].value_counts()"
   ]
  },
  {
   "cell_type": "code",
   "execution_count": 37,
   "metadata": {
    "colab": {
     "base_uri": "https://localhost:8080/"
    },
    "id": "D4SuYVvxqllt",
    "outputId": "5c3cf44a-8972-4c73-dd57-9aef55e7d828"
   },
   "outputs": [
    {
     "data": {
      "text/plain": [
       "MARITAL_STATUS\n",
       "MARRIED              24239\n",
       "SINGLE               13254\n",
       "NaN                  10128\n",
       "WIDOWED               7211\n",
       "DIVORCED              3213\n",
       "SEPARATED              571\n",
       "UNKNOWN (DEFAULT)      345\n",
       "LIFE PARTNER            15\n",
       "Name: count, dtype: int64"
      ]
     },
     "execution_count": 37,
     "metadata": {},
     "output_type": "execute_result"
    }
   ],
   "source": [
    "df['MARITAL_STATUS'].value_counts(dropna=False)"
   ]
  },
  {
   "cell_type": "code",
   "execution_count": 38,
   "metadata": {
    "colab": {
     "base_uri": "https://localhost:8080/"
    },
    "id": "dDrIR6fyqogq",
    "outputId": "5a0d3348-dca7-4391-b624-f4246ea4cf31"
   },
   "outputs": [
    {
     "data": {
      "text/plain": [
       "MARITAL_STATUS\n",
       "MARRIED              24239\n",
       "SINGLE               13254\n",
       "UNKNOWN (DEFAULT)    10473\n",
       "WIDOWED               7211\n",
       "DIVORCED              3213\n",
       "SEPARATED              571\n",
       "LIFE PARTNER            15\n",
       "Name: count, dtype: int64"
      ]
     },
     "execution_count": 38,
     "metadata": {},
     "output_type": "execute_result"
    }
   ],
   "source": [
    "# Fix NaNs and file under 'UNKNOWN'\n",
    "df['MARITAL_STATUS'] = df['MARITAL_STATUS'].fillna('UNKNOWN (DEFAULT)')\n",
    "df['MARITAL_STATUS'].value_counts(dropna=False)"
   ]
  },
  {
   "cell_type": "code",
   "execution_count": 39,
   "metadata": {},
   "outputs": [
    {
     "data": {
      "text/plain": [
       "Index(['SUBJECT_ID', 'HADM_ID', 'ADMITTIME', 'DEATHTIME', 'ADMISSION_TYPE',\n",
       "       'ADMISSION_LOCATION', 'DISCHARGE_LOCATION', 'INSURANCE', 'LANGUAGE',\n",
       "       'RELIGION', 'MARITAL_STATUS', 'ETHNICITY', 'DIAGNOSIS', 'DECEASED'],\n",
       "      dtype='object')"
      ]
     },
     "execution_count": 39,
     "metadata": {},
     "output_type": "execute_result"
    }
   ],
   "source": [
    "df.columns"
   ]
  },
  {
   "cell_type": "markdown",
   "metadata": {
    "id": "gqdwIzCEB3E6"
   },
   "source": [
    "**Feature Engineering: DIAGNOSES_ICD Table**"
   ]
  },
  {
   "cell_type": "code",
   "execution_count": 40,
   "metadata": {
    "id": "G2Lisf2aGdia"
   },
   "outputs": [],
   "source": [
    "df_diagcode = pd.read_csv('DIAGNOSES_ICD.csv')"
   ]
  },
  {
   "cell_type": "code",
   "execution_count": 41,
   "metadata": {
    "colab": {
     "base_uri": "https://localhost:8080/"
    },
    "id": "yh2S-2apqxVy",
    "outputId": "1b88211f-3cfe-49c2-b8de-7729c169a552"
   },
   "outputs": [
    {
     "name": "stdout",
     "output_type": "stream",
     "text": [
      "<class 'pandas.core.frame.DataFrame'>\n",
      "RangeIndex: 651047 entries, 0 to 651046\n",
      "Data columns (total 5 columns):\n",
      " #   Column      Non-Null Count   Dtype  \n",
      "---  ------      --------------   -----  \n",
      " 0   ROW_ID      651047 non-null  int64  \n",
      " 1   SUBJECT_ID  651047 non-null  int64  \n",
      " 2   HADM_ID     651047 non-null  int64  \n",
      " 3   SEQ_NUM     651000 non-null  float64\n",
      " 4   ICD9_CODE   651000 non-null  object \n",
      "dtypes: float64(1), int64(3), object(1)\n",
      "memory usage: 24.8+ MB\n"
     ]
    }
   ],
   "source": [
    "df_diagcode.info()"
   ]
  },
  {
   "cell_type": "code",
   "execution_count": 42,
   "metadata": {
    "colab": {
     "base_uri": "https://localhost:8080/"
    },
    "id": "W7e7w07Gq0I7",
    "outputId": "c14c7f68-6759-4767-ee42-3d74387da36a"
   },
   "outputs": [
    {
     "name": "stdout",
     "output_type": "stream",
     "text": [
      "There are 6984 unique ICD9 codes in this dataset.\n"
     ]
    }
   ],
   "source": [
    "print('There are {} unique ICD9 codes in this dataset.'.format(df_diagcode['ICD9_CODE'].value_counts().count()))"
   ]
  },
  {
   "cell_type": "code",
   "execution_count": 43,
   "metadata": {
    "colab": {
     "base_uri": "https://localhost:8080/",
     "height": 206
    },
    "id": "TE-V5mXVa6nv",
    "outputId": "fa1a5822-306d-430f-e0c6-d5deadc9ede7"
   },
   "outputs": [
    {
     "data": {
      "text/html": [
       "<div>\n",
       "<style scoped>\n",
       "    .dataframe tbody tr th:only-of-type {\n",
       "        vertical-align: middle;\n",
       "    }\n",
       "\n",
       "    .dataframe tbody tr th {\n",
       "        vertical-align: top;\n",
       "    }\n",
       "\n",
       "    .dataframe thead th {\n",
       "        text-align: right;\n",
       "    }\n",
       "</style>\n",
       "<table border=\"1\" class=\"dataframe\">\n",
       "  <thead>\n",
       "    <tr style=\"text-align: right;\">\n",
       "      <th></th>\n",
       "      <th>ROW_ID</th>\n",
       "      <th>SUBJECT_ID</th>\n",
       "      <th>HADM_ID</th>\n",
       "      <th>SEQ_NUM</th>\n",
       "      <th>ICD9_CODE</th>\n",
       "    </tr>\n",
       "  </thead>\n",
       "  <tbody>\n",
       "    <tr>\n",
       "      <th>0</th>\n",
       "      <td>1297</td>\n",
       "      <td>109</td>\n",
       "      <td>172335</td>\n",
       "      <td>1.0</td>\n",
       "      <td>40301</td>\n",
       "    </tr>\n",
       "    <tr>\n",
       "      <th>1</th>\n",
       "      <td>1298</td>\n",
       "      <td>109</td>\n",
       "      <td>172335</td>\n",
       "      <td>2.0</td>\n",
       "      <td>486</td>\n",
       "    </tr>\n",
       "    <tr>\n",
       "      <th>2</th>\n",
       "      <td>1299</td>\n",
       "      <td>109</td>\n",
       "      <td>172335</td>\n",
       "      <td>3.0</td>\n",
       "      <td>58281</td>\n",
       "    </tr>\n",
       "    <tr>\n",
       "      <th>3</th>\n",
       "      <td>1300</td>\n",
       "      <td>109</td>\n",
       "      <td>172335</td>\n",
       "      <td>4.0</td>\n",
       "      <td>5855</td>\n",
       "    </tr>\n",
       "    <tr>\n",
       "      <th>4</th>\n",
       "      <td>1301</td>\n",
       "      <td>109</td>\n",
       "      <td>172335</td>\n",
       "      <td>5.0</td>\n",
       "      <td>4254</td>\n",
       "    </tr>\n",
       "  </tbody>\n",
       "</table>\n",
       "</div>"
      ],
      "text/plain": [
       "   ROW_ID  SUBJECT_ID  HADM_ID  SEQ_NUM ICD9_CODE\n",
       "0    1297         109   172335      1.0     40301\n",
       "1    1298         109   172335      2.0       486\n",
       "2    1299         109   172335      3.0     58281\n",
       "3    1300         109   172335      4.0      5855\n",
       "4    1301         109   172335      5.0      4254"
      ]
     },
     "execution_count": 43,
     "metadata": {},
     "output_type": "execute_result"
    }
   ],
   "source": [
    "df_diagcode.head()"
   ]
  },
  {
   "cell_type": "code",
   "execution_count": 44,
   "metadata": {
    "id": "9m7JTDz2q3oO"
   },
   "outputs": [
    {
     "name": "stderr",
     "output_type": "stream",
     "text": [
      "C:\\Users\\Water\\AppData\\Local\\Temp\\ipykernel_22280\\534943549.py:3: FutureWarning: Downcasting object dtype arrays on .fillna, .ffill, .bfill is deprecated and will change in a future version. Call result.infer_objects(copy=False) instead. To opt-in to the future behavior, set `pd.set_option('future.no_silent_downcasting', True)`\n",
      "  df_diagcode['recode'] = df_diagcode['recode'][~df_diagcode['recode'].str.contains(\"[a-zA-Z]\").fillna(False)]\n",
      "C:\\Users\\Water\\AppData\\Local\\Temp\\ipykernel_22280\\534943549.py:4: FutureWarning: A value is trying to be set on a copy of a DataFrame or Series through chained assignment using an inplace method.\n",
      "The behavior will change in pandas 3.0. This inplace method will never work because the intermediate object on which we are setting values always behaves as a copy.\n",
      "\n",
      "For example, when doing 'df[col].method(value, inplace=True)', try using 'df.method({col: value}, inplace=True)' or df[col] = df[col].method(value) instead, to perform the operation inplace on the original object.\n",
      "\n",
      "\n",
      "  df_diagcode['recode'].fillna(value='999', inplace=True)\n"
     ]
    }
   ],
   "source": [
    "# Filter out E and V codes since processing will be done on the numeric first 3 values\n",
    "df_diagcode['recode'] = df_diagcode['ICD9_CODE']\n",
    "df_diagcode['recode'] = df_diagcode['recode'][~df_diagcode['recode'].str.contains(\"[a-zA-Z]\").fillna(False)]\n",
    "df_diagcode['recode'].fillna(value='999', inplace=True)"
   ]
  },
  {
   "cell_type": "code",
   "execution_count": 45,
   "metadata": {
    "id": "xT_Sobqkq6P2"
   },
   "outputs": [],
   "source": [
    "# https://stackoverflow.com/questions/46168450/replace-specific-range-of-values-in-data-frame-pandas\n",
    "df_diagcode['recode'] = df_diagcode['recode'].str.slice(start=0, stop=3, step=1)\n",
    "df_diagcode['recode'] = df_diagcode['recode'].astype(int)"
   ]
  },
  {
   "cell_type": "code",
   "execution_count": 46,
   "metadata": {
    "colab": {
     "base_uri": "https://localhost:8080/"
    },
    "id": "At7EX_Qv6e-Q",
    "outputId": "c68821d4-35ca-4f1e-8339-0163ea76201c"
   },
   "outputs": [
    {
     "data": {
      "text/plain": [
       "['ROW_ID', 'SUBJECT_ID', 'HADM_ID', 'SEQ_NUM', 'ICD9_CODE', 'recode']"
      ]
     },
     "execution_count": 46,
     "metadata": {},
     "output_type": "execute_result"
    }
   ],
   "source": [
    "list(df_diagcode)"
   ]
  },
  {
   "cell_type": "code",
   "execution_count": 47,
   "metadata": {
    "colab": {
     "base_uri": "https://localhost:8080/",
     "height": 206
    },
    "id": "Z1INNSWe6_St",
    "outputId": "07f9f686-ab5b-46d2-aca5-d4a9438e76c3"
   },
   "outputs": [
    {
     "data": {
      "text/html": [
       "<div>\n",
       "<style scoped>\n",
       "    .dataframe tbody tr th:only-of-type {\n",
       "        vertical-align: middle;\n",
       "    }\n",
       "\n",
       "    .dataframe tbody tr th {\n",
       "        vertical-align: top;\n",
       "    }\n",
       "\n",
       "    .dataframe thead th {\n",
       "        text-align: right;\n",
       "    }\n",
       "</style>\n",
       "<table border=\"1\" class=\"dataframe\">\n",
       "  <thead>\n",
       "    <tr style=\"text-align: right;\">\n",
       "      <th></th>\n",
       "      <th>ROW_ID</th>\n",
       "      <th>SUBJECT_ID</th>\n",
       "      <th>HADM_ID</th>\n",
       "      <th>SEQ_NUM</th>\n",
       "      <th>ICD9_CODE</th>\n",
       "      <th>recode</th>\n",
       "    </tr>\n",
       "  </thead>\n",
       "  <tbody>\n",
       "    <tr>\n",
       "      <th>0</th>\n",
       "      <td>1297</td>\n",
       "      <td>109</td>\n",
       "      <td>172335</td>\n",
       "      <td>1.0</td>\n",
       "      <td>40301</td>\n",
       "      <td>403</td>\n",
       "    </tr>\n",
       "    <tr>\n",
       "      <th>1</th>\n",
       "      <td>1298</td>\n",
       "      <td>109</td>\n",
       "      <td>172335</td>\n",
       "      <td>2.0</td>\n",
       "      <td>486</td>\n",
       "      <td>486</td>\n",
       "    </tr>\n",
       "    <tr>\n",
       "      <th>2</th>\n",
       "      <td>1299</td>\n",
       "      <td>109</td>\n",
       "      <td>172335</td>\n",
       "      <td>3.0</td>\n",
       "      <td>58281</td>\n",
       "      <td>582</td>\n",
       "    </tr>\n",
       "    <tr>\n",
       "      <th>3</th>\n",
       "      <td>1300</td>\n",
       "      <td>109</td>\n",
       "      <td>172335</td>\n",
       "      <td>4.0</td>\n",
       "      <td>5855</td>\n",
       "      <td>585</td>\n",
       "    </tr>\n",
       "    <tr>\n",
       "      <th>4</th>\n",
       "      <td>1301</td>\n",
       "      <td>109</td>\n",
       "      <td>172335</td>\n",
       "      <td>5.0</td>\n",
       "      <td>4254</td>\n",
       "      <td>425</td>\n",
       "    </tr>\n",
       "  </tbody>\n",
       "</table>\n",
       "</div>"
      ],
      "text/plain": [
       "   ROW_ID  SUBJECT_ID  HADM_ID  SEQ_NUM ICD9_CODE  recode\n",
       "0    1297         109   172335      1.0     40301     403\n",
       "1    1298         109   172335      2.0       486     486\n",
       "2    1299         109   172335      3.0     58281     582\n",
       "3    1300         109   172335      4.0      5855     585\n",
       "4    1301         109   172335      5.0      4254     425"
      ]
     },
     "execution_count": 47,
     "metadata": {},
     "output_type": "execute_result"
    }
   ],
   "source": [
    "df_diagcode.head()\n"
   ]
  },
  {
   "cell_type": "code",
   "execution_count": 48,
   "metadata": {
    "id": "GMDZYC5Kq-Xu"
   },
   "outputs": [],
   "source": [
    "# ICD-9 Main Category ranges\n",
    "icd9_ranges = [(1, 140), (140, 240), (240, 280), (280, 290), (290, 320), (320, 390),\n",
    "               (390, 460), (460, 520), (520, 580), (580, 630), (630, 680), (680, 710),\n",
    "               (710, 740), (740, 760), (760, 780), (780, 800), (800, 1000), (1000, 2000)]\n",
    "\n",
    "# Associated category names\n",
    "diag_dict = {0: 'infectious', 1: 'neoplasms', 2: 'endocrine', 3: 'blood',\n",
    "             4: 'mental', 5: 'nervous', 6: 'circulatory', 7: 'respiratory',\n",
    "             8: 'digestive', 9: 'genitourinary', 10: 'pregnancy', 11: 'skin',\n",
    "             12: 'muscular', 13: 'congenital', 14: 'prenatal', 15: 'misc',\n",
    "             16: 'injury', 17: 'misc'}\n",
    "\n",
    "# Re-code in terms of integer\n",
    "for num, cat_range in enumerate(icd9_ranges):\n",
    "    df_diagcode['recode'] = np.where(df_diagcode['recode'].between(cat_range[0],cat_range[1]),\n",
    "            num, df_diagcode['recode'])\n",
    "\n",
    "# Convert integer to category name using diag_dict\n",
    "df_diagcode['recode'] = df_diagcode['recode']\n",
    "df_diagcode['cat'] = df_diagcode['recode'].replace(diag_dict)"
   ]
  },
  {
   "cell_type": "code",
   "execution_count": 49,
   "metadata": {
    "colab": {
     "base_uri": "https://localhost:8080/",
     "height": 206
    },
    "id": "21vcSPl5rEHa",
    "outputId": "d3217a47-b38a-48b2-f66e-bb54dee0aac8"
   },
   "outputs": [
    {
     "data": {
      "text/html": [
       "<div>\n",
       "<style scoped>\n",
       "    .dataframe tbody tr th:only-of-type {\n",
       "        vertical-align: middle;\n",
       "    }\n",
       "\n",
       "    .dataframe tbody tr th {\n",
       "        vertical-align: top;\n",
       "    }\n",
       "\n",
       "    .dataframe thead th {\n",
       "        text-align: right;\n",
       "    }\n",
       "</style>\n",
       "<table border=\"1\" class=\"dataframe\">\n",
       "  <thead>\n",
       "    <tr style=\"text-align: right;\">\n",
       "      <th></th>\n",
       "      <th>ROW_ID</th>\n",
       "      <th>SUBJECT_ID</th>\n",
       "      <th>HADM_ID</th>\n",
       "      <th>SEQ_NUM</th>\n",
       "      <th>ICD9_CODE</th>\n",
       "      <th>recode</th>\n",
       "      <th>cat</th>\n",
       "    </tr>\n",
       "  </thead>\n",
       "  <tbody>\n",
       "    <tr>\n",
       "      <th>0</th>\n",
       "      <td>1297</td>\n",
       "      <td>109</td>\n",
       "      <td>172335</td>\n",
       "      <td>1.0</td>\n",
       "      <td>40301</td>\n",
       "      <td>6</td>\n",
       "      <td>circulatory</td>\n",
       "    </tr>\n",
       "    <tr>\n",
       "      <th>1</th>\n",
       "      <td>1298</td>\n",
       "      <td>109</td>\n",
       "      <td>172335</td>\n",
       "      <td>2.0</td>\n",
       "      <td>486</td>\n",
       "      <td>7</td>\n",
       "      <td>respiratory</td>\n",
       "    </tr>\n",
       "    <tr>\n",
       "      <th>2</th>\n",
       "      <td>1299</td>\n",
       "      <td>109</td>\n",
       "      <td>172335</td>\n",
       "      <td>3.0</td>\n",
       "      <td>58281</td>\n",
       "      <td>9</td>\n",
       "      <td>genitourinary</td>\n",
       "    </tr>\n",
       "    <tr>\n",
       "      <th>3</th>\n",
       "      <td>1300</td>\n",
       "      <td>109</td>\n",
       "      <td>172335</td>\n",
       "      <td>4.0</td>\n",
       "      <td>5855</td>\n",
       "      <td>9</td>\n",
       "      <td>genitourinary</td>\n",
       "    </tr>\n",
       "    <tr>\n",
       "      <th>4</th>\n",
       "      <td>1301</td>\n",
       "      <td>109</td>\n",
       "      <td>172335</td>\n",
       "      <td>5.0</td>\n",
       "      <td>4254</td>\n",
       "      <td>6</td>\n",
       "      <td>circulatory</td>\n",
       "    </tr>\n",
       "  </tbody>\n",
       "</table>\n",
       "</div>"
      ],
      "text/plain": [
       "   ROW_ID  SUBJECT_ID  HADM_ID  SEQ_NUM ICD9_CODE  recode            cat\n",
       "0    1297         109   172335      1.0     40301       6    circulatory\n",
       "1    1298         109   172335      2.0       486       7    respiratory\n",
       "2    1299         109   172335      3.0     58281       9  genitourinary\n",
       "3    1300         109   172335      4.0      5855       9  genitourinary\n",
       "4    1301         109   172335      5.0      4254       6    circulatory"
      ]
     },
     "execution_count": 49,
     "metadata": {},
     "output_type": "execute_result"
    }
   ],
   "source": [
    "# Verify\n",
    "df_diagcode.head()"
   ]
  },
  {
   "cell_type": "code",
   "execution_count": 50,
   "metadata": {
    "colab": {
     "base_uri": "https://localhost:8080/"
    },
    "id": "qZWWq1IDrJG3",
    "outputId": "4654f156-19e6-48f6-913e-9e0483b58583"
   },
   "outputs": [
    {
     "name": "stderr",
     "output_type": "stream",
     "text": [
      "C:\\Users\\Water\\AppData\\Local\\Temp\\ipykernel_22280\\384778453.py:3: FutureWarning: Downcasting object dtype arrays on .fillna, .ffill, .bfill is deprecated and will change in a future version. Call result.infer_objects(copy=False) instead. To opt-in to the future behavior, set `pd.set_option('future.no_silent_downcasting', True)`\n",
      "  df_diagcode['recode'] = df_diagcode['recode'][~df_diagcode['recode'].str.contains(\"[a-zA-Z]\").fillna(False)]\n",
      "C:\\Users\\Water\\AppData\\Local\\Temp\\ipykernel_22280\\384778453.py:4: FutureWarning: A value is trying to be set on a copy of a DataFrame or Series through chained assignment using an inplace method.\n",
      "The behavior will change in pandas 3.0. This inplace method will never work because the intermediate object on which we are setting values always behaves as a copy.\n",
      "\n",
      "For example, when doing 'df[col].method(value, inplace=True)', try using 'df.method({col: value}, inplace=True)' or df[col] = df[col].method(value) instead, to perform the operation inplace on the original object.\n",
      "\n",
      "\n",
      "  df_diagcode['recode'].fillna(value='999', inplace=True)\n"
     ]
    },
    {
     "name": "stdout",
     "output_type": "stream",
     "text": [
      "   ROW_ID  SUBJECT_ID  HADM_ID  SEQ_NUM ICD9_CODE  recode            cat\n",
      "0    1297         109   172335      1.0     40301       6    circulatory\n",
      "1    1298         109   172335      2.0       486       7    respiratory\n",
      "2    1299         109   172335      3.0     58281       9  genitourinary\n",
      "3    1300         109   172335      4.0      5855       9  genitourinary\n",
      "4    1301         109   172335      5.0      4254       6    circulatory\n"
     ]
    }
   ],
   "source": [
    "# Filter out E and V codes since processing will be done on the numeric first 3 values\n",
    "df_diagcode['recode'] = df_diagcode['ICD9_CODE']\n",
    "df_diagcode['recode'] = df_diagcode['recode'][~df_diagcode['recode'].str.contains(\"[a-zA-Z]\").fillna(False)]\n",
    "df_diagcode['recode'].fillna(value='999', inplace=True)\n",
    "df_diagcode['recode'] = df_diagcode['recode'].str.slice(start=0, stop=3, step=1)\n",
    "df_diagcode['recode'] = df_diagcode['recode'].astype(int)\n",
    "\n",
    "# ICD-9 Main Category ranges\n",
    "icd9_ranges = [(1, 140), (140, 240), (240, 280), (280, 290), (290, 320), (320, 390),\n",
    "               (390, 460), (460, 520), (520, 580), (580, 630), (630, 680), (680, 710),\n",
    "               (710, 740), (740, 760), (760, 780), (780, 800), (800, 1000), (1000, 2000)]\n",
    "\n",
    "# Associated category names\n",
    "diag_dict = {0: 'infectious', 1: 'neoplasms', 2: 'endocrine', 3: 'blood',\n",
    "             4: 'mental', 5: 'nervous', 6: 'circulatory', 7: 'respiratory',\n",
    "             8: 'digestive', 9: 'genitourinary', 10: 'pregnancy', 11: 'skin',\n",
    "             12: 'muscular', 13: 'congenital', 14: 'prenatal', 15: 'misc',\n",
    "             16: 'injury', 17: 'misc'}\n",
    "\n",
    "# Re-code in terms of integer\n",
    "for num, cat_range in enumerate(icd9_ranges):\n",
    "    df_diagcode['recode'] = np.where(df_diagcode['recode'].between(cat_range[0], cat_range[1]),\n",
    "                                     num, df_diagcode['recode'])\n",
    "\n",
    "# Convert integer to category name using diag_dict\n",
    "df_diagcode['recode'] = df_diagcode['recode']\n",
    "df_diagcode['cat'] = df_diagcode['recode'].replace(diag_dict)\n",
    "\n",
    "# Verify\n",
    "print(df_diagcode.head())"
   ]
  },
  {
   "cell_type": "code",
   "execution_count": 51,
   "metadata": {
    "colab": {
     "base_uri": "https://localhost:8080/",
     "height": 206
    },
    "id": "hmPsqGTPrZMw",
    "outputId": "b8d50df8-a103-498a-de48-42f665bf6ec1"
   },
   "outputs": [
    {
     "data": {
      "text/html": [
       "<div>\n",
       "<style scoped>\n",
       "    .dataframe tbody tr th:only-of-type {\n",
       "        vertical-align: middle;\n",
       "    }\n",
       "\n",
       "    .dataframe tbody tr th {\n",
       "        vertical-align: top;\n",
       "    }\n",
       "\n",
       "    .dataframe thead th {\n",
       "        text-align: right;\n",
       "    }\n",
       "</style>\n",
       "<table border=\"1\" class=\"dataframe\">\n",
       "  <thead>\n",
       "    <tr style=\"text-align: right;\">\n",
       "      <th></th>\n",
       "      <th>HADM_ID</th>\n",
       "      <th>cat</th>\n",
       "    </tr>\n",
       "  </thead>\n",
       "  <tbody>\n",
       "    <tr>\n",
       "      <th>0</th>\n",
       "      <td>100001</td>\n",
       "      <td>[endocrine, nervous, genitourinary, digestive,...</td>\n",
       "    </tr>\n",
       "    <tr>\n",
       "      <th>1</th>\n",
       "      <td>100003</td>\n",
       "      <td>[digestive, blood, infectious, digestive, circ...</td>\n",
       "    </tr>\n",
       "    <tr>\n",
       "      <th>2</th>\n",
       "      <td>100006</td>\n",
       "      <td>[respiratory, respiratory, respiratory, neopla...</td>\n",
       "    </tr>\n",
       "    <tr>\n",
       "      <th>3</th>\n",
       "      <td>100007</td>\n",
       "      <td>[digestive, digestive, injury, respiratory, ci...</td>\n",
       "    </tr>\n",
       "    <tr>\n",
       "      <th>4</th>\n",
       "      <td>100009</td>\n",
       "      <td>[circulatory, injury, circulatory, endocrine, ...</td>\n",
       "    </tr>\n",
       "  </tbody>\n",
       "</table>\n",
       "</div>"
      ],
      "text/plain": [
       "   HADM_ID                                                cat\n",
       "0   100001  [endocrine, nervous, genitourinary, digestive,...\n",
       "1   100003  [digestive, blood, infectious, digestive, circ...\n",
       "2   100006  [respiratory, respiratory, respiratory, neopla...\n",
       "3   100007  [digestive, digestive, injury, respiratory, ci...\n",
       "4   100009  [circulatory, injury, circulatory, endocrine, ..."
      ]
     },
     "execution_count": 51,
     "metadata": {},
     "output_type": "execute_result"
    }
   ],
   "source": [
    "# Create list of diagnoses for each admission\n",
    "hadm_list = df_diagcode.groupby('HADM_ID')['cat'].apply(list).reset_index()\n",
    "hadm_list.head()"
   ]
  },
  {
   "cell_type": "code",
   "execution_count": 52,
   "metadata": {
    "colab": {
     "base_uri": "https://localhost:8080/",
     "height": 261
    },
    "id": "lqCNJ8b4reOS",
    "outputId": "be2b2331-daa0-415a-a2c9-6f2543f79c7c"
   },
   "outputs": [
    {
     "data": {
      "text/html": [
       "<div>\n",
       "<style scoped>\n",
       "    .dataframe tbody tr th:only-of-type {\n",
       "        vertical-align: middle;\n",
       "    }\n",
       "\n",
       "    .dataframe tbody tr th {\n",
       "        vertical-align: top;\n",
       "    }\n",
       "\n",
       "    .dataframe thead th {\n",
       "        text-align: right;\n",
       "    }\n",
       "</style>\n",
       "<table border=\"1\" class=\"dataframe\">\n",
       "  <thead>\n",
       "    <tr style=\"text-align: right;\">\n",
       "      <th></th>\n",
       "      <th>blood</th>\n",
       "      <th>circulatory</th>\n",
       "      <th>congenital</th>\n",
       "      <th>digestive</th>\n",
       "      <th>endocrine</th>\n",
       "      <th>genitourinary</th>\n",
       "      <th>infectious</th>\n",
       "      <th>injury</th>\n",
       "      <th>mental</th>\n",
       "      <th>misc</th>\n",
       "      <th>muscular</th>\n",
       "      <th>neoplasms</th>\n",
       "      <th>nervous</th>\n",
       "      <th>pregnancy</th>\n",
       "      <th>prenatal</th>\n",
       "      <th>respiratory</th>\n",
       "      <th>skin</th>\n",
       "    </tr>\n",
       "  </thead>\n",
       "  <tbody>\n",
       "    <tr>\n",
       "      <th>0</th>\n",
       "      <td>0</td>\n",
       "      <td>2</td>\n",
       "      <td>0</td>\n",
       "      <td>2</td>\n",
       "      <td>5</td>\n",
       "      <td>2</td>\n",
       "      <td>0</td>\n",
       "      <td>2</td>\n",
       "      <td>0</td>\n",
       "      <td>0</td>\n",
       "      <td>0</td>\n",
       "      <td>0</td>\n",
       "      <td>2</td>\n",
       "      <td>0</td>\n",
       "      <td>0</td>\n",
       "      <td>0</td>\n",
       "      <td>1</td>\n",
       "    </tr>\n",
       "    <tr>\n",
       "      <th>1</th>\n",
       "      <td>1</td>\n",
       "      <td>2</td>\n",
       "      <td>0</td>\n",
       "      <td>4</td>\n",
       "      <td>0</td>\n",
       "      <td>0</td>\n",
       "      <td>1</td>\n",
       "      <td>0</td>\n",
       "      <td>0</td>\n",
       "      <td>1</td>\n",
       "      <td>0</td>\n",
       "      <td>0</td>\n",
       "      <td>0</td>\n",
       "      <td>0</td>\n",
       "      <td>0</td>\n",
       "      <td>0</td>\n",
       "      <td>0</td>\n",
       "    </tr>\n",
       "    <tr>\n",
       "      <th>2</th>\n",
       "      <td>0</td>\n",
       "      <td>0</td>\n",
       "      <td>0</td>\n",
       "      <td>0</td>\n",
       "      <td>1</td>\n",
       "      <td>0</td>\n",
       "      <td>0</td>\n",
       "      <td>2</td>\n",
       "      <td>1</td>\n",
       "      <td>1</td>\n",
       "      <td>0</td>\n",
       "      <td>1</td>\n",
       "      <td>0</td>\n",
       "      <td>0</td>\n",
       "      <td>0</td>\n",
       "      <td>3</td>\n",
       "      <td>0</td>\n",
       "    </tr>\n",
       "    <tr>\n",
       "      <th>3</th>\n",
       "      <td>0</td>\n",
       "      <td>1</td>\n",
       "      <td>0</td>\n",
       "      <td>2</td>\n",
       "      <td>0</td>\n",
       "      <td>0</td>\n",
       "      <td>0</td>\n",
       "      <td>1</td>\n",
       "      <td>0</td>\n",
       "      <td>0</td>\n",
       "      <td>0</td>\n",
       "      <td>0</td>\n",
       "      <td>0</td>\n",
       "      <td>0</td>\n",
       "      <td>0</td>\n",
       "      <td>1</td>\n",
       "      <td>0</td>\n",
       "    </tr>\n",
       "    <tr>\n",
       "      <th>4</th>\n",
       "      <td>1</td>\n",
       "      <td>7</td>\n",
       "      <td>0</td>\n",
       "      <td>0</td>\n",
       "      <td>3</td>\n",
       "      <td>0</td>\n",
       "      <td>0</td>\n",
       "      <td>7</td>\n",
       "      <td>0</td>\n",
       "      <td>0</td>\n",
       "      <td>0</td>\n",
       "      <td>0</td>\n",
       "      <td>0</td>\n",
       "      <td>0</td>\n",
       "      <td>0</td>\n",
       "      <td>0</td>\n",
       "      <td>0</td>\n",
       "    </tr>\n",
       "  </tbody>\n",
       "</table>\n",
       "</div>"
      ],
      "text/plain": [
       "   blood  circulatory  congenital  digestive  endocrine  genitourinary  \\\n",
       "0      0            2           0          2          5              2   \n",
       "1      1            2           0          4          0              0   \n",
       "2      0            0           0          0          1              0   \n",
       "3      0            1           0          2          0              0   \n",
       "4      1            7           0          0          3              0   \n",
       "\n",
       "   infectious  injury  mental  misc  muscular  neoplasms  nervous  pregnancy  \\\n",
       "0           0       2       0     0         0          0        2          0   \n",
       "1           1       0       0     1         0          0        0          0   \n",
       "2           0       2       1     1         0          1        0          0   \n",
       "3           0       1       0     0         0          0        0          0   \n",
       "4           0       7       0     0         0          0        0          0   \n",
       "\n",
       "   prenatal  respiratory  skin  \n",
       "0         0            0     1  \n",
       "1         0            0     0  \n",
       "2         0            3     0  \n",
       "3         0            1     0  \n",
       "4         0            0     0  "
      ]
     },
     "execution_count": 52,
     "metadata": {},
     "output_type": "execute_result"
    }
   ],
   "source": [
    "# Convert diagnoses list into hospital admission-item matrix\n",
    "# hadm_item = pd.get_dummies(hadm_list['cat'].apply(pd.Series).stack()).sum(level=0)\n",
    "hadm_item  = pd.get_dummies(hadm_list['cat'].apply(pd.Series).stack()).groupby(level=0).sum()\n",
    "\n",
    "hadm_item.head()"
   ]
  },
  {
   "cell_type": "code",
   "execution_count": 53,
   "metadata": {},
   "outputs": [
    {
     "data": {
      "text/plain": [
       "pandas.core.series.Series"
      ]
     },
     "execution_count": 53,
     "metadata": {},
     "output_type": "execute_result"
    }
   ],
   "source": [
    "type(hadm_list['HADM_ID'])"
   ]
  },
  {
   "cell_type": "code",
   "execution_count": 54,
   "metadata": {
    "colab": {
     "base_uri": "https://localhost:8080/",
     "height": 226
    },
    "id": "3KFqg0lzrisc",
    "outputId": "d93014be-7e5d-45cf-eac3-565562f7a04f"
   },
   "outputs": [
    {
     "data": {
      "text/html": [
       "<div>\n",
       "<style scoped>\n",
       "    .dataframe tbody tr th:only-of-type {\n",
       "        vertical-align: middle;\n",
       "    }\n",
       "\n",
       "    .dataframe tbody tr th {\n",
       "        vertical-align: top;\n",
       "    }\n",
       "\n",
       "    .dataframe thead th {\n",
       "        text-align: right;\n",
       "    }\n",
       "</style>\n",
       "<table border=\"1\" class=\"dataframe\">\n",
       "  <thead>\n",
       "    <tr style=\"text-align: right;\">\n",
       "      <th></th>\n",
       "      <th>blood</th>\n",
       "      <th>circulatory</th>\n",
       "      <th>congenital</th>\n",
       "      <th>digestive</th>\n",
       "      <th>endocrine</th>\n",
       "      <th>genitourinary</th>\n",
       "      <th>infectious</th>\n",
       "      <th>injury</th>\n",
       "      <th>mental</th>\n",
       "      <th>misc</th>\n",
       "      <th>muscular</th>\n",
       "      <th>neoplasms</th>\n",
       "      <th>nervous</th>\n",
       "      <th>pregnancy</th>\n",
       "      <th>prenatal</th>\n",
       "      <th>respiratory</th>\n",
       "      <th>skin</th>\n",
       "      <th>HADM_ID</th>\n",
       "    </tr>\n",
       "  </thead>\n",
       "  <tbody>\n",
       "    <tr>\n",
       "      <th>0</th>\n",
       "      <td>0</td>\n",
       "      <td>2</td>\n",
       "      <td>0</td>\n",
       "      <td>2</td>\n",
       "      <td>5</td>\n",
       "      <td>2</td>\n",
       "      <td>0</td>\n",
       "      <td>2</td>\n",
       "      <td>0</td>\n",
       "      <td>0</td>\n",
       "      <td>0</td>\n",
       "      <td>0</td>\n",
       "      <td>2</td>\n",
       "      <td>0</td>\n",
       "      <td>0</td>\n",
       "      <td>0</td>\n",
       "      <td>1</td>\n",
       "      <td>100001</td>\n",
       "    </tr>\n",
       "    <tr>\n",
       "      <th>1</th>\n",
       "      <td>1</td>\n",
       "      <td>2</td>\n",
       "      <td>0</td>\n",
       "      <td>4</td>\n",
       "      <td>0</td>\n",
       "      <td>0</td>\n",
       "      <td>1</td>\n",
       "      <td>0</td>\n",
       "      <td>0</td>\n",
       "      <td>1</td>\n",
       "      <td>0</td>\n",
       "      <td>0</td>\n",
       "      <td>0</td>\n",
       "      <td>0</td>\n",
       "      <td>0</td>\n",
       "      <td>0</td>\n",
       "      <td>0</td>\n",
       "      <td>100003</td>\n",
       "    </tr>\n",
       "    <tr>\n",
       "      <th>2</th>\n",
       "      <td>0</td>\n",
       "      <td>0</td>\n",
       "      <td>0</td>\n",
       "      <td>0</td>\n",
       "      <td>1</td>\n",
       "      <td>0</td>\n",
       "      <td>0</td>\n",
       "      <td>2</td>\n",
       "      <td>1</td>\n",
       "      <td>1</td>\n",
       "      <td>0</td>\n",
       "      <td>1</td>\n",
       "      <td>0</td>\n",
       "      <td>0</td>\n",
       "      <td>0</td>\n",
       "      <td>3</td>\n",
       "      <td>0</td>\n",
       "      <td>100006</td>\n",
       "    </tr>\n",
       "    <tr>\n",
       "      <th>3</th>\n",
       "      <td>0</td>\n",
       "      <td>1</td>\n",
       "      <td>0</td>\n",
       "      <td>2</td>\n",
       "      <td>0</td>\n",
       "      <td>0</td>\n",
       "      <td>0</td>\n",
       "      <td>1</td>\n",
       "      <td>0</td>\n",
       "      <td>0</td>\n",
       "      <td>0</td>\n",
       "      <td>0</td>\n",
       "      <td>0</td>\n",
       "      <td>0</td>\n",
       "      <td>0</td>\n",
       "      <td>1</td>\n",
       "      <td>0</td>\n",
       "      <td>100007</td>\n",
       "    </tr>\n",
       "    <tr>\n",
       "      <th>4</th>\n",
       "      <td>1</td>\n",
       "      <td>7</td>\n",
       "      <td>0</td>\n",
       "      <td>0</td>\n",
       "      <td>3</td>\n",
       "      <td>0</td>\n",
       "      <td>0</td>\n",
       "      <td>7</td>\n",
       "      <td>0</td>\n",
       "      <td>0</td>\n",
       "      <td>0</td>\n",
       "      <td>0</td>\n",
       "      <td>0</td>\n",
       "      <td>0</td>\n",
       "      <td>0</td>\n",
       "      <td>0</td>\n",
       "      <td>0</td>\n",
       "      <td>100009</td>\n",
       "    </tr>\n",
       "  </tbody>\n",
       "</table>\n",
       "</div>"
      ],
      "text/plain": [
       "   blood  circulatory  congenital  digestive  endocrine  genitourinary  \\\n",
       "0      0            2           0          2          5              2   \n",
       "1      1            2           0          4          0              0   \n",
       "2      0            0           0          0          1              0   \n",
       "3      0            1           0          2          0              0   \n",
       "4      1            7           0          0          3              0   \n",
       "\n",
       "   infectious  injury  mental  misc  muscular  neoplasms  nervous  pregnancy  \\\n",
       "0           0       2       0     0         0          0        2          0   \n",
       "1           1       0       0     1         0          0        0          0   \n",
       "2           0       2       1     1         0          1        0          0   \n",
       "3           0       1       0     0         0          0        0          0   \n",
       "4           0       7       0     0         0          0        0          0   \n",
       "\n",
       "   prenatal  respiratory  skin  HADM_ID  \n",
       "0         0            0     1   100001  \n",
       "1         0            0     0   100003  \n",
       "2         0            3     0   100006  \n",
       "3         0            1     0   100007  \n",
       "4         0            0     0   100009  "
      ]
     },
     "execution_count": 54,
     "metadata": {},
     "output_type": "execute_result"
    }
   ],
   "source": [
    "# Join back with HADM_ID, will merge with main admissions DF later\n",
    "hadm_item = hadm_item.join(hadm_list['HADM_ID'], how=\"outer\")\n",
    "hadm_item.head()"
   ]
  },
  {
   "cell_type": "code",
   "execution_count": 55,
   "metadata": {
    "id": "DoDlOa-zroqY"
   },
   "outputs": [],
   "source": [
    "# Merge with main admissions df\n",
    "df = df.merge(hadm_item, how='inner', on='HADM_ID')"
   ]
  },
  {
   "cell_type": "code",
   "execution_count": 56,
   "metadata": {
    "colab": {
     "base_uri": "https://localhost:8080/",
     "height": 429
    },
    "id": "gzOd6BU1ruQY",
    "outputId": "9daaf96b-9abd-4421-f674-bfd0c6eaaf47"
   },
   "outputs": [
    {
     "data": {
      "text/html": [
       "<div>\n",
       "<style scoped>\n",
       "    .dataframe tbody tr th:only-of-type {\n",
       "        vertical-align: middle;\n",
       "    }\n",
       "\n",
       "    .dataframe tbody tr th {\n",
       "        vertical-align: top;\n",
       "    }\n",
       "\n",
       "    .dataframe thead th {\n",
       "        text-align: right;\n",
       "    }\n",
       "</style>\n",
       "<table border=\"1\" class=\"dataframe\">\n",
       "  <thead>\n",
       "    <tr style=\"text-align: right;\">\n",
       "      <th></th>\n",
       "      <th>SUBJECT_ID</th>\n",
       "      <th>HADM_ID</th>\n",
       "      <th>ADMITTIME</th>\n",
       "      <th>DEATHTIME</th>\n",
       "      <th>ADMISSION_TYPE</th>\n",
       "      <th>ADMISSION_LOCATION</th>\n",
       "      <th>DISCHARGE_LOCATION</th>\n",
       "      <th>INSURANCE</th>\n",
       "      <th>LANGUAGE</th>\n",
       "      <th>RELIGION</th>\n",
       "      <th>...</th>\n",
       "      <th>injury</th>\n",
       "      <th>mental</th>\n",
       "      <th>misc</th>\n",
       "      <th>muscular</th>\n",
       "      <th>neoplasms</th>\n",
       "      <th>nervous</th>\n",
       "      <th>pregnancy</th>\n",
       "      <th>prenatal</th>\n",
       "      <th>respiratory</th>\n",
       "      <th>skin</th>\n",
       "    </tr>\n",
       "  </thead>\n",
       "  <tbody>\n",
       "    <tr>\n",
       "      <th>0</th>\n",
       "      <td>22</td>\n",
       "      <td>165315</td>\n",
       "      <td>2196-04-09 12:26:00</td>\n",
       "      <td>NaN</td>\n",
       "      <td>EMERGENCY</td>\n",
       "      <td>EMERGENCY ROOM ADMIT</td>\n",
       "      <td>DISC-TRAN CANCER/CHLDRN H</td>\n",
       "      <td>Private</td>\n",
       "      <td>NaN</td>\n",
       "      <td>UNOBTAINABLE</td>\n",
       "      <td>...</td>\n",
       "      <td>4</td>\n",
       "      <td>1</td>\n",
       "      <td>0</td>\n",
       "      <td>0</td>\n",
       "      <td>0</td>\n",
       "      <td>1</td>\n",
       "      <td>0</td>\n",
       "      <td>0</td>\n",
       "      <td>0</td>\n",
       "      <td>0</td>\n",
       "    </tr>\n",
       "    <tr>\n",
       "      <th>1</th>\n",
       "      <td>23</td>\n",
       "      <td>152223</td>\n",
       "      <td>2153-09-03 07:15:00</td>\n",
       "      <td>NaN</td>\n",
       "      <td>ELECTIVE</td>\n",
       "      <td>PHYS REFERRAL/NORMAL DELI</td>\n",
       "      <td>HOME HEALTH CARE</td>\n",
       "      <td>Medicare</td>\n",
       "      <td>NaN</td>\n",
       "      <td>RELIGIOUS</td>\n",
       "      <td>...</td>\n",
       "      <td>1</td>\n",
       "      <td>0</td>\n",
       "      <td>0</td>\n",
       "      <td>0</td>\n",
       "      <td>0</td>\n",
       "      <td>1</td>\n",
       "      <td>0</td>\n",
       "      <td>0</td>\n",
       "      <td>0</td>\n",
       "      <td>0</td>\n",
       "    </tr>\n",
       "    <tr>\n",
       "      <th>2</th>\n",
       "      <td>23</td>\n",
       "      <td>124321</td>\n",
       "      <td>2157-10-18 19:34:00</td>\n",
       "      <td>NaN</td>\n",
       "      <td>EMERGENCY</td>\n",
       "      <td>TRANSFER FROM HOSP/EXTRAM</td>\n",
       "      <td>HOME HEALTH CARE</td>\n",
       "      <td>Medicare</td>\n",
       "      <td>ENGL</td>\n",
       "      <td>RELIGIOUS</td>\n",
       "      <td>...</td>\n",
       "      <td>3</td>\n",
       "      <td>0</td>\n",
       "      <td>0</td>\n",
       "      <td>0</td>\n",
       "      <td>1</td>\n",
       "      <td>1</td>\n",
       "      <td>0</td>\n",
       "      <td>1</td>\n",
       "      <td>0</td>\n",
       "      <td>0</td>\n",
       "    </tr>\n",
       "    <tr>\n",
       "      <th>3</th>\n",
       "      <td>24</td>\n",
       "      <td>161859</td>\n",
       "      <td>2139-06-06 16:14:00</td>\n",
       "      <td>NaN</td>\n",
       "      <td>EMERGENCY</td>\n",
       "      <td>TRANSFER FROM HOSP/EXTRAM</td>\n",
       "      <td>HOME</td>\n",
       "      <td>Private</td>\n",
       "      <td>NaN</td>\n",
       "      <td>RELIGIOUS</td>\n",
       "      <td>...</td>\n",
       "      <td>0</td>\n",
       "      <td>0</td>\n",
       "      <td>0</td>\n",
       "      <td>0</td>\n",
       "      <td>0</td>\n",
       "      <td>0</td>\n",
       "      <td>0</td>\n",
       "      <td>0</td>\n",
       "      <td>0</td>\n",
       "      <td>0</td>\n",
       "    </tr>\n",
       "    <tr>\n",
       "      <th>4</th>\n",
       "      <td>25</td>\n",
       "      <td>129635</td>\n",
       "      <td>2160-11-02 02:06:00</td>\n",
       "      <td>NaN</td>\n",
       "      <td>EMERGENCY</td>\n",
       "      <td>EMERGENCY ROOM ADMIT</td>\n",
       "      <td>HOME</td>\n",
       "      <td>Private</td>\n",
       "      <td>NaN</td>\n",
       "      <td>UNOBTAINABLE</td>\n",
       "      <td>...</td>\n",
       "      <td>0</td>\n",
       "      <td>0</td>\n",
       "      <td>0</td>\n",
       "      <td>0</td>\n",
       "      <td>0</td>\n",
       "      <td>0</td>\n",
       "      <td>0</td>\n",
       "      <td>0</td>\n",
       "      <td>0</td>\n",
       "      <td>0</td>\n",
       "    </tr>\n",
       "  </tbody>\n",
       "</table>\n",
       "<p>5 rows × 31 columns</p>\n",
       "</div>"
      ],
      "text/plain": [
       "   SUBJECT_ID  HADM_ID            ADMITTIME DEATHTIME ADMISSION_TYPE  \\\n",
       "0          22   165315  2196-04-09 12:26:00       NaN      EMERGENCY   \n",
       "1          23   152223  2153-09-03 07:15:00       NaN       ELECTIVE   \n",
       "2          23   124321  2157-10-18 19:34:00       NaN      EMERGENCY   \n",
       "3          24   161859  2139-06-06 16:14:00       NaN      EMERGENCY   \n",
       "4          25   129635  2160-11-02 02:06:00       NaN      EMERGENCY   \n",
       "\n",
       "          ADMISSION_LOCATION         DISCHARGE_LOCATION INSURANCE LANGUAGE  \\\n",
       "0       EMERGENCY ROOM ADMIT  DISC-TRAN CANCER/CHLDRN H   Private      NaN   \n",
       "1  PHYS REFERRAL/NORMAL DELI           HOME HEALTH CARE  Medicare      NaN   \n",
       "2  TRANSFER FROM HOSP/EXTRAM           HOME HEALTH CARE  Medicare     ENGL   \n",
       "3  TRANSFER FROM HOSP/EXTRAM                       HOME   Private      NaN   \n",
       "4       EMERGENCY ROOM ADMIT                       HOME   Private      NaN   \n",
       "\n",
       "       RELIGION  ... injury mental misc  muscular  neoplasms  nervous  \\\n",
       "0  UNOBTAINABLE  ...      4      1    0         0          0        1   \n",
       "1     RELIGIOUS  ...      1      0    0         0          0        1   \n",
       "2     RELIGIOUS  ...      3      0    0         0          1        1   \n",
       "3     RELIGIOUS  ...      0      0    0         0          0        0   \n",
       "4  UNOBTAINABLE  ...      0      0    0         0          0        0   \n",
       "\n",
       "   pregnancy  prenatal  respiratory  skin  \n",
       "0          0         0            0     0  \n",
       "1          0         0            0     0  \n",
       "2          0         1            0     0  \n",
       "3          0         0            0     0  \n",
       "4          0         0            0     0  \n",
       "\n",
       "[5 rows x 31 columns]"
      ]
     },
     "execution_count": 56,
     "metadata": {},
     "output_type": "execute_result"
    }
   ],
   "source": [
    "# Verify Merge\n",
    "df.head()"
   ]
  },
  {
   "cell_type": "code",
   "execution_count": 57,
   "metadata": {
    "colab": {
     "base_uri": "https://localhost:8080/",
     "height": 513
    },
    "id": "qyiAQDFWr031",
    "outputId": "787d1ee8-a6af-4402-f17a-426a07f6eddb"
   },
   "outputs": [
    {
     "data": {
      "text/plain": [
       "Text(0.5, 1.0, 'Comparison of Diagnoses')"
      ]
     },
     "execution_count": 57,
     "metadata": {},
     "output_type": "execute_result"
    },
    {
     "data": {
      "image/png": "[encoded data removed]",
      "text/plain": [
       "<Figure size 700x500 with 1 Axes>"
      ]
     },
     "metadata": {},
     "output_type": "display_data"
    }
   ],
   "source": [
    "# Look at the median LOS by diagnosis category\n",
    "diag_cat_list = ['skin', 'infectious',  'misc', 'genitourinary', 'neoplasms', 'blood', 'respiratory',\n",
    "                  'congenital','nervous', 'muscular', 'digestive', 'mental', 'endocrine', 'injury',\n",
    "                 'circulatory', 'prenatal',  'pregnancy']\n",
    "\n",
    "results = []\n",
    "for variable in diag_cat_list:\n",
    "    results.append(df[[variable, 'DECEASED']].groupby(variable).sum().reset_index().values[1][1])\n",
    "\n",
    "sns.set(style=\"whitegrid\")\n",
    "#sns.set_style(\"ticks\")\n",
    "fig, ax = plt.subplots(figsize=(7,5))\n",
    "ind = range(len(results))\n",
    "ax.barh(ind, results, align='edge', color = '#55a868', alpha=0.8)\n",
    "ax.set_yticks(ind)\n",
    "ax.set_yticklabels(diag_cat_list)\n",
    "ax.set_xlabel('Deceased')\n",
    "ax.tick_params(left=False, right=False, top=False)\n",
    "ax.set_title('Comparison of Diagnoses'.format(variable))"
   ]
  },
  {
   "cell_type": "markdown",
   "metadata": {
    "id": "KwJ-cWgwCAOt"
   },
   "source": [
    "**Feature Engineering: Patients Table**"
   ]
  },
  {
   "cell_type": "code",
   "execution_count": 58,
   "metadata": {
    "id": "rr2JeXJrLVaH"
   },
   "outputs": [],
   "source": [
    "df_pat = pd.read_csv('PATIENTS.csv')"
   ]
  },
  {
   "cell_type": "code",
   "execution_count": 59,
   "metadata": {
    "colab": {
     "base_uri": "https://localhost:8080/",
     "height": 206
    },
    "id": "o97auQShr9WT",
    "outputId": "8739c20b-de7e-42a2-9745-23cf198ec95b"
   },
   "outputs": [
    {
     "data": {
      "text/html": [
       "<div>\n",
       "<style scoped>\n",
       "    .dataframe tbody tr th:only-of-type {\n",
       "        vertical-align: middle;\n",
       "    }\n",
       "\n",
       "    .dataframe tbody tr th {\n",
       "        vertical-align: top;\n",
       "    }\n",
       "\n",
       "    .dataframe thead th {\n",
       "        text-align: right;\n",
       "    }\n",
       "</style>\n",
       "<table border=\"1\" class=\"dataframe\">\n",
       "  <thead>\n",
       "    <tr style=\"text-align: right;\">\n",
       "      <th></th>\n",
       "      <th>ROW_ID</th>\n",
       "      <th>SUBJECT_ID</th>\n",
       "      <th>GENDER</th>\n",
       "      <th>DOB</th>\n",
       "      <th>DOD</th>\n",
       "      <th>DOD_HOSP</th>\n",
       "      <th>DOD_SSN</th>\n",
       "      <th>EXPIRE_FLAG</th>\n",
       "    </tr>\n",
       "  </thead>\n",
       "  <tbody>\n",
       "    <tr>\n",
       "      <th>0</th>\n",
       "      <td>234</td>\n",
       "      <td>249</td>\n",
       "      <td>F</td>\n",
       "      <td>2075-03-13 00:00:00</td>\n",
       "      <td>NaN</td>\n",
       "      <td>NaN</td>\n",
       "      <td>NaN</td>\n",
       "      <td>0</td>\n",
       "    </tr>\n",
       "    <tr>\n",
       "      <th>1</th>\n",
       "      <td>235</td>\n",
       "      <td>250</td>\n",
       "      <td>F</td>\n",
       "      <td>2164-12-27 00:00:00</td>\n",
       "      <td>2188-11-22 00:00:00</td>\n",
       "      <td>2188-11-22 00:00:00</td>\n",
       "      <td>NaN</td>\n",
       "      <td>1</td>\n",
       "    </tr>\n",
       "    <tr>\n",
       "      <th>2</th>\n",
       "      <td>236</td>\n",
       "      <td>251</td>\n",
       "      <td>M</td>\n",
       "      <td>2090-03-15 00:00:00</td>\n",
       "      <td>NaN</td>\n",
       "      <td>NaN</td>\n",
       "      <td>NaN</td>\n",
       "      <td>0</td>\n",
       "    </tr>\n",
       "    <tr>\n",
       "      <th>3</th>\n",
       "      <td>237</td>\n",
       "      <td>252</td>\n",
       "      <td>M</td>\n",
       "      <td>2078-03-06 00:00:00</td>\n",
       "      <td>NaN</td>\n",
       "      <td>NaN</td>\n",
       "      <td>NaN</td>\n",
       "      <td>0</td>\n",
       "    </tr>\n",
       "    <tr>\n",
       "      <th>4</th>\n",
       "      <td>238</td>\n",
       "      <td>253</td>\n",
       "      <td>F</td>\n",
       "      <td>2089-11-26 00:00:00</td>\n",
       "      <td>NaN</td>\n",
       "      <td>NaN</td>\n",
       "      <td>NaN</td>\n",
       "      <td>0</td>\n",
       "    </tr>\n",
       "  </tbody>\n",
       "</table>\n",
       "</div>"
      ],
      "text/plain": [
       "   ROW_ID  SUBJECT_ID GENDER                  DOB                  DOD  \\\n",
       "0     234         249      F  2075-03-13 00:00:00                  NaN   \n",
       "1     235         250      F  2164-12-27 00:00:00  2188-11-22 00:00:00   \n",
       "2     236         251      M  2090-03-15 00:00:00                  NaN   \n",
       "3     237         252      M  2078-03-06 00:00:00                  NaN   \n",
       "4     238         253      F  2089-11-26 00:00:00                  NaN   \n",
       "\n",
       "              DOD_HOSP DOD_SSN  EXPIRE_FLAG  \n",
       "0                  NaN     NaN            0  \n",
       "1  2188-11-22 00:00:00     NaN            1  \n",
       "2                  NaN     NaN            0  \n",
       "3                  NaN     NaN            0  \n",
       "4                  NaN     NaN            0  "
      ]
     },
     "execution_count": 59,
     "metadata": {},
     "output_type": "execute_result"
    }
   ],
   "source": [
    "df_pat.head()"
   ]
  },
  {
   "cell_type": "code",
   "execution_count": 60,
   "metadata": {
    "colab": {
     "base_uri": "https://localhost:8080/"
    },
    "id": "NhmasErtsAfV",
    "outputId": "5379405a-c284-4e3c-e7fe-4d7b2700af14"
   },
   "outputs": [
    {
     "data": {
      "text/plain": [
       "GENDER\n",
       "M    26121\n",
       "F    20399\n",
       "Name: count, dtype: int64"
      ]
     },
     "execution_count": 60,
     "metadata": {},
     "output_type": "execute_result"
    }
   ],
   "source": [
    "df_pat['GENDER'].value_counts()"
   ]
  },
  {
   "cell_type": "code",
   "execution_count": 61,
   "metadata": {
    "id": "QSOWrFH0sDJQ"
   },
   "outputs": [],
   "source": [
    "# Convert to datetime type\n",
    "df_pat['DOB'] = pd.to_datetime(df_pat['DOB'])"
   ]
  },
  {
   "cell_type": "code",
   "execution_count": 62,
   "metadata": {
    "colab": {
     "base_uri": "https://localhost:8080/",
     "height": 206
    },
    "id": "t2Gpc5JTsITj",
    "outputId": "5860ac8f-8a96-4934-e6ce-1488d2ca23ea"
   },
   "outputs": [
    {
     "data": {
      "text/html": [
       "<div>\n",
       "<style scoped>\n",
       "    .dataframe tbody tr th:only-of-type {\n",
       "        vertical-align: middle;\n",
       "    }\n",
       "\n",
       "    .dataframe tbody tr th {\n",
       "        vertical-align: top;\n",
       "    }\n",
       "\n",
       "    .dataframe thead th {\n",
       "        text-align: right;\n",
       "    }\n",
       "</style>\n",
       "<table border=\"1\" class=\"dataframe\">\n",
       "  <thead>\n",
       "    <tr style=\"text-align: right;\">\n",
       "      <th></th>\n",
       "      <th>SUBJECT_ID</th>\n",
       "      <th>DOB</th>\n",
       "      <th>GENDER</th>\n",
       "    </tr>\n",
       "  </thead>\n",
       "  <tbody>\n",
       "    <tr>\n",
       "      <th>0</th>\n",
       "      <td>249</td>\n",
       "      <td>2075-03-13</td>\n",
       "      <td>F</td>\n",
       "    </tr>\n",
       "    <tr>\n",
       "      <th>1</th>\n",
       "      <td>250</td>\n",
       "      <td>2164-12-27</td>\n",
       "      <td>F</td>\n",
       "    </tr>\n",
       "    <tr>\n",
       "      <th>2</th>\n",
       "      <td>251</td>\n",
       "      <td>2090-03-15</td>\n",
       "      <td>M</td>\n",
       "    </tr>\n",
       "    <tr>\n",
       "      <th>3</th>\n",
       "      <td>252</td>\n",
       "      <td>2078-03-06</td>\n",
       "      <td>M</td>\n",
       "    </tr>\n",
       "    <tr>\n",
       "      <th>4</th>\n",
       "      <td>253</td>\n",
       "      <td>2089-11-26</td>\n",
       "      <td>F</td>\n",
       "    </tr>\n",
       "  </tbody>\n",
       "</table>\n",
       "</div>"
      ],
      "text/plain": [
       "   SUBJECT_ID        DOB GENDER\n",
       "0         249 2075-03-13      F\n",
       "1         250 2164-12-27      F\n",
       "2         251 2090-03-15      M\n",
       "3         252 2078-03-06      M\n",
       "4         253 2089-11-26      F"
      ]
     },
     "execution_count": 62,
     "metadata": {},
     "output_type": "execute_result"
    }
   ],
   "source": [
    "df_pat = df_pat[['SUBJECT_ID', 'DOB', 'GENDER']]\n",
    "df_pat.head()"
   ]
  },
  {
   "cell_type": "code",
   "execution_count": 63,
   "metadata": {
    "id": "BPzF3IFOsLQy"
   },
   "outputs": [],
   "source": [
    "df = df.merge(df_pat, how='inner', on='SUBJECT_ID')"
   ]
  },
  {
   "cell_type": "code",
   "execution_count": 64,
   "metadata": {
    "colab": {
     "base_uri": "https://localhost:8080/",
     "height": 429
    },
    "id": "-sVsW6GzEB3M",
    "outputId": "8d86644c-ba87-40dd-eb34-eb9161d2d0b0"
   },
   "outputs": [
    {
     "data": {
      "text/html": [
       "<div>\n",
       "<style scoped>\n",
       "    .dataframe tbody tr th:only-of-type {\n",
       "        vertical-align: middle;\n",
       "    }\n",
       "\n",
       "    .dataframe tbody tr th {\n",
       "        vertical-align: top;\n",
       "    }\n",
       "\n",
       "    .dataframe thead th {\n",
       "        text-align: right;\n",
       "    }\n",
       "</style>\n",
       "<table border=\"1\" class=\"dataframe\">\n",
       "  <thead>\n",
       "    <tr style=\"text-align: right;\">\n",
       "      <th></th>\n",
       "      <th>SUBJECT_ID</th>\n",
       "      <th>HADM_ID</th>\n",
       "      <th>ADMITTIME</th>\n",
       "      <th>DEATHTIME</th>\n",
       "      <th>ADMISSION_TYPE</th>\n",
       "      <th>ADMISSION_LOCATION</th>\n",
       "      <th>DISCHARGE_LOCATION</th>\n",
       "      <th>INSURANCE</th>\n",
       "      <th>LANGUAGE</th>\n",
       "      <th>RELIGION</th>\n",
       "      <th>...</th>\n",
       "      <th>misc</th>\n",
       "      <th>muscular</th>\n",
       "      <th>neoplasms</th>\n",
       "      <th>nervous</th>\n",
       "      <th>pregnancy</th>\n",
       "      <th>prenatal</th>\n",
       "      <th>respiratory</th>\n",
       "      <th>skin</th>\n",
       "      <th>DOB</th>\n",
       "      <th>GENDER</th>\n",
       "    </tr>\n",
       "  </thead>\n",
       "  <tbody>\n",
       "    <tr>\n",
       "      <th>0</th>\n",
       "      <td>22</td>\n",
       "      <td>165315</td>\n",
       "      <td>2196-04-09 12:26:00</td>\n",
       "      <td>NaN</td>\n",
       "      <td>EMERGENCY</td>\n",
       "      <td>EMERGENCY ROOM ADMIT</td>\n",
       "      <td>DISC-TRAN CANCER/CHLDRN H</td>\n",
       "      <td>Private</td>\n",
       "      <td>NaN</td>\n",
       "      <td>UNOBTAINABLE</td>\n",
       "      <td>...</td>\n",
       "      <td>0</td>\n",
       "      <td>0</td>\n",
       "      <td>0</td>\n",
       "      <td>1</td>\n",
       "      <td>0</td>\n",
       "      <td>0</td>\n",
       "      <td>0</td>\n",
       "      <td>0</td>\n",
       "      <td>2131-05-07</td>\n",
       "      <td>F</td>\n",
       "    </tr>\n",
       "    <tr>\n",
       "      <th>1</th>\n",
       "      <td>23</td>\n",
       "      <td>152223</td>\n",
       "      <td>2153-09-03 07:15:00</td>\n",
       "      <td>NaN</td>\n",
       "      <td>ELECTIVE</td>\n",
       "      <td>PHYS REFERRAL/NORMAL DELI</td>\n",
       "      <td>HOME HEALTH CARE</td>\n",
       "      <td>Medicare</td>\n",
       "      <td>NaN</td>\n",
       "      <td>RELIGIOUS</td>\n",
       "      <td>...</td>\n",
       "      <td>0</td>\n",
       "      <td>0</td>\n",
       "      <td>0</td>\n",
       "      <td>1</td>\n",
       "      <td>0</td>\n",
       "      <td>0</td>\n",
       "      <td>0</td>\n",
       "      <td>0</td>\n",
       "      <td>2082-07-17</td>\n",
       "      <td>M</td>\n",
       "    </tr>\n",
       "    <tr>\n",
       "      <th>2</th>\n",
       "      <td>23</td>\n",
       "      <td>124321</td>\n",
       "      <td>2157-10-18 19:34:00</td>\n",
       "      <td>NaN</td>\n",
       "      <td>EMERGENCY</td>\n",
       "      <td>TRANSFER FROM HOSP/EXTRAM</td>\n",
       "      <td>HOME HEALTH CARE</td>\n",
       "      <td>Medicare</td>\n",
       "      <td>ENGL</td>\n",
       "      <td>RELIGIOUS</td>\n",
       "      <td>...</td>\n",
       "      <td>0</td>\n",
       "      <td>0</td>\n",
       "      <td>1</td>\n",
       "      <td>1</td>\n",
       "      <td>0</td>\n",
       "      <td>1</td>\n",
       "      <td>0</td>\n",
       "      <td>0</td>\n",
       "      <td>2082-07-17</td>\n",
       "      <td>M</td>\n",
       "    </tr>\n",
       "    <tr>\n",
       "      <th>3</th>\n",
       "      <td>24</td>\n",
       "      <td>161859</td>\n",
       "      <td>2139-06-06 16:14:00</td>\n",
       "      <td>NaN</td>\n",
       "      <td>EMERGENCY</td>\n",
       "      <td>TRANSFER FROM HOSP/EXTRAM</td>\n",
       "      <td>HOME</td>\n",
       "      <td>Private</td>\n",
       "      <td>NaN</td>\n",
       "      <td>RELIGIOUS</td>\n",
       "      <td>...</td>\n",
       "      <td>0</td>\n",
       "      <td>0</td>\n",
       "      <td>0</td>\n",
       "      <td>0</td>\n",
       "      <td>0</td>\n",
       "      <td>0</td>\n",
       "      <td>0</td>\n",
       "      <td>0</td>\n",
       "      <td>2100-05-31</td>\n",
       "      <td>M</td>\n",
       "    </tr>\n",
       "    <tr>\n",
       "      <th>4</th>\n",
       "      <td>25</td>\n",
       "      <td>129635</td>\n",
       "      <td>2160-11-02 02:06:00</td>\n",
       "      <td>NaN</td>\n",
       "      <td>EMERGENCY</td>\n",
       "      <td>EMERGENCY ROOM ADMIT</td>\n",
       "      <td>HOME</td>\n",
       "      <td>Private</td>\n",
       "      <td>NaN</td>\n",
       "      <td>UNOBTAINABLE</td>\n",
       "      <td>...</td>\n",
       "      <td>0</td>\n",
       "      <td>0</td>\n",
       "      <td>0</td>\n",
       "      <td>0</td>\n",
       "      <td>0</td>\n",
       "      <td>0</td>\n",
       "      <td>0</td>\n",
       "      <td>0</td>\n",
       "      <td>2101-11-21</td>\n",
       "      <td>M</td>\n",
       "    </tr>\n",
       "  </tbody>\n",
       "</table>\n",
       "<p>5 rows × 33 columns</p>\n",
       "</div>"
      ],
      "text/plain": [
       "   SUBJECT_ID  HADM_ID            ADMITTIME DEATHTIME ADMISSION_TYPE  \\\n",
       "0          22   165315  2196-04-09 12:26:00       NaN      EMERGENCY   \n",
       "1          23   152223  2153-09-03 07:15:00       NaN       ELECTIVE   \n",
       "2          23   124321  2157-10-18 19:34:00       NaN      EMERGENCY   \n",
       "3          24   161859  2139-06-06 16:14:00       NaN      EMERGENCY   \n",
       "4          25   129635  2160-11-02 02:06:00       NaN      EMERGENCY   \n",
       "\n",
       "          ADMISSION_LOCATION         DISCHARGE_LOCATION INSURANCE LANGUAGE  \\\n",
       "0       EMERGENCY ROOM ADMIT  DISC-TRAN CANCER/CHLDRN H   Private      NaN   \n",
       "1  PHYS REFERRAL/NORMAL DELI           HOME HEALTH CARE  Medicare      NaN   \n",
       "2  TRANSFER FROM HOSP/EXTRAM           HOME HEALTH CARE  Medicare     ENGL   \n",
       "3  TRANSFER FROM HOSP/EXTRAM                       HOME   Private      NaN   \n",
       "4       EMERGENCY ROOM ADMIT                       HOME   Private      NaN   \n",
       "\n",
       "       RELIGION  ... misc muscular neoplasms  nervous  pregnancy  prenatal  \\\n",
       "0  UNOBTAINABLE  ...    0        0         0        1          0         0   \n",
       "1     RELIGIOUS  ...    0        0         0        1          0         0   \n",
       "2     RELIGIOUS  ...    0        0         1        1          0         1   \n",
       "3     RELIGIOUS  ...    0        0         0        0          0         0   \n",
       "4  UNOBTAINABLE  ...    0        0         0        0          0         0   \n",
       "\n",
       "   respiratory  skin        DOB  GENDER  \n",
       "0            0     0 2131-05-07       F  \n",
       "1            0     0 2082-07-17       M  \n",
       "2            0     0 2082-07-17       M  \n",
       "3            0     0 2100-05-31       M  \n",
       "4            0     0 2101-11-21       M  \n",
       "\n",
       "[5 rows x 33 columns]"
      ]
     },
     "execution_count": 64,
     "metadata": {},
     "output_type": "execute_result"
    }
   ],
   "source": [
    "df.head()\n"
   ]
  },
  {
   "cell_type": "code",
   "execution_count": 65,
   "metadata": {
    "colab": {
     "base_uri": "https://localhost:8080/",
     "height": 206
    },
    "id": "4hpo1vf4sO5A",
    "outputId": "4cf9f28f-7311-4aa4-9deb-d3c5b008b3e1"
   },
   "outputs": [
    {
     "data": {
      "text/html": [
       "<div>\n",
       "<style scoped>\n",
       "    .dataframe tbody tr th:only-of-type {\n",
       "        vertical-align: middle;\n",
       "    }\n",
       "\n",
       "    .dataframe tbody tr th {\n",
       "        vertical-align: top;\n",
       "    }\n",
       "\n",
       "    .dataframe thead th {\n",
       "        text-align: right;\n",
       "    }\n",
       "</style>\n",
       "<table border=\"1\" class=\"dataframe\">\n",
       "  <thead>\n",
       "    <tr style=\"text-align: right;\">\n",
       "      <th></th>\n",
       "      <th>SUBJECT_ID</th>\n",
       "      <th>ADMIT_MIN</th>\n",
       "    </tr>\n",
       "  </thead>\n",
       "  <tbody>\n",
       "    <tr>\n",
       "      <th>0</th>\n",
       "      <td>2</td>\n",
       "      <td>2138-07-17 19:04:00</td>\n",
       "    </tr>\n",
       "    <tr>\n",
       "      <th>1</th>\n",
       "      <td>3</td>\n",
       "      <td>2101-10-20 19:08:00</td>\n",
       "    </tr>\n",
       "    <tr>\n",
       "      <th>2</th>\n",
       "      <td>4</td>\n",
       "      <td>2191-03-16 00:28:00</td>\n",
       "    </tr>\n",
       "    <tr>\n",
       "      <th>3</th>\n",
       "      <td>5</td>\n",
       "      <td>2103-02-02 04:31:00</td>\n",
       "    </tr>\n",
       "    <tr>\n",
       "      <th>4</th>\n",
       "      <td>6</td>\n",
       "      <td>2175-05-30 07:15:00</td>\n",
       "    </tr>\n",
       "  </tbody>\n",
       "</table>\n",
       "</div>"
      ],
      "text/plain": [
       "   SUBJECT_ID            ADMIT_MIN\n",
       "0           2  2138-07-17 19:04:00\n",
       "1           3  2101-10-20 19:08:00\n",
       "2           4  2191-03-16 00:28:00\n",
       "3           5  2103-02-02 04:31:00\n",
       "4           6  2175-05-30 07:15:00"
      ]
     },
     "execution_count": 65,
     "metadata": {},
     "output_type": "execute_result"
    }
   ],
   "source": [
    "# Find the first admission time for each patient\n",
    "df_age_min = df[['SUBJECT_ID', 'ADMITTIME']].groupby('SUBJECT_ID').min().reset_index()\n",
    "df_age_min.columns = ['SUBJECT_ID', 'ADMIT_MIN']\n",
    "df_age_min.head()"
   ]
  },
  {
   "cell_type": "code",
   "execution_count": 66,
   "metadata": {
    "id": "1hexXY-XsXUu"
   },
   "outputs": [],
   "source": [
    "df = df.merge(df_age_min, how='outer', on='SUBJECT_ID')"
   ]
  },
  {
   "cell_type": "code",
   "execution_count": 67,
   "metadata": {
    "colab": {
     "base_uri": "https://localhost:8080/",
     "height": 429
    },
    "id": "Amddi6xXscBX",
    "outputId": "1df882e1-c051-43c1-cb36-36471def760f"
   },
   "outputs": [
    {
     "data": {
      "text/html": [
       "<div>\n",
       "<style scoped>\n",
       "    .dataframe tbody tr th:only-of-type {\n",
       "        vertical-align: middle;\n",
       "    }\n",
       "\n",
       "    .dataframe tbody tr th {\n",
       "        vertical-align: top;\n",
       "    }\n",
       "\n",
       "    .dataframe thead th {\n",
       "        text-align: right;\n",
       "    }\n",
       "</style>\n",
       "<table border=\"1\" class=\"dataframe\">\n",
       "  <thead>\n",
       "    <tr style=\"text-align: right;\">\n",
       "      <th></th>\n",
       "      <th>SUBJECT_ID</th>\n",
       "      <th>HADM_ID</th>\n",
       "      <th>ADMITTIME</th>\n",
       "      <th>DEATHTIME</th>\n",
       "      <th>ADMISSION_TYPE</th>\n",
       "      <th>ADMISSION_LOCATION</th>\n",
       "      <th>DISCHARGE_LOCATION</th>\n",
       "      <th>INSURANCE</th>\n",
       "      <th>LANGUAGE</th>\n",
       "      <th>RELIGION</th>\n",
       "      <th>...</th>\n",
       "      <th>muscular</th>\n",
       "      <th>neoplasms</th>\n",
       "      <th>nervous</th>\n",
       "      <th>pregnancy</th>\n",
       "      <th>prenatal</th>\n",
       "      <th>respiratory</th>\n",
       "      <th>skin</th>\n",
       "      <th>DOB</th>\n",
       "      <th>GENDER</th>\n",
       "      <th>ADMIT_MIN</th>\n",
       "    </tr>\n",
       "  </thead>\n",
       "  <tbody>\n",
       "    <tr>\n",
       "      <th>0</th>\n",
       "      <td>2</td>\n",
       "      <td>163353</td>\n",
       "      <td>2138-07-17 19:04:00</td>\n",
       "      <td>NaN</td>\n",
       "      <td>NEWBORN</td>\n",
       "      <td>PHYS REFERRAL/NORMAL DELI</td>\n",
       "      <td>HOME</td>\n",
       "      <td>Private</td>\n",
       "      <td>NaN</td>\n",
       "      <td>NOT SPECIFIED</td>\n",
       "      <td>...</td>\n",
       "      <td>0</td>\n",
       "      <td>0</td>\n",
       "      <td>0</td>\n",
       "      <td>0</td>\n",
       "      <td>0</td>\n",
       "      <td>0</td>\n",
       "      <td>0</td>\n",
       "      <td>2138-07-17</td>\n",
       "      <td>M</td>\n",
       "      <td>2138-07-17 19:04:00</td>\n",
       "    </tr>\n",
       "    <tr>\n",
       "      <th>1</th>\n",
       "      <td>3</td>\n",
       "      <td>145834</td>\n",
       "      <td>2101-10-20 19:08:00</td>\n",
       "      <td>NaN</td>\n",
       "      <td>EMERGENCY</td>\n",
       "      <td>EMERGENCY ROOM ADMIT</td>\n",
       "      <td>SNF</td>\n",
       "      <td>Medicare</td>\n",
       "      <td>NaN</td>\n",
       "      <td>RELIGIOUS</td>\n",
       "      <td>...</td>\n",
       "      <td>0</td>\n",
       "      <td>0</td>\n",
       "      <td>0</td>\n",
       "      <td>0</td>\n",
       "      <td>0</td>\n",
       "      <td>0</td>\n",
       "      <td>1</td>\n",
       "      <td>2025-04-11</td>\n",
       "      <td>M</td>\n",
       "      <td>2101-10-20 19:08:00</td>\n",
       "    </tr>\n",
       "    <tr>\n",
       "      <th>2</th>\n",
       "      <td>4</td>\n",
       "      <td>185777</td>\n",
       "      <td>2191-03-16 00:28:00</td>\n",
       "      <td>NaN</td>\n",
       "      <td>EMERGENCY</td>\n",
       "      <td>EMERGENCY ROOM ADMIT</td>\n",
       "      <td>HOME WITH HOME IV PROVIDR</td>\n",
       "      <td>Private</td>\n",
       "      <td>NaN</td>\n",
       "      <td>RELIGIOUS</td>\n",
       "      <td>...</td>\n",
       "      <td>0</td>\n",
       "      <td>0</td>\n",
       "      <td>0</td>\n",
       "      <td>0</td>\n",
       "      <td>0</td>\n",
       "      <td>0</td>\n",
       "      <td>0</td>\n",
       "      <td>2143-05-12</td>\n",
       "      <td>F</td>\n",
       "      <td>2191-03-16 00:28:00</td>\n",
       "    </tr>\n",
       "    <tr>\n",
       "      <th>3</th>\n",
       "      <td>5</td>\n",
       "      <td>178980</td>\n",
       "      <td>2103-02-02 04:31:00</td>\n",
       "      <td>NaN</td>\n",
       "      <td>NEWBORN</td>\n",
       "      <td>PHYS REFERRAL/NORMAL DELI</td>\n",
       "      <td>HOME</td>\n",
       "      <td>Private</td>\n",
       "      <td>NaN</td>\n",
       "      <td>RELIGIOUS</td>\n",
       "      <td>...</td>\n",
       "      <td>0</td>\n",
       "      <td>0</td>\n",
       "      <td>0</td>\n",
       "      <td>0</td>\n",
       "      <td>0</td>\n",
       "      <td>0</td>\n",
       "      <td>0</td>\n",
       "      <td>2103-02-02</td>\n",
       "      <td>M</td>\n",
       "      <td>2103-02-02 04:31:00</td>\n",
       "    </tr>\n",
       "    <tr>\n",
       "      <th>4</th>\n",
       "      <td>6</td>\n",
       "      <td>107064</td>\n",
       "      <td>2175-05-30 07:15:00</td>\n",
       "      <td>NaN</td>\n",
       "      <td>ELECTIVE</td>\n",
       "      <td>PHYS REFERRAL/NORMAL DELI</td>\n",
       "      <td>HOME HEALTH CARE</td>\n",
       "      <td>Medicare</td>\n",
       "      <td>ENGL</td>\n",
       "      <td>NOT SPECIFIED</td>\n",
       "      <td>...</td>\n",
       "      <td>0</td>\n",
       "      <td>0</td>\n",
       "      <td>0</td>\n",
       "      <td>0</td>\n",
       "      <td>0</td>\n",
       "      <td>0</td>\n",
       "      <td>0</td>\n",
       "      <td>2109-06-21</td>\n",
       "      <td>F</td>\n",
       "      <td>2175-05-30 07:15:00</td>\n",
       "    </tr>\n",
       "  </tbody>\n",
       "</table>\n",
       "<p>5 rows × 34 columns</p>\n",
       "</div>"
      ],
      "text/plain": [
       "   SUBJECT_ID  HADM_ID            ADMITTIME DEATHTIME ADMISSION_TYPE  \\\n",
       "0           2   163353  2138-07-17 19:04:00       NaN        NEWBORN   \n",
       "1           3   145834  2101-10-20 19:08:00       NaN      EMERGENCY   \n",
       "2           4   185777  2191-03-16 00:28:00       NaN      EMERGENCY   \n",
       "3           5   178980  2103-02-02 04:31:00       NaN        NEWBORN   \n",
       "4           6   107064  2175-05-30 07:15:00       NaN       ELECTIVE   \n",
       "\n",
       "          ADMISSION_LOCATION         DISCHARGE_LOCATION INSURANCE LANGUAGE  \\\n",
       "0  PHYS REFERRAL/NORMAL DELI                       HOME   Private      NaN   \n",
       "1       EMERGENCY ROOM ADMIT                        SNF  Medicare      NaN   \n",
       "2       EMERGENCY ROOM ADMIT  HOME WITH HOME IV PROVIDR   Private      NaN   \n",
       "3  PHYS REFERRAL/NORMAL DELI                       HOME   Private      NaN   \n",
       "4  PHYS REFERRAL/NORMAL DELI           HOME HEALTH CARE  Medicare     ENGL   \n",
       "\n",
       "        RELIGION  ... muscular neoplasms nervous  pregnancy  prenatal  \\\n",
       "0  NOT SPECIFIED  ...        0         0       0          0         0   \n",
       "1      RELIGIOUS  ...        0         0       0          0         0   \n",
       "2      RELIGIOUS  ...        0         0       0          0         0   \n",
       "3      RELIGIOUS  ...        0         0       0          0         0   \n",
       "4  NOT SPECIFIED  ...        0         0       0          0         0   \n",
       "\n",
       "   respiratory  skin        DOB  GENDER            ADMIT_MIN  \n",
       "0            0     0 2138-07-17       M  2138-07-17 19:04:00  \n",
       "1            0     1 2025-04-11       M  2101-10-20 19:08:00  \n",
       "2            0     0 2143-05-12       F  2191-03-16 00:28:00  \n",
       "3            0     0 2103-02-02       M  2103-02-02 04:31:00  \n",
       "4            0     0 2109-06-21       F  2175-05-30 07:15:00  \n",
       "\n",
       "[5 rows x 34 columns]"
      ]
     },
     "execution_count": 67,
     "metadata": {},
     "output_type": "execute_result"
    }
   ],
   "source": [
    "# Verify merge\n",
    "df.head()"
   ]
  },
  {
   "cell_type": "code",
   "execution_count": 68,
   "metadata": {
    "colab": {
     "base_uri": "https://localhost:8080/"
    },
    "id": "MT51WUUVsgw0",
    "outputId": "839e6297-df3e-43a0-925f-f31f5bbcd828"
   },
   "outputs": [
    {
     "name": "stdout",
     "output_type": "stream",
     "text": [
      "   SUBJECT_ID  HADM_ID            ADMITTIME DEATHTIME ADMISSION_TYPE  \\\n",
      "0           2   163353  2138-07-17 19:04:00       NaN        NEWBORN   \n",
      "1           3   145834  2101-10-20 19:08:00       NaN      EMERGENCY   \n",
      "2           4   185777  2191-03-16 00:28:00       NaN      EMERGENCY   \n",
      "3           5   178980  2103-02-02 04:31:00       NaN        NEWBORN   \n",
      "4           6   107064  2175-05-30 07:15:00       NaN       ELECTIVE   \n",
      "\n",
      "          ADMISSION_LOCATION         DISCHARGE_LOCATION INSURANCE LANGUAGE  \\\n",
      "0  PHYS REFERRAL/NORMAL DELI                       HOME   Private      NaN   \n",
      "1       EMERGENCY ROOM ADMIT                        SNF  Medicare      NaN   \n",
      "2       EMERGENCY ROOM ADMIT  HOME WITH HOME IV PROVIDR   Private      NaN   \n",
      "3  PHYS REFERRAL/NORMAL DELI                       HOME   Private      NaN   \n",
      "4  PHYS REFERRAL/NORMAL DELI           HOME HEALTH CARE  Medicare     ENGL   \n",
      "\n",
      "        RELIGION  ... neoplasms nervous pregnancy  prenatal  respiratory  \\\n",
      "0  NOT SPECIFIED  ...         0       0         0         0            0   \n",
      "1      RELIGIOUS  ...         0       0         0         0            0   \n",
      "2      RELIGIOUS  ...         0       0         0         0            0   \n",
      "3      RELIGIOUS  ...         0       0         0         0            0   \n",
      "4  NOT SPECIFIED  ...         0       0         0         0            0   \n",
      "\n",
      "   skin         DOB  GENDER   ADMIT_MIN        age  \n",
      "0     0  2138-07-17       M  2138-07-17   0.000000  \n",
      "1     1  2025-04-11       M  2101-10-20  76.575342  \n",
      "2     0  2143-05-12       F  2191-03-16  47.876712  \n",
      "3     0  2103-02-02       M  2103-02-02   0.000000  \n",
      "4     0  2109-06-21       F  2175-05-30  65.983562  \n",
      "\n",
      "[5 rows x 35 columns]\n"
     ]
    }
   ],
   "source": [
    "df['ADMIT_MIN'] = pd.to_datetime(df['ADMIT_MIN']).dt.date\n",
    "df['DOB'] = pd.to_datetime(df['DOB']).dt.date\n",
    "df['age'] = df.apply(lambda e: (e['ADMIT_MIN'] - e['DOB']).days/365, axis=1)\n",
    "\n",
    "#df['ADMIT_MIN'] = pd.to_datetime(df['ADMIT_MIN'])\n",
    "#df['DOB'] = pd.to_datetime(df['DOB'])\n",
    "#df['age'] = (df['ADMIT_MIN'].sub(df['DOB'], axis=0))// np.timedelta64(1, 'Y')\n",
    "print(df.head())\n",
    "#df['age'].isnull().sum()"
   ]
  },
  {
   "cell_type": "code",
   "execution_count": 69,
   "metadata": {
    "colab": {
     "base_uri": "https://localhost:8080/",
     "height": 480
    },
    "id": "iyHsnnQgtChD",
    "outputId": "2f34b6f1-7c59-4027-8519-d1688231010e"
   },
   "outputs": [
    {
     "data": {
      "image/png": "[encoded data removed]",
      "text/plain": [
       "<Figure size 640x480 with 1 Axes>"
      ]
     },
     "metadata": {},
     "output_type": "display_data"
    }
   ],
   "source": [
    "# Note that no ‘middle’ patients show up - this reflects the fact that MIMIC-III does not contain data from pediatric patients.\n",
    "plt.hist(df['age'], bins=20, color='#c44e52')\n",
    "plt.ylabel('Count')\n",
    "plt.xlabel('Age (years)')\n",
    "plt.title('Distribution of Age in MIMIC-III')\n",
    "plt.tick_params(left=False, bottom=False, top=False, right=False)\n",
    "plt.show();"
   ]
  },
  {
   "cell_type": "code",
   "execution_count": 70,
   "metadata": {
    "colab": {
     "base_uri": "https://localhost:8080/"
    },
    "id": "EMMxHHgKtYbj",
    "outputId": "b45f6513-023d-48af-c444-054c89c82b84"
   },
   "outputs": [
    {
     "data": {
      "text/plain": [
       "age\n",
       "senior          32141\n",
       "middle_adult    12101\n",
       "newborn          8110\n",
       "young_adult      4008\n",
       "300.2            2616\n",
       "Name: count, dtype: int64"
      ]
     },
     "execution_count": 70,
     "metadata": {},
     "output_type": "execute_result"
    }
   ],
   "source": [
    "# https://en.wikipedia.org/wiki/List_of_ICD-9_codes\n",
    "age_ranges = [(0, 13), (13, 36), (36, 56), (56, 100)]\n",
    "for num, cat_range in enumerate(age_ranges):\n",
    "    df['age'] = np.where(df['age'].between(cat_range[0],cat_range[1]),\n",
    "            num, df['age'])\n",
    "\n",
    "age_dict = {0: 'newborn', 1: 'young_adult', 2: 'middle_adult', 3: 'senior'}\n",
    "df['age'] = df['age'].replace(age_dict)\n",
    "df.age.value_counts()"
   ]
  },
  {
   "cell_type": "code",
   "execution_count": 71,
   "metadata": {
    "colab": {
     "base_uri": "https://localhost:8080/",
     "height": 401
    },
    "id": "thz45Tbhtcho",
    "outputId": "4e101d5c-316f-463b-b657-640e35341f25"
   },
   "outputs": [
    {
     "data": {
      "image/png": "[encoded data removed]",
      "text/plain": [
       "<Figure size 800x400 with 1 Axes>"
      ]
     },
     "metadata": {},
     "output_type": "display_data"
    },
    {
     "name": "stderr",
     "output_type": "stream",
     "text": [
      "C:\\Users\\Water\\AppData\\Local\\Temp\\ipykernel_22280\\1687169820.py:2: FutureWarning: A value is trying to be set on a copy of a DataFrame or Series through chained assignment using an inplace method.\n",
      "The behavior will change in pandas 3.0. This inplace method will never work because the intermediate object on which we are setting values always behaves as a copy.\n",
      "\n",
      "For example, when doing 'df[col].method(value, inplace=True)', try using 'df.method({col: value}, inplace=True)' or df[col] = df[col].method(value) instead, to perform the operation inplace on the original object.\n",
      "\n",
      "\n",
      "  df['GENDER'].replace({'M': 0, 'F':1}, inplace=True)\n",
      "C:\\Users\\Water\\AppData\\Local\\Temp\\ipykernel_22280\\1687169820.py:2: FutureWarning: Downcasting behavior in `replace` is deprecated and will be removed in a future version. To retain the old behavior, explicitly call `result.infer_objects(copy=False)`. To opt-in to the future behavior, set `pd.set_option('future.no_silent_downcasting', True)`\n",
      "  df['GENDER'].replace({'M': 0, 'F':1}, inplace=True)\n"
     ]
    }
   ],
   "source": [
    "boxplot_los_groupby('GENDER', los_range=(0, 30))\n",
    "df['GENDER'].replace({'M': 0, 'F':1}, inplace=True)"
   ]
  },
  {
   "cell_type": "markdown",
   "metadata": {
    "id": "D_PldmrkCJdx"
   },
   "source": [
    "**Feature Engineering: ICUSTAYS Table**"
   ]
  },
  {
   "cell_type": "code",
   "execution_count": 72,
   "metadata": {
    "id": "saNkdWh8O9fU"
   },
   "outputs": [],
   "source": [
    "df_icu = pd.read_csv('ICUSTAYS.csv')"
   ]
  },
  {
   "cell_type": "code",
   "execution_count": 73,
   "metadata": {
    "colab": {
     "base_uri": "https://localhost:8080/"
    },
    "id": "Ghps3jKBt7b0",
    "outputId": "f79ee598-d9e7-4057-8a77-0268657a6bb3"
   },
   "outputs": [
    {
     "name": "stdout",
     "output_type": "stream",
     "text": [
      "<class 'pandas.core.frame.DataFrame'>\n",
      "RangeIndex: 61532 entries, 0 to 61531\n",
      "Data columns (total 12 columns):\n",
      " #   Column          Non-Null Count  Dtype  \n",
      "---  ------          --------------  -----  \n",
      " 0   ROW_ID          61532 non-null  int64  \n",
      " 1   SUBJECT_ID      61532 non-null  int64  \n",
      " 2   HADM_ID         61532 non-null  int64  \n",
      " 3   ICUSTAY_ID      61532 non-null  int64  \n",
      " 4   DBSOURCE        61532 non-null  object \n",
      " 5   FIRST_CAREUNIT  61532 non-null  object \n",
      " 6   LAST_CAREUNIT   61532 non-null  object \n",
      " 7   FIRST_WARDID    61532 non-null  int64  \n",
      " 8   LAST_WARDID     61532 non-null  int64  \n",
      " 9   INTIME          61532 non-null  object \n",
      " 10  OUTTIME         61522 non-null  object \n",
      " 11  LOS             61522 non-null  float64\n",
      "dtypes: float64(1), int64(6), object(5)\n",
      "memory usage: 5.6+ MB\n"
     ]
    }
   ],
   "source": [
    "# Intensive Care Unit (ICU) for each admission to hospital\n",
    "df_icu.info()"
   ]
  },
  {
   "cell_type": "code",
   "execution_count": 74,
   "metadata": {
    "colab": {
     "base_uri": "https://localhost:8080/"
    },
    "id": "MmXbpeRft-cN",
    "outputId": "af1dc476-b95a-4898-cc44-64cd3cf0c470"
   },
   "outputs": [
    {
     "data": {
      "text/plain": [
       "57786"
      ]
     },
     "execution_count": 74,
     "metadata": {},
     "output_type": "execute_result"
    }
   ],
   "source": [
    "df_icu['HADM_ID'].nunique()"
   ]
  },
  {
   "cell_type": "code",
   "execution_count": 75,
   "metadata": {},
   "outputs": [
    {
     "data": {
      "text/plain": [
       "0         MICU\n",
       "1         MICU\n",
       "2          CCU\n",
       "3         MICU\n",
       "4          CCU\n",
       "         ...  \n",
       "61527     CSRU\n",
       "61528      CCU\n",
       "61529     SICU\n",
       "61530     CSRU\n",
       "61531    TSICU\n",
       "Name: FIRST_CAREUNIT, Length: 61532, dtype: object"
      ]
     },
     "execution_count": 75,
     "metadata": {},
     "output_type": "execute_result"
    }
   ],
   "source": [
    "df_icu['FIRST_CAREUNIT']"
   ]
  },
  {
   "cell_type": "code",
   "execution_count": 76,
   "metadata": {
    "colab": {
     "base_uri": "https://localhost:8080/",
     "height": 324
    },
    "id": "EfNGqfm0uQWE",
    "outputId": "66c48cad-9bce-4774-b232-aaab3a01684e"
   },
   "outputs": [],
   "source": [
    "# df_icu.groupby('FIRST_CAREUNIT').median()"
   ]
  },
  {
   "cell_type": "code",
   "execution_count": 77,
   "metadata": {
    "id": "XTBhxq2SuaTW"
   },
   "outputs": [],
   "source": [
    "# Based on above statistics, reduce to just ICU and NICU groups\n",
    "df_icu['FIRST_CAREUNIT'].replace({'CCU': 'ICU', 'CSRU': 'ICU', 'MICU': 'ICU',\n",
    "                                  'SICU': 'ICU', 'TSICU': 'ICU'}, inplace=True)"
   ]
  },
  {
   "cell_type": "code",
   "execution_count": 78,
   "metadata": {
    "colab": {
     "base_uri": "https://localhost:8080/",
     "height": 206
    },
    "id": "QZaf-4gbudbi",
    "outputId": "aec5121b-2c79-42f8-c384-4e1e5b0f854e"
   },
   "outputs": [
    {
     "data": {
      "text/html": [
       "<div>\n",
       "<style scoped>\n",
       "    .dataframe tbody tr th:only-of-type {\n",
       "        vertical-align: middle;\n",
       "    }\n",
       "\n",
       "    .dataframe tbody tr th {\n",
       "        vertical-align: top;\n",
       "    }\n",
       "\n",
       "    .dataframe thead th {\n",
       "        text-align: right;\n",
       "    }\n",
       "</style>\n",
       "<table border=\"1\" class=\"dataframe\">\n",
       "  <thead>\n",
       "    <tr style=\"text-align: right;\">\n",
       "      <th></th>\n",
       "      <th>HADM_ID</th>\n",
       "      <th>cat</th>\n",
       "    </tr>\n",
       "  </thead>\n",
       "  <tbody>\n",
       "    <tr>\n",
       "      <th>0</th>\n",
       "      <td>100001</td>\n",
       "      <td>[ICU]</td>\n",
       "    </tr>\n",
       "    <tr>\n",
       "      <th>1</th>\n",
       "      <td>100003</td>\n",
       "      <td>[ICU]</td>\n",
       "    </tr>\n",
       "    <tr>\n",
       "      <th>2</th>\n",
       "      <td>100006</td>\n",
       "      <td>[ICU]</td>\n",
       "    </tr>\n",
       "    <tr>\n",
       "      <th>3</th>\n",
       "      <td>100007</td>\n",
       "      <td>[ICU]</td>\n",
       "    </tr>\n",
       "    <tr>\n",
       "      <th>4</th>\n",
       "      <td>100009</td>\n",
       "      <td>[ICU]</td>\n",
       "    </tr>\n",
       "  </tbody>\n",
       "</table>\n",
       "</div>"
      ],
      "text/plain": [
       "   HADM_ID    cat\n",
       "0   100001  [ICU]\n",
       "1   100003  [ICU]\n",
       "2   100006  [ICU]\n",
       "3   100007  [ICU]\n",
       "4   100009  [ICU]"
      ]
     },
     "execution_count": 78,
     "metadata": {},
     "output_type": "execute_result"
    }
   ],
   "source": [
    "df_icu['cat'] = df_icu['FIRST_CAREUNIT']\n",
    "icu_list = df_icu.groupby('HADM_ID')['cat'].apply(list).reset_index()\n",
    "icu_list.head()"
   ]
  },
  {
   "cell_type": "code",
   "execution_count": 79,
   "metadata": {
    "colab": {
     "base_uri": "https://localhost:8080/"
    },
    "id": "nWiZ5Z9cumzf",
    "outputId": "13fa2eba-7a64-43d6-b4c8-e8e092bc8140"
   },
   "outputs": [
    {
     "data": {
      "text/plain": [
       "FIRST_CAREUNIT\n",
       "ICU     53432\n",
       "NICU     8100\n",
       "Name: count, dtype: int64"
      ]
     },
     "execution_count": 79,
     "metadata": {},
     "output_type": "execute_result"
    }
   ],
   "source": [
    "df_icu['FIRST_CAREUNIT'].value_counts()"
   ]
  },
  {
   "cell_type": "code",
   "execution_count": 80,
   "metadata": {},
   "outputs": [
    {
     "data": {
      "text/plain": [
       "Index(['HADM_ID', 'cat'], dtype='object')"
      ]
     },
     "execution_count": 80,
     "metadata": {},
     "output_type": "execute_result"
    }
   ],
   "source": [
    "icu_list.columns"
   ]
  },
  {
   "cell_type": "code",
   "execution_count": 81,
   "metadata": {},
   "outputs": [
    {
     "data": {
      "text/html": [
       "<div>\n",
       "<style scoped>\n",
       "    .dataframe tbody tr th:only-of-type {\n",
       "        vertical-align: middle;\n",
       "    }\n",
       "\n",
       "    .dataframe tbody tr th {\n",
       "        vertical-align: top;\n",
       "    }\n",
       "\n",
       "    .dataframe thead th {\n",
       "        text-align: right;\n",
       "    }\n",
       "</style>\n",
       "<table border=\"1\" class=\"dataframe\">\n",
       "  <thead>\n",
       "    <tr style=\"text-align: right;\">\n",
       "      <th></th>\n",
       "      <th>ICU</th>\n",
       "      <th>NICU</th>\n",
       "      <th>HADM_ID</th>\n",
       "    </tr>\n",
       "  </thead>\n",
       "  <tbody>\n",
       "    <tr>\n",
       "      <th>0</th>\n",
       "      <td>1</td>\n",
       "      <td>0</td>\n",
       "      <td>100001</td>\n",
       "    </tr>\n",
       "    <tr>\n",
       "      <th>1</th>\n",
       "      <td>1</td>\n",
       "      <td>0</td>\n",
       "      <td>100003</td>\n",
       "    </tr>\n",
       "    <tr>\n",
       "      <th>2</th>\n",
       "      <td>1</td>\n",
       "      <td>0</td>\n",
       "      <td>100006</td>\n",
       "    </tr>\n",
       "    <tr>\n",
       "      <th>3</th>\n",
       "      <td>1</td>\n",
       "      <td>0</td>\n",
       "      <td>100007</td>\n",
       "    </tr>\n",
       "    <tr>\n",
       "      <th>4</th>\n",
       "      <td>1</td>\n",
       "      <td>0</td>\n",
       "      <td>100009</td>\n",
       "    </tr>\n",
       "  </tbody>\n",
       "</table>\n",
       "</div>"
      ],
      "text/plain": [
       "   ICU  NICU  HADM_ID\n",
       "0    1     0   100001\n",
       "1    1     0   100003\n",
       "2    1     0   100006\n",
       "3    1     0   100007\n",
       "4    1     0   100009"
      ]
     },
     "execution_count": 81,
     "metadata": {},
     "output_type": "execute_result"
    }
   ],
   "source": [
    "# Create admission-ICU matrix\n",
    "icu_item = pd.get_dummies(icu_list['cat'].apply(pd.Series).stack()).groupby(level=0).sum()\n",
    "icu_item[icu_item >= 1] = 1\n",
    "icu_item = icu_item.join(icu_list['HADM_ID'], how=\"outer\")\n",
    "icu_item.head()"
   ]
  },
  {
   "cell_type": "code",
   "execution_count": 82,
   "metadata": {
    "colab": {
     "base_uri": "https://localhost:8080/",
     "height": 261
    },
    "id": "d0dPa8a2uqfe",
    "outputId": "2db1dd3a-842f-4bd9-c7b2-8483a7f5e636"
   },
   "outputs": [],
   "source": [
    "# # Create admission-ICU matrix\n",
    "# icu_item = pd.get_dummies(icu_list['cat'].apply(pd.Series).stack()).sum(level=0)\n",
    "# icu_item[icu_item >= 1] = 1\n",
    "# icu_item = icu_item.to_frame().join(icu_list['HADM_ID'], how=\"outer\")\n",
    "# icu_item.head()"
   ]
  },
  {
   "cell_type": "code",
   "execution_count": 83,
   "metadata": {},
   "outputs": [
    {
     "data": {
      "text/plain": [
       "ICU  NICU  HADM_ID\n",
       "1    0     199999     1\n",
       "0    1     100023     1\n",
       "           100025     1\n",
       "           100029     1\n",
       "           100044     1\n",
       "                     ..\n",
       "           100162     1\n",
       "           100159     1\n",
       "           100135     1\n",
       "           100125     1\n",
       "           100121     1\n",
       "Name: count, Length: 57786, dtype: int64"
      ]
     },
     "execution_count": 83,
     "metadata": {},
     "output_type": "execute_result"
    }
   ],
   "source": [
    "icu_item.value_counts()"
   ]
  },
  {
   "cell_type": "code",
   "execution_count": 84,
   "metadata": {
    "colab": {
     "base_uri": "https://localhost:8080/"
    },
    "id": "uQd1vBctuxYl",
    "outputId": "34881e29-ca81-4a54-85fa-e8dbd143c492"
   },
   "outputs": [
    {
     "name": "stdout",
     "output_type": "stream",
     "text": [
      "Number of admissions to ICU 49794.\n",
      "Number of admissions to NICU 7992.\n"
     ]
    }
   ],
   "source": [
    "\n",
    "print(\"Number of admissions to ICU {}.\".format(icu_item.ICU.sum()))\n",
    "print(\"Number of admissions to NICU {}.\".format(icu_item.NICU.sum()))"
   ]
  },
  {
   "cell_type": "markdown",
   "metadata": {
    "id": "m5tw80YiWGqW"
   },
   "source": []
  },
  {
   "cell_type": "code",
   "execution_count": 85,
   "metadata": {},
   "outputs": [
    {
     "data": {
      "text/plain": [
       "Index(['SUBJECT_ID', 'HADM_ID', 'ADMITTIME', 'DEATHTIME', 'ADMISSION_TYPE',\n",
       "       'ADMISSION_LOCATION', 'DISCHARGE_LOCATION', 'INSURANCE', 'LANGUAGE',\n",
       "       'RELIGION', 'MARITAL_STATUS', 'ETHNICITY', 'DIAGNOSIS', 'DECEASED',\n",
       "       'blood', 'circulatory', 'congenital', 'digestive', 'endocrine',\n",
       "       'genitourinary', 'infectious', 'injury', 'mental', 'misc', 'muscular',\n",
       "       'neoplasms', 'nervous', 'pregnancy', 'prenatal', 'respiratory', 'skin',\n",
       "       'DOB', 'GENDER', 'ADMIT_MIN', 'age'],\n",
       "      dtype='object')"
      ]
     },
     "execution_count": 85,
     "metadata": {},
     "output_type": "execute_result"
    }
   ],
   "source": [
    "df.columns"
   ]
  },
  {
   "cell_type": "code",
   "execution_count": 86,
   "metadata": {
    "id": "4URFYo30u06A"
   },
   "outputs": [],
   "source": [
    "# Merge ICU data with main dataFrame\n",
    "df = df.merge(icu_item, how='outer', on='HADM_ID')"
   ]
  },
  {
   "cell_type": "code",
   "execution_count": 87,
   "metadata": {
    "colab": {
     "base_uri": "https://localhost:8080/",
     "height": 429
    },
    "id": "OVY0aha6HHNU",
    "outputId": "31302e23-29da-4ad5-b54c-9a7bdf5f4aea"
   },
   "outputs": [
    {
     "data": {
      "text/html": [
       "<div>\n",
       "<style scoped>\n",
       "    .dataframe tbody tr th:only-of-type {\n",
       "        vertical-align: middle;\n",
       "    }\n",
       "\n",
       "    .dataframe tbody tr th {\n",
       "        vertical-align: top;\n",
       "    }\n",
       "\n",
       "    .dataframe thead th {\n",
       "        text-align: right;\n",
       "    }\n",
       "</style>\n",
       "<table border=\"1\" class=\"dataframe\">\n",
       "  <thead>\n",
       "    <tr style=\"text-align: right;\">\n",
       "      <th></th>\n",
       "      <th>SUBJECT_ID</th>\n",
       "      <th>HADM_ID</th>\n",
       "      <th>ADMITTIME</th>\n",
       "      <th>DEATHTIME</th>\n",
       "      <th>ADMISSION_TYPE</th>\n",
       "      <th>ADMISSION_LOCATION</th>\n",
       "      <th>DISCHARGE_LOCATION</th>\n",
       "      <th>INSURANCE</th>\n",
       "      <th>LANGUAGE</th>\n",
       "      <th>RELIGION</th>\n",
       "      <th>...</th>\n",
       "      <th>pregnancy</th>\n",
       "      <th>prenatal</th>\n",
       "      <th>respiratory</th>\n",
       "      <th>skin</th>\n",
       "      <th>DOB</th>\n",
       "      <th>GENDER</th>\n",
       "      <th>ADMIT_MIN</th>\n",
       "      <th>age</th>\n",
       "      <th>ICU</th>\n",
       "      <th>NICU</th>\n",
       "    </tr>\n",
       "  </thead>\n",
       "  <tbody>\n",
       "    <tr>\n",
       "      <th>0</th>\n",
       "      <td>58526</td>\n",
       "      <td>100001</td>\n",
       "      <td>2117-09-11 11:46:00</td>\n",
       "      <td>NaN</td>\n",
       "      <td>EMERGENCY</td>\n",
       "      <td>CLINIC REFERRAL/PREMATURE</td>\n",
       "      <td>HOME</td>\n",
       "      <td>Private</td>\n",
       "      <td>ENGL</td>\n",
       "      <td>RELIGIOUS</td>\n",
       "      <td>...</td>\n",
       "      <td>0</td>\n",
       "      <td>0</td>\n",
       "      <td>0</td>\n",
       "      <td>1</td>\n",
       "      <td>2082-03-21</td>\n",
       "      <td>1</td>\n",
       "      <td>2117-09-11</td>\n",
       "      <td>young_adult</td>\n",
       "      <td>1.0</td>\n",
       "      <td>0.0</td>\n",
       "    </tr>\n",
       "    <tr>\n",
       "      <th>1</th>\n",
       "      <td>54610</td>\n",
       "      <td>100003</td>\n",
       "      <td>2150-04-17 15:34:00</td>\n",
       "      <td>NaN</td>\n",
       "      <td>EMERGENCY</td>\n",
       "      <td>EMERGENCY ROOM ADMIT</td>\n",
       "      <td>HOME</td>\n",
       "      <td>Private</td>\n",
       "      <td>ENGL</td>\n",
       "      <td>NOT SPECIFIED</td>\n",
       "      <td>...</td>\n",
       "      <td>0</td>\n",
       "      <td>0</td>\n",
       "      <td>0</td>\n",
       "      <td>0</td>\n",
       "      <td>2090-05-19</td>\n",
       "      <td>0</td>\n",
       "      <td>2150-04-17</td>\n",
       "      <td>senior</td>\n",
       "      <td>1.0</td>\n",
       "      <td>0.0</td>\n",
       "    </tr>\n",
       "    <tr>\n",
       "      <th>2</th>\n",
       "      <td>9895</td>\n",
       "      <td>100006</td>\n",
       "      <td>2108-04-06 15:49:00</td>\n",
       "      <td>NaN</td>\n",
       "      <td>EMERGENCY</td>\n",
       "      <td>EMERGENCY ROOM ADMIT</td>\n",
       "      <td>HOME</td>\n",
       "      <td>Private</td>\n",
       "      <td>NaN</td>\n",
       "      <td>NOT SPECIFIED</td>\n",
       "      <td>...</td>\n",
       "      <td>0</td>\n",
       "      <td>0</td>\n",
       "      <td>3</td>\n",
       "      <td>0</td>\n",
       "      <td>2059-05-07</td>\n",
       "      <td>1</td>\n",
       "      <td>2108-04-06</td>\n",
       "      <td>middle_adult</td>\n",
       "      <td>1.0</td>\n",
       "      <td>0.0</td>\n",
       "    </tr>\n",
       "    <tr>\n",
       "      <th>3</th>\n",
       "      <td>23018</td>\n",
       "      <td>100007</td>\n",
       "      <td>2145-03-31 05:33:00</td>\n",
       "      <td>NaN</td>\n",
       "      <td>EMERGENCY</td>\n",
       "      <td>EMERGENCY ROOM ADMIT</td>\n",
       "      <td>HOME</td>\n",
       "      <td>Private</td>\n",
       "      <td>NaN</td>\n",
       "      <td>RELIGIOUS</td>\n",
       "      <td>...</td>\n",
       "      <td>0</td>\n",
       "      <td>0</td>\n",
       "      <td>1</td>\n",
       "      <td>0</td>\n",
       "      <td>2071-06-04</td>\n",
       "      <td>1</td>\n",
       "      <td>2145-03-31</td>\n",
       "      <td>senior</td>\n",
       "      <td>1.0</td>\n",
       "      <td>0.0</td>\n",
       "    </tr>\n",
       "    <tr>\n",
       "      <th>4</th>\n",
       "      <td>533</td>\n",
       "      <td>100009</td>\n",
       "      <td>2162-05-16 15:56:00</td>\n",
       "      <td>NaN</td>\n",
       "      <td>EMERGENCY</td>\n",
       "      <td>TRANSFER FROM HOSP/EXTRAM</td>\n",
       "      <td>HOME HEALTH CARE</td>\n",
       "      <td>Private</td>\n",
       "      <td>NaN</td>\n",
       "      <td>RELIGIOUS</td>\n",
       "      <td>...</td>\n",
       "      <td>0</td>\n",
       "      <td>0</td>\n",
       "      <td>0</td>\n",
       "      <td>0</td>\n",
       "      <td>2101-07-30</td>\n",
       "      <td>0</td>\n",
       "      <td>2162-05-16</td>\n",
       "      <td>senior</td>\n",
       "      <td>1.0</td>\n",
       "      <td>0.0</td>\n",
       "    </tr>\n",
       "  </tbody>\n",
       "</table>\n",
       "<p>5 rows × 37 columns</p>\n",
       "</div>"
      ],
      "text/plain": [
       "   SUBJECT_ID  HADM_ID            ADMITTIME DEATHTIME ADMISSION_TYPE  \\\n",
       "0       58526   100001  2117-09-11 11:46:00       NaN      EMERGENCY   \n",
       "1       54610   100003  2150-04-17 15:34:00       NaN      EMERGENCY   \n",
       "2        9895   100006  2108-04-06 15:49:00       NaN      EMERGENCY   \n",
       "3       23018   100007  2145-03-31 05:33:00       NaN      EMERGENCY   \n",
       "4         533   100009  2162-05-16 15:56:00       NaN      EMERGENCY   \n",
       "\n",
       "          ADMISSION_LOCATION DISCHARGE_LOCATION INSURANCE LANGUAGE  \\\n",
       "0  CLINIC REFERRAL/PREMATURE               HOME   Private     ENGL   \n",
       "1       EMERGENCY ROOM ADMIT               HOME   Private     ENGL   \n",
       "2       EMERGENCY ROOM ADMIT               HOME   Private      NaN   \n",
       "3       EMERGENCY ROOM ADMIT               HOME   Private      NaN   \n",
       "4  TRANSFER FROM HOSP/EXTRAM   HOME HEALTH CARE   Private      NaN   \n",
       "\n",
       "        RELIGION  ... pregnancy prenatal respiratory  skin         DOB  \\\n",
       "0      RELIGIOUS  ...         0        0           0     1  2082-03-21   \n",
       "1  NOT SPECIFIED  ...         0        0           0     0  2090-05-19   \n",
       "2  NOT SPECIFIED  ...         0        0           3     0  2059-05-07   \n",
       "3      RELIGIOUS  ...         0        0           1     0  2071-06-04   \n",
       "4      RELIGIOUS  ...         0        0           0     0  2101-07-30   \n",
       "\n",
       "   GENDER   ADMIT_MIN           age  ICU  NICU  \n",
       "0       1  2117-09-11   young_adult  1.0   0.0  \n",
       "1       0  2150-04-17        senior  1.0   0.0  \n",
       "2       1  2108-04-06  middle_adult  1.0   0.0  \n",
       "3       1  2145-03-31        senior  1.0   0.0  \n",
       "4       0  2162-05-16        senior  1.0   0.0  \n",
       "\n",
       "[5 rows x 37 columns]"
      ]
     },
     "execution_count": 87,
     "metadata": {},
     "output_type": "execute_result"
    }
   ],
   "source": [
    "df.head()"
   ]
  },
  {
   "cell_type": "code",
   "execution_count": 88,
   "metadata": {
    "id": "3kcDCXTLu6P2"
   },
   "outputs": [
    {
     "name": "stderr",
     "output_type": "stream",
     "text": [
      "C:\\Users\\Water\\AppData\\Local\\Temp\\ipykernel_22280\\1541659716.py:2: FutureWarning: A value is trying to be set on a copy of a DataFrame or Series through chained assignment using an inplace method.\n",
      "The behavior will change in pandas 3.0. This inplace method will never work because the intermediate object on which we are setting values always behaves as a copy.\n",
      "\n",
      "For example, when doing 'df[col].method(value, inplace=True)', try using 'df.method({col: value}, inplace=True)' or df[col] = df[col].method(value) instead, to perform the operation inplace on the original object.\n",
      "\n",
      "\n",
      "  df['ICU'].fillna(value=0, inplace=True)\n",
      "C:\\Users\\Water\\AppData\\Local\\Temp\\ipykernel_22280\\1541659716.py:3: FutureWarning: A value is trying to be set on a copy of a DataFrame or Series through chained assignment using an inplace method.\n",
      "The behavior will change in pandas 3.0. This inplace method will never work because the intermediate object on which we are setting values always behaves as a copy.\n",
      "\n",
      "For example, when doing 'df[col].method(value, inplace=True)', try using 'df.method({col: value}, inplace=True)' or df[col] = df[col].method(value) instead, to perform the operation inplace on the original object.\n",
      "\n",
      "\n",
      "  df['NICU'].fillna(value=0, inplace=True)\n"
     ]
    }
   ],
   "source": [
    "# Replace NaNs with 0\n",
    "df['ICU'].fillna(value=0, inplace=True)\n",
    "df['NICU'].fillna(value=0, inplace=True)"
   ]
  },
  {
   "cell_type": "code",
   "execution_count": 89,
   "metadata": {
    "colab": {
     "base_uri": "https://localhost:8080/"
    },
    "id": "2ZNbN9Ehu7hJ",
    "outputId": "8bbff24b-156a-46e9-aec7-50d59ca51213"
   },
   "outputs": [
    {
     "name": "stdout",
     "output_type": "stream",
     "text": [
      "ICU\n",
      "1.0    49794\n",
      "0.0     9182\n",
      "Name: count, dtype: int64\n",
      "NICU\n",
      "0.0    50984\n",
      "1.0     7992\n",
      "Name: count, dtype: int64\n"
     ]
    }
   ],
   "source": [
    "\n",
    "# Verify NaN fix\n",
    "print(df.ICU.value_counts(dropna=False))\n",
    "print(df.NICU.value_counts(dropna=False))"
   ]
  },
  {
   "cell_type": "markdown",
   "metadata": {
    "id": "JBG9lGrWCWCC"
   },
   "source": [
    "**Data Cleaning and Data Splitting**"
   ]
  },
  {
   "cell_type": "code",
   "execution_count": 90,
   "metadata": {
    "colab": {
     "base_uri": "https://localhost:8080/"
    },
    "id": "gVROgxJEvJF2",
    "outputId": "b8ad6115-e56e-40b8-84bf-a36ed12b3cb0"
   },
   "outputs": [
    {
     "name": "stdout",
     "output_type": "stream",
     "text": [
      "<class 'pandas.core.frame.DataFrame'>\n",
      "RangeIndex: 58976 entries, 0 to 58975\n",
      "Data columns (total 37 columns):\n",
      " #   Column              Non-Null Count  Dtype  \n",
      "---  ------              --------------  -----  \n",
      " 0   SUBJECT_ID          58976 non-null  int64  \n",
      " 1   HADM_ID             58976 non-null  int64  \n",
      " 2   ADMITTIME           58976 non-null  object \n",
      " 3   DEATHTIME           5854 non-null   object \n",
      " 4   ADMISSION_TYPE      58976 non-null  object \n",
      " 5   ADMISSION_LOCATION  58976 non-null  object \n",
      " 6   DISCHARGE_LOCATION  58976 non-null  object \n",
      " 7   INSURANCE           58976 non-null  object \n",
      " 8   LANGUAGE            33644 non-null  object \n",
      " 9   RELIGION            58976 non-null  object \n",
      " 10  MARITAL_STATUS      58976 non-null  object \n",
      " 11  ETHNICITY           58976 non-null  object \n",
      " 12  DIAGNOSIS           58951 non-null  object \n",
      " 13  DECEASED            58976 non-null  int64  \n",
      " 14  blood               58976 non-null  int64  \n",
      " 15  circulatory         58976 non-null  int64  \n",
      " 16  congenital          58976 non-null  int64  \n",
      " 17  digestive           58976 non-null  int64  \n",
      " 18  endocrine           58976 non-null  int64  \n",
      " 19  genitourinary       58976 non-null  int64  \n",
      " 20  infectious          58976 non-null  int64  \n",
      " 21  injury              58976 non-null  int64  \n",
      " 22  mental              58976 non-null  int64  \n",
      " 23  misc                58976 non-null  int64  \n",
      " 24  muscular            58976 non-null  int64  \n",
      " 25  neoplasms           58976 non-null  int64  \n",
      " 26  nervous             58976 non-null  int64  \n",
      " 27  pregnancy           58976 non-null  int64  \n",
      " 28  prenatal            58976 non-null  int64  \n",
      " 29  respiratory         58976 non-null  int64  \n",
      " 30  skin                58976 non-null  int64  \n",
      " 31  DOB                 58976 non-null  object \n",
      " 32  GENDER              58976 non-null  int64  \n",
      " 33  ADMIT_MIN           58976 non-null  object \n",
      " 34  age                 58976 non-null  object \n",
      " 35  ICU                 58976 non-null  float64\n",
      " 36  NICU                58976 non-null  float64\n",
      "dtypes: float64(2), int64(21), object(14)\n",
      "memory usage: 16.6+ MB\n"
     ]
    }
   ],
   "source": [
    "# Look at what is no longer needed in the DataFrame\n",
    "df.info()"
   ]
  },
  {
   "cell_type": "code",
   "execution_count": 91,
   "metadata": {},
   "outputs": [
    {
     "data": {
      "text/plain": [
       "DECEASED\n",
       "0    53122\n",
       "1     5854\n",
       "Name: count, dtype: int64"
      ]
     },
     "execution_count": 91,
     "metadata": {},
     "output_type": "execute_result"
    }
   ],
   "source": [
    "df['DECEASED'].value_counts()"
   ]
  },
  {
   "cell_type": "code",
   "execution_count": 92,
   "metadata": {
    "colab": {
     "base_uri": "https://localhost:8080/"
    },
    "id": "ZNWkFgGVvVo1",
    "outputId": "7e0a4017-610a-4e0b-a226-826ca3fda3f0"
   },
   "outputs": [
    {
     "name": "stdout",
     "output_type": "stream",
     "text": [
      "<class 'pandas.core.frame.DataFrame'>\n",
      "RangeIndex: 58976 entries, 0 to 58975\n",
      "Data columns (total 27 columns):\n",
      " #   Column          Non-Null Count  Dtype  \n",
      "---  ------          --------------  -----  \n",
      " 0   ADMISSION_TYPE  58976 non-null  object \n",
      " 1   INSURANCE       58976 non-null  object \n",
      " 2   RELIGION        58976 non-null  object \n",
      " 3   MARITAL_STATUS  58976 non-null  object \n",
      " 4   ETHNICITY       58976 non-null  object \n",
      " 5   DECEASED        58976 non-null  int64  \n",
      " 6   blood           58976 non-null  int64  \n",
      " 7   circulatory     58976 non-null  int64  \n",
      " 8   congenital      58976 non-null  int64  \n",
      " 9   digestive       58976 non-null  int64  \n",
      " 10  endocrine       58976 non-null  int64  \n",
      " 11  genitourinary   58976 non-null  int64  \n",
      " 12  infectious      58976 non-null  int64  \n",
      " 13  injury          58976 non-null  int64  \n",
      " 14  mental          58976 non-null  int64  \n",
      " 15  misc            58976 non-null  int64  \n",
      " 16  muscular        58976 non-null  int64  \n",
      " 17  neoplasms       58976 non-null  int64  \n",
      " 18  nervous         58976 non-null  int64  \n",
      " 19  pregnancy       58976 non-null  int64  \n",
      " 20  prenatal        58976 non-null  int64  \n",
      " 21  respiratory     58976 non-null  int64  \n",
      " 22  skin            58976 non-null  int64  \n",
      " 23  GENDER          58976 non-null  int64  \n",
      " 24  age             58976 non-null  object \n",
      " 25  ICU             58976 non-null  float64\n",
      " 26  NICU            58976 non-null  float64\n",
      "dtypes: float64(2), int64(19), object(6)\n",
      "memory usage: 12.1+ MB\n"
     ]
    }
   ],
   "source": [
    "# Drop unused or no longer needed columns\n",
    "# df.drop(columns=['SUBJECT_ID', 'HADM_ID', 'ADMITTIME', 'ADMISSION_LOCATION',\n",
    "#                 'DISCHARGE_LOCATION', 'LANGUAGE', 'ADMIT_MIN', 'DOB',\n",
    "#                 'DIAGNOSIS', 'DECEASED',  'DEATHTIME'], inplace=True)\n",
    "\n",
    "df.drop(columns=['SUBJECT_ID', 'HADM_ID', 'ADMITTIME', 'ADMISSION_LOCATION',\n",
    "                'DISCHARGE_LOCATION', 'LANGUAGE', 'ADMIT_MIN', 'DOB',\n",
    "                'DIAGNOSIS',   'DEATHTIME'], inplace=True)\n",
    "df.info()"
   ]
  },
  {
   "cell_type": "code",
   "execution_count": 93,
   "metadata": {
    "colab": {
     "base_uri": "https://localhost:8080/",
     "height": 256
    },
    "id": "hohdNa5jQni7",
    "outputId": "b35282a9-9f73-47b7-deb1-679cced894ee"
   },
   "outputs": [
    {
     "data": {
      "text/html": [
       "<div>\n",
       "<style scoped>\n",
       "    .dataframe tbody tr th:only-of-type {\n",
       "        vertical-align: middle;\n",
       "    }\n",
       "\n",
       "    .dataframe tbody tr th {\n",
       "        vertical-align: top;\n",
       "    }\n",
       "\n",
       "    .dataframe thead th {\n",
       "        text-align: right;\n",
       "    }\n",
       "</style>\n",
       "<table border=\"1\" class=\"dataframe\">\n",
       "  <thead>\n",
       "    <tr style=\"text-align: right;\">\n",
       "      <th></th>\n",
       "      <th>ADMISSION_TYPE</th>\n",
       "      <th>INSURANCE</th>\n",
       "      <th>RELIGION</th>\n",
       "      <th>MARITAL_STATUS</th>\n",
       "      <th>ETHNICITY</th>\n",
       "      <th>DECEASED</th>\n",
       "      <th>blood</th>\n",
       "      <th>circulatory</th>\n",
       "      <th>congenital</th>\n",
       "      <th>digestive</th>\n",
       "      <th>...</th>\n",
       "      <th>neoplasms</th>\n",
       "      <th>nervous</th>\n",
       "      <th>pregnancy</th>\n",
       "      <th>prenatal</th>\n",
       "      <th>respiratory</th>\n",
       "      <th>skin</th>\n",
       "      <th>GENDER</th>\n",
       "      <th>age</th>\n",
       "      <th>ICU</th>\n",
       "      <th>NICU</th>\n",
       "    </tr>\n",
       "  </thead>\n",
       "  <tbody>\n",
       "    <tr>\n",
       "      <th>0</th>\n",
       "      <td>EMERGENCY</td>\n",
       "      <td>Private</td>\n",
       "      <td>RELIGIOUS</td>\n",
       "      <td>DIVORCED</td>\n",
       "      <td>WHITE</td>\n",
       "      <td>0</td>\n",
       "      <td>0</td>\n",
       "      <td>2</td>\n",
       "      <td>0</td>\n",
       "      <td>2</td>\n",
       "      <td>...</td>\n",
       "      <td>0</td>\n",
       "      <td>2</td>\n",
       "      <td>0</td>\n",
       "      <td>0</td>\n",
       "      <td>0</td>\n",
       "      <td>1</td>\n",
       "      <td>1</td>\n",
       "      <td>young_adult</td>\n",
       "      <td>1.0</td>\n",
       "      <td>0.0</td>\n",
       "    </tr>\n",
       "    <tr>\n",
       "      <th>1</th>\n",
       "      <td>EMERGENCY</td>\n",
       "      <td>Private</td>\n",
       "      <td>NOT SPECIFIED</td>\n",
       "      <td>SINGLE</td>\n",
       "      <td>WHITE</td>\n",
       "      <td>0</td>\n",
       "      <td>1</td>\n",
       "      <td>2</td>\n",
       "      <td>0</td>\n",
       "      <td>4</td>\n",
       "      <td>...</td>\n",
       "      <td>0</td>\n",
       "      <td>0</td>\n",
       "      <td>0</td>\n",
       "      <td>0</td>\n",
       "      <td>0</td>\n",
       "      <td>0</td>\n",
       "      <td>0</td>\n",
       "      <td>senior</td>\n",
       "      <td>1.0</td>\n",
       "      <td>0.0</td>\n",
       "    </tr>\n",
       "    <tr>\n",
       "      <th>2</th>\n",
       "      <td>EMERGENCY</td>\n",
       "      <td>Private</td>\n",
       "      <td>NOT SPECIFIED</td>\n",
       "      <td>SINGLE</td>\n",
       "      <td>BLACK/AFRICAN AMERICAN</td>\n",
       "      <td>0</td>\n",
       "      <td>0</td>\n",
       "      <td>0</td>\n",
       "      <td>0</td>\n",
       "      <td>0</td>\n",
       "      <td>...</td>\n",
       "      <td>1</td>\n",
       "      <td>0</td>\n",
       "      <td>0</td>\n",
       "      <td>0</td>\n",
       "      <td>3</td>\n",
       "      <td>0</td>\n",
       "      <td>1</td>\n",
       "      <td>middle_adult</td>\n",
       "      <td>1.0</td>\n",
       "      <td>0.0</td>\n",
       "    </tr>\n",
       "    <tr>\n",
       "      <th>3</th>\n",
       "      <td>EMERGENCY</td>\n",
       "      <td>Private</td>\n",
       "      <td>RELIGIOUS</td>\n",
       "      <td>MARRIED</td>\n",
       "      <td>WHITE</td>\n",
       "      <td>0</td>\n",
       "      <td>0</td>\n",
       "      <td>1</td>\n",
       "      <td>0</td>\n",
       "      <td>2</td>\n",
       "      <td>...</td>\n",
       "      <td>0</td>\n",
       "      <td>0</td>\n",
       "      <td>0</td>\n",
       "      <td>0</td>\n",
       "      <td>1</td>\n",
       "      <td>0</td>\n",
       "      <td>1</td>\n",
       "      <td>senior</td>\n",
       "      <td>1.0</td>\n",
       "      <td>0.0</td>\n",
       "    </tr>\n",
       "    <tr>\n",
       "      <th>4</th>\n",
       "      <td>EMERGENCY</td>\n",
       "      <td>Private</td>\n",
       "      <td>RELIGIOUS</td>\n",
       "      <td>MARRIED</td>\n",
       "      <td>WHITE</td>\n",
       "      <td>0</td>\n",
       "      <td>1</td>\n",
       "      <td>7</td>\n",
       "      <td>0</td>\n",
       "      <td>0</td>\n",
       "      <td>...</td>\n",
       "      <td>0</td>\n",
       "      <td>0</td>\n",
       "      <td>0</td>\n",
       "      <td>0</td>\n",
       "      <td>0</td>\n",
       "      <td>0</td>\n",
       "      <td>0</td>\n",
       "      <td>senior</td>\n",
       "      <td>1.0</td>\n",
       "      <td>0.0</td>\n",
       "    </tr>\n",
       "  </tbody>\n",
       "</table>\n",
       "<p>5 rows × 27 columns</p>\n",
       "</div>"
      ],
      "text/plain": [
       "  ADMISSION_TYPE INSURANCE       RELIGION MARITAL_STATUS  \\\n",
       "0      EMERGENCY   Private      RELIGIOUS       DIVORCED   \n",
       "1      EMERGENCY   Private  NOT SPECIFIED         SINGLE   \n",
       "2      EMERGENCY   Private  NOT SPECIFIED         SINGLE   \n",
       "3      EMERGENCY   Private      RELIGIOUS        MARRIED   \n",
       "4      EMERGENCY   Private      RELIGIOUS        MARRIED   \n",
       "\n",
       "                ETHNICITY  DECEASED  blood  circulatory  congenital  \\\n",
       "0                   WHITE         0      0            2           0   \n",
       "1                   WHITE         0      1            2           0   \n",
       "2  BLACK/AFRICAN AMERICAN         0      0            0           0   \n",
       "3                   WHITE         0      0            1           0   \n",
       "4                   WHITE         0      1            7           0   \n",
       "\n",
       "   digestive  ...  neoplasms  nervous  pregnancy  prenatal  respiratory  skin  \\\n",
       "0          2  ...          0        2          0         0            0     1   \n",
       "1          4  ...          0        0          0         0            0     0   \n",
       "2          0  ...          1        0          0         0            3     0   \n",
       "3          2  ...          0        0          0         0            1     0   \n",
       "4          0  ...          0        0          0         0            0     0   \n",
       "\n",
       "   GENDER           age  ICU  NICU  \n",
       "0       1   young_adult  1.0   0.0  \n",
       "1       0        senior  1.0   0.0  \n",
       "2       1  middle_adult  1.0   0.0  \n",
       "3       1        senior  1.0   0.0  \n",
       "4       0        senior  1.0   0.0  \n",
       "\n",
       "[5 rows x 27 columns]"
      ]
     },
     "execution_count": 93,
     "metadata": {},
     "output_type": "execute_result"
    }
   ],
   "source": [
    "df.head()"
   ]
  },
  {
   "cell_type": "code",
   "execution_count": 94,
   "metadata": {
    "colab": {
     "base_uri": "https://localhost:8080/"
    },
    "id": "xgkwtTOrvfWy",
    "outputId": "7a525f0c-e5cc-4b2f-bf8c-0d8d8f00e09b"
   },
   "outputs": [
    {
     "name": "stdout",
     "output_type": "stream",
     "text": [
      "<class 'pandas.core.frame.DataFrame'>\n",
      "RangeIndex: 58976 entries, 0 to 58975\n",
      "Data columns (total 53 columns):\n",
      " #   Column                      Non-Null Count  Dtype  \n",
      "---  ------                      --------------  -----  \n",
      " 0   DECEASED                    58976 non-null  int64  \n",
      " 1   blood                       58976 non-null  int64  \n",
      " 2   circulatory                 58976 non-null  int64  \n",
      " 3   congenital                  58976 non-null  int64  \n",
      " 4   digestive                   58976 non-null  int64  \n",
      " 5   endocrine                   58976 non-null  int64  \n",
      " 6   genitourinary               58976 non-null  int64  \n",
      " 7   infectious                  58976 non-null  int64  \n",
      " 8   injury                      58976 non-null  int64  \n",
      " 9   mental                      58976 non-null  int64  \n",
      " 10  misc                        58976 non-null  int64  \n",
      " 11  muscular                    58976 non-null  int64  \n",
      " 12  neoplasms                   58976 non-null  int64  \n",
      " 13  nervous                     58976 non-null  int64  \n",
      " 14  pregnancy                   58976 non-null  int64  \n",
      " 15  prenatal                    58976 non-null  int64  \n",
      " 16  respiratory                 58976 non-null  int64  \n",
      " 17  skin                        58976 non-null  int64  \n",
      " 18  GENDER                      58976 non-null  int64  \n",
      " 19  ICU                         58976 non-null  float64\n",
      " 20  NICU                        58976 non-null  float64\n",
      " 21  ADM_ELECTIVE                58976 non-null  int64  \n",
      " 22  ADM_EMERGENCY               58976 non-null  int64  \n",
      " 23  ADM_NEWBORN                 58976 non-null  int64  \n",
      " 24  ADM_URGENT                  58976 non-null  int64  \n",
      " 25  INS_Government              58976 non-null  int64  \n",
      " 26  INS_Medicaid                58976 non-null  int64  \n",
      " 27  INS_Medicare                58976 non-null  int64  \n",
      " 28  INS_Private                 58976 non-null  int64  \n",
      " 29  INS_Self Pay                58976 non-null  int64  \n",
      " 30  REL_NOT SPECIFIED           58976 non-null  int64  \n",
      " 31  REL_RELIGIOUS               58976 non-null  int64  \n",
      " 32  REL_UNOBTAINABLE            58976 non-null  int64  \n",
      " 33  ETH_ASIAN                   58976 non-null  int64  \n",
      " 34  ETH_BLACK/AFRICAN AMERICAN  58976 non-null  int64  \n",
      " 35  ETH_HISPANIC/LATINO         58976 non-null  int64  \n",
      " 36  ETH_OTHER/UNKNOWN           58976 non-null  int64  \n",
      " 37  ETH_WHITE                   58976 non-null  int64  \n",
      " 38  AGE_300.2                   58976 non-null  int64  \n",
      " 39  AGE_middle_adult            58976 non-null  int64  \n",
      " 40  AGE_newborn                 58976 non-null  int64  \n",
      " 41  AGE_senior                  58976 non-null  int64  \n",
      " 42  AGE_young_adult             58976 non-null  int64  \n",
      " 43  MAR_DIVORCED                58976 non-null  int64  \n",
      " 44  MAR_LIFE PARTNER            58976 non-null  int64  \n",
      " 45  MAR_MARRIED                 58976 non-null  int64  \n",
      " 46  MAR_SEPARATED               58976 non-null  int64  \n",
      " 47  MAR_SINGLE                  58976 non-null  int64  \n",
      " 48  MAR_UNKNOWN (DEFAULT)       58976 non-null  int64  \n",
      " 49  MAR_WIDOWED                 58976 non-null  int64  \n",
      " 50  RELIGION_NOT SPECIFIED      58976 non-null  int64  \n",
      " 51  RELIGION_RELIGIOUS          58976 non-null  int64  \n",
      " 52  RELIGION_UNOBTAINABLE       58976 non-null  int64  \n",
      "dtypes: float64(2), int64(51)\n",
      "memory usage: 23.8 MB\n"
     ]
    }
   ],
   "source": [
    "# Create dummy columns for categorical variables\n",
    "prefix_cols = ['ADM', 'INS', 'REL', 'ETH', 'AGE', 'MAR', 'RELIGION']\n",
    "dummy_cols = ['ADMISSION_TYPE', 'INSURANCE', 'RELIGION',\n",
    "             'ETHNICITY', 'age', 'MARITAL_STATUS', 'RELIGION']\n",
    "df = pd.get_dummies(df, prefix=prefix_cols, columns=dummy_cols,dtype='int')\n",
    "df.info()"
   ]
  },
  {
   "cell_type": "code",
   "execution_count": 95,
   "metadata": {
    "colab": {
     "base_uri": "https://localhost:8080/",
     "height": 273
    },
    "id": "kW482IfbvlzG",
    "outputId": "112bf173-bb1d-4b35-9e99-497c051085d3"
   },
   "outputs": [
    {
     "data": {
      "text/html": [
       "<div>\n",
       "<style scoped>\n",
       "    .dataframe tbody tr th:only-of-type {\n",
       "        vertical-align: middle;\n",
       "    }\n",
       "\n",
       "    .dataframe tbody tr th {\n",
       "        vertical-align: top;\n",
       "    }\n",
       "\n",
       "    .dataframe thead th {\n",
       "        text-align: right;\n",
       "    }\n",
       "</style>\n",
       "<table border=\"1\" class=\"dataframe\">\n",
       "  <thead>\n",
       "    <tr style=\"text-align: right;\">\n",
       "      <th></th>\n",
       "      <th>DECEASED</th>\n",
       "      <th>blood</th>\n",
       "      <th>circulatory</th>\n",
       "      <th>congenital</th>\n",
       "      <th>digestive</th>\n",
       "      <th>endocrine</th>\n",
       "      <th>genitourinary</th>\n",
       "      <th>infectious</th>\n",
       "      <th>injury</th>\n",
       "      <th>mental</th>\n",
       "      <th>...</th>\n",
       "      <th>MAR_DIVORCED</th>\n",
       "      <th>MAR_LIFE PARTNER</th>\n",
       "      <th>MAR_MARRIED</th>\n",
       "      <th>MAR_SEPARATED</th>\n",
       "      <th>MAR_SINGLE</th>\n",
       "      <th>MAR_UNKNOWN (DEFAULT)</th>\n",
       "      <th>MAR_WIDOWED</th>\n",
       "      <th>RELIGION_NOT SPECIFIED</th>\n",
       "      <th>RELIGION_RELIGIOUS</th>\n",
       "      <th>RELIGION_UNOBTAINABLE</th>\n",
       "    </tr>\n",
       "  </thead>\n",
       "  <tbody>\n",
       "    <tr>\n",
       "      <th>0</th>\n",
       "      <td>0</td>\n",
       "      <td>0</td>\n",
       "      <td>2</td>\n",
       "      <td>0</td>\n",
       "      <td>2</td>\n",
       "      <td>5</td>\n",
       "      <td>2</td>\n",
       "      <td>0</td>\n",
       "      <td>2</td>\n",
       "      <td>0</td>\n",
       "      <td>...</td>\n",
       "      <td>1</td>\n",
       "      <td>0</td>\n",
       "      <td>0</td>\n",
       "      <td>0</td>\n",
       "      <td>0</td>\n",
       "      <td>0</td>\n",
       "      <td>0</td>\n",
       "      <td>0</td>\n",
       "      <td>1</td>\n",
       "      <td>0</td>\n",
       "    </tr>\n",
       "    <tr>\n",
       "      <th>1</th>\n",
       "      <td>0</td>\n",
       "      <td>1</td>\n",
       "      <td>2</td>\n",
       "      <td>0</td>\n",
       "      <td>4</td>\n",
       "      <td>0</td>\n",
       "      <td>0</td>\n",
       "      <td>1</td>\n",
       "      <td>0</td>\n",
       "      <td>0</td>\n",
       "      <td>...</td>\n",
       "      <td>0</td>\n",
       "      <td>0</td>\n",
       "      <td>0</td>\n",
       "      <td>0</td>\n",
       "      <td>1</td>\n",
       "      <td>0</td>\n",
       "      <td>0</td>\n",
       "      <td>1</td>\n",
       "      <td>0</td>\n",
       "      <td>0</td>\n",
       "    </tr>\n",
       "    <tr>\n",
       "      <th>2</th>\n",
       "      <td>0</td>\n",
       "      <td>0</td>\n",
       "      <td>0</td>\n",
       "      <td>0</td>\n",
       "      <td>0</td>\n",
       "      <td>1</td>\n",
       "      <td>0</td>\n",
       "      <td>0</td>\n",
       "      <td>2</td>\n",
       "      <td>1</td>\n",
       "      <td>...</td>\n",
       "      <td>0</td>\n",
       "      <td>0</td>\n",
       "      <td>0</td>\n",
       "      <td>0</td>\n",
       "      <td>1</td>\n",
       "      <td>0</td>\n",
       "      <td>0</td>\n",
       "      <td>1</td>\n",
       "      <td>0</td>\n",
       "      <td>0</td>\n",
       "    </tr>\n",
       "    <tr>\n",
       "      <th>3</th>\n",
       "      <td>0</td>\n",
       "      <td>0</td>\n",
       "      <td>1</td>\n",
       "      <td>0</td>\n",
       "      <td>2</td>\n",
       "      <td>0</td>\n",
       "      <td>0</td>\n",
       "      <td>0</td>\n",
       "      <td>1</td>\n",
       "      <td>0</td>\n",
       "      <td>...</td>\n",
       "      <td>0</td>\n",
       "      <td>0</td>\n",
       "      <td>1</td>\n",
       "      <td>0</td>\n",
       "      <td>0</td>\n",
       "      <td>0</td>\n",
       "      <td>0</td>\n",
       "      <td>0</td>\n",
       "      <td>1</td>\n",
       "      <td>0</td>\n",
       "    </tr>\n",
       "    <tr>\n",
       "      <th>4</th>\n",
       "      <td>0</td>\n",
       "      <td>1</td>\n",
       "      <td>7</td>\n",
       "      <td>0</td>\n",
       "      <td>0</td>\n",
       "      <td>3</td>\n",
       "      <td>0</td>\n",
       "      <td>0</td>\n",
       "      <td>7</td>\n",
       "      <td>0</td>\n",
       "      <td>...</td>\n",
       "      <td>0</td>\n",
       "      <td>0</td>\n",
       "      <td>1</td>\n",
       "      <td>0</td>\n",
       "      <td>0</td>\n",
       "      <td>0</td>\n",
       "      <td>0</td>\n",
       "      <td>0</td>\n",
       "      <td>1</td>\n",
       "      <td>0</td>\n",
       "    </tr>\n",
       "  </tbody>\n",
       "</table>\n",
       "<p>5 rows × 53 columns</p>\n",
       "</div>"
      ],
      "text/plain": [
       "   DECEASED  blood  circulatory  congenital  digestive  endocrine  \\\n",
       "0         0      0            2           0          2          5   \n",
       "1         0      1            2           0          4          0   \n",
       "2         0      0            0           0          0          1   \n",
       "3         0      0            1           0          2          0   \n",
       "4         0      1            7           0          0          3   \n",
       "\n",
       "   genitourinary  infectious  injury  mental  ...  MAR_DIVORCED  \\\n",
       "0              2           0       2       0  ...             1   \n",
       "1              0           1       0       0  ...             0   \n",
       "2              0           0       2       1  ...             0   \n",
       "3              0           0       1       0  ...             0   \n",
       "4              0           0       7       0  ...             0   \n",
       "\n",
       "   MAR_LIFE PARTNER  MAR_MARRIED  MAR_SEPARATED  MAR_SINGLE  \\\n",
       "0                 0            0              0           0   \n",
       "1                 0            0              0           1   \n",
       "2                 0            0              0           1   \n",
       "3                 0            1              0           0   \n",
       "4                 0            1              0           0   \n",
       "\n",
       "   MAR_UNKNOWN (DEFAULT)  MAR_WIDOWED  RELIGION_NOT SPECIFIED  \\\n",
       "0                      0            0                       0   \n",
       "1                      0            0                       1   \n",
       "2                      0            0                       1   \n",
       "3                      0            0                       0   \n",
       "4                      0            0                       0   \n",
       "\n",
       "   RELIGION_RELIGIOUS  RELIGION_UNOBTAINABLE  \n",
       "0                   1                      0  \n",
       "1                   0                      0  \n",
       "2                   0                      0  \n",
       "3                   1                      0  \n",
       "4                   1                      0  \n",
       "\n",
       "[5 rows x 53 columns]"
      ]
     },
     "execution_count": 95,
     "metadata": {},
     "output_type": "execute_result"
    }
   ],
   "source": [
    "# Verify\n",
    "df.head()"
   ]
  },
  {
   "cell_type": "code",
   "execution_count": 96,
   "metadata": {},
   "outputs": [
    {
     "data": {
      "text/plain": [
       "Index(['DECEASED', 'blood', 'circulatory', 'congenital', 'digestive',\n",
       "       'endocrine', 'genitourinary', 'infectious', 'injury', 'mental', 'misc',\n",
       "       'muscular', 'neoplasms', 'nervous', 'pregnancy', 'prenatal',\n",
       "       'respiratory', 'skin', 'GENDER', 'ICU', 'NICU', 'ADM_ELECTIVE',\n",
       "       'ADM_EMERGENCY', 'ADM_NEWBORN', 'ADM_URGENT', 'INS_Government',\n",
       "       'INS_Medicaid', 'INS_Medicare', 'INS_Private', 'INS_Self Pay',\n",
       "       'REL_NOT SPECIFIED', 'REL_RELIGIOUS', 'REL_UNOBTAINABLE', 'ETH_ASIAN',\n",
       "       'ETH_BLACK/AFRICAN AMERICAN', 'ETH_HISPANIC/LATINO',\n",
       "       'ETH_OTHER/UNKNOWN', 'ETH_WHITE', 'AGE_300.2', 'AGE_middle_adult',\n",
       "       'AGE_newborn', 'AGE_senior', 'AGE_young_adult', 'MAR_DIVORCED',\n",
       "       'MAR_LIFE PARTNER', 'MAR_MARRIED', 'MAR_SEPARATED', 'MAR_SINGLE',\n",
       "       'MAR_UNKNOWN (DEFAULT)', 'MAR_WIDOWED', 'RELIGION_NOT SPECIFIED',\n",
       "       'RELIGION_RELIGIOUS', 'RELIGION_UNOBTAINABLE'],\n",
       "      dtype='object')"
      ]
     },
     "execution_count": 96,
     "metadata": {},
     "output_type": "execute_result"
    }
   ],
   "source": [
    "df.columns"
   ]
  },
  {
   "cell_type": "code",
   "execution_count": 97,
   "metadata": {
    "id": "-Vr3pgza0Nel"
   },
   "outputs": [],
   "source": [
    "# Target Variable DECEASED\n",
    "DECEASED = df['DECEASED'].values\n",
    "# Prediction Features\n",
    "features = df.drop(columns=['DECEASED'])"
   ]
  },
  {
   "cell_type": "code",
   "execution_count": 98,
   "metadata": {
    "colab": {
     "base_uri": "https://localhost:8080/",
     "height": 273
    },
    "id": "KkojKVyBRRkQ",
    "outputId": "be774acb-b4a2-4993-9d3c-a921031d6a60"
   },
   "outputs": [
    {
     "data": {
      "text/html": [
       "<div>\n",
       "<style scoped>\n",
       "    .dataframe tbody tr th:only-of-type {\n",
       "        vertical-align: middle;\n",
       "    }\n",
       "\n",
       "    .dataframe tbody tr th {\n",
       "        vertical-align: top;\n",
       "    }\n",
       "\n",
       "    .dataframe thead th {\n",
       "        text-align: right;\n",
       "    }\n",
       "</style>\n",
       "<table border=\"1\" class=\"dataframe\">\n",
       "  <thead>\n",
       "    <tr style=\"text-align: right;\">\n",
       "      <th></th>\n",
       "      <th>blood</th>\n",
       "      <th>circulatory</th>\n",
       "      <th>congenital</th>\n",
       "      <th>digestive</th>\n",
       "      <th>endocrine</th>\n",
       "      <th>genitourinary</th>\n",
       "      <th>infectious</th>\n",
       "      <th>injury</th>\n",
       "      <th>mental</th>\n",
       "      <th>misc</th>\n",
       "      <th>...</th>\n",
       "      <th>MAR_DIVORCED</th>\n",
       "      <th>MAR_LIFE PARTNER</th>\n",
       "      <th>MAR_MARRIED</th>\n",
       "      <th>MAR_SEPARATED</th>\n",
       "      <th>MAR_SINGLE</th>\n",
       "      <th>MAR_UNKNOWN (DEFAULT)</th>\n",
       "      <th>MAR_WIDOWED</th>\n",
       "      <th>RELIGION_NOT SPECIFIED</th>\n",
       "      <th>RELIGION_RELIGIOUS</th>\n",
       "      <th>RELIGION_UNOBTAINABLE</th>\n",
       "    </tr>\n",
       "  </thead>\n",
       "  <tbody>\n",
       "    <tr>\n",
       "      <th>0</th>\n",
       "      <td>0</td>\n",
       "      <td>2</td>\n",
       "      <td>0</td>\n",
       "      <td>2</td>\n",
       "      <td>5</td>\n",
       "      <td>2</td>\n",
       "      <td>0</td>\n",
       "      <td>2</td>\n",
       "      <td>0</td>\n",
       "      <td>0</td>\n",
       "      <td>...</td>\n",
       "      <td>1</td>\n",
       "      <td>0</td>\n",
       "      <td>0</td>\n",
       "      <td>0</td>\n",
       "      <td>0</td>\n",
       "      <td>0</td>\n",
       "      <td>0</td>\n",
       "      <td>0</td>\n",
       "      <td>1</td>\n",
       "      <td>0</td>\n",
       "    </tr>\n",
       "    <tr>\n",
       "      <th>1</th>\n",
       "      <td>1</td>\n",
       "      <td>2</td>\n",
       "      <td>0</td>\n",
       "      <td>4</td>\n",
       "      <td>0</td>\n",
       "      <td>0</td>\n",
       "      <td>1</td>\n",
       "      <td>0</td>\n",
       "      <td>0</td>\n",
       "      <td>1</td>\n",
       "      <td>...</td>\n",
       "      <td>0</td>\n",
       "      <td>0</td>\n",
       "      <td>0</td>\n",
       "      <td>0</td>\n",
       "      <td>1</td>\n",
       "      <td>0</td>\n",
       "      <td>0</td>\n",
       "      <td>1</td>\n",
       "      <td>0</td>\n",
       "      <td>0</td>\n",
       "    </tr>\n",
       "    <tr>\n",
       "      <th>2</th>\n",
       "      <td>0</td>\n",
       "      <td>0</td>\n",
       "      <td>0</td>\n",
       "      <td>0</td>\n",
       "      <td>1</td>\n",
       "      <td>0</td>\n",
       "      <td>0</td>\n",
       "      <td>2</td>\n",
       "      <td>1</td>\n",
       "      <td>1</td>\n",
       "      <td>...</td>\n",
       "      <td>0</td>\n",
       "      <td>0</td>\n",
       "      <td>0</td>\n",
       "      <td>0</td>\n",
       "      <td>1</td>\n",
       "      <td>0</td>\n",
       "      <td>0</td>\n",
       "      <td>1</td>\n",
       "      <td>0</td>\n",
       "      <td>0</td>\n",
       "    </tr>\n",
       "    <tr>\n",
       "      <th>3</th>\n",
       "      <td>0</td>\n",
       "      <td>1</td>\n",
       "      <td>0</td>\n",
       "      <td>2</td>\n",
       "      <td>0</td>\n",
       "      <td>0</td>\n",
       "      <td>0</td>\n",
       "      <td>1</td>\n",
       "      <td>0</td>\n",
       "      <td>0</td>\n",
       "      <td>...</td>\n",
       "      <td>0</td>\n",
       "      <td>0</td>\n",
       "      <td>1</td>\n",
       "      <td>0</td>\n",
       "      <td>0</td>\n",
       "      <td>0</td>\n",
       "      <td>0</td>\n",
       "      <td>0</td>\n",
       "      <td>1</td>\n",
       "      <td>0</td>\n",
       "    </tr>\n",
       "    <tr>\n",
       "      <th>4</th>\n",
       "      <td>1</td>\n",
       "      <td>7</td>\n",
       "      <td>0</td>\n",
       "      <td>0</td>\n",
       "      <td>3</td>\n",
       "      <td>0</td>\n",
       "      <td>0</td>\n",
       "      <td>7</td>\n",
       "      <td>0</td>\n",
       "      <td>0</td>\n",
       "      <td>...</td>\n",
       "      <td>0</td>\n",
       "      <td>0</td>\n",
       "      <td>1</td>\n",
       "      <td>0</td>\n",
       "      <td>0</td>\n",
       "      <td>0</td>\n",
       "      <td>0</td>\n",
       "      <td>0</td>\n",
       "      <td>1</td>\n",
       "      <td>0</td>\n",
       "    </tr>\n",
       "  </tbody>\n",
       "</table>\n",
       "<p>5 rows × 52 columns</p>\n",
       "</div>"
      ],
      "text/plain": [
       "   blood  circulatory  congenital  digestive  endocrine  genitourinary  \\\n",
       "0      0            2           0          2          5              2   \n",
       "1      1            2           0          4          0              0   \n",
       "2      0            0           0          0          1              0   \n",
       "3      0            1           0          2          0              0   \n",
       "4      1            7           0          0          3              0   \n",
       "\n",
       "   infectious  injury  mental  misc  ...  MAR_DIVORCED  MAR_LIFE PARTNER  \\\n",
       "0           0       2       0     0  ...             1                 0   \n",
       "1           1       0       0     1  ...             0                 0   \n",
       "2           0       2       1     1  ...             0                 0   \n",
       "3           0       1       0     0  ...             0                 0   \n",
       "4           0       7       0     0  ...             0                 0   \n",
       "\n",
       "   MAR_MARRIED  MAR_SEPARATED  MAR_SINGLE  MAR_UNKNOWN (DEFAULT)  MAR_WIDOWED  \\\n",
       "0            0              0           0                      0            0   \n",
       "1            0              0           1                      0            0   \n",
       "2            0              0           1                      0            0   \n",
       "3            1              0           0                      0            0   \n",
       "4            1              0           0                      0            0   \n",
       "\n",
       "   RELIGION_NOT SPECIFIED  RELIGION_RELIGIOUS  RELIGION_UNOBTAINABLE  \n",
       "0                       0                   1                      0  \n",
       "1                       1                   0                      0  \n",
       "2                       1                   0                      0  \n",
       "3                       0                   1                      0  \n",
       "4                       0                   1                      0  \n",
       "\n",
       "[5 rows x 52 columns]"
      ]
     },
     "execution_count": 98,
     "metadata": {},
     "output_type": "execute_result"
    }
   ],
   "source": [
    "features.head()"
   ]
  },
  {
   "cell_type": "code",
   "execution_count": 99,
   "metadata": {},
   "outputs": [
    {
     "name": "stdout",
     "output_type": "stream",
     "text": [
      "<class 'pandas.core.frame.DataFrame'>\n",
      "RangeIndex: 58976 entries, 0 to 58975\n",
      "Data columns (total 52 columns):\n",
      " #   Column                      Non-Null Count  Dtype  \n",
      "---  ------                      --------------  -----  \n",
      " 0   blood                       58976 non-null  int64  \n",
      " 1   circulatory                 58976 non-null  int64  \n",
      " 2   congenital                  58976 non-null  int64  \n",
      " 3   digestive                   58976 non-null  int64  \n",
      " 4   endocrine                   58976 non-null  int64  \n",
      " 5   genitourinary               58976 non-null  int64  \n",
      " 6   infectious                  58976 non-null  int64  \n",
      " 7   injury                      58976 non-null  int64  \n",
      " 8   mental                      58976 non-null  int64  \n",
      " 9   misc                        58976 non-null  int64  \n",
      " 10  muscular                    58976 non-null  int64  \n",
      " 11  neoplasms                   58976 non-null  int64  \n",
      " 12  nervous                     58976 non-null  int64  \n",
      " 13  pregnancy                   58976 non-null  int64  \n",
      " 14  prenatal                    58976 non-null  int64  \n",
      " 15  respiratory                 58976 non-null  int64  \n",
      " 16  skin                        58976 non-null  int64  \n",
      " 17  GENDER                      58976 non-null  int64  \n",
      " 18  ICU                         58976 non-null  float64\n",
      " 19  NICU                        58976 non-null  float64\n",
      " 20  ADM_ELECTIVE                58976 non-null  int64  \n",
      " 21  ADM_EMERGENCY               58976 non-null  int64  \n",
      " 22  ADM_NEWBORN                 58976 non-null  int64  \n",
      " 23  ADM_URGENT                  58976 non-null  int64  \n",
      " 24  INS_Government              58976 non-null  int64  \n",
      " 25  INS_Medicaid                58976 non-null  int64  \n",
      " 26  INS_Medicare                58976 non-null  int64  \n",
      " 27  INS_Private                 58976 non-null  int64  \n",
      " 28  INS_Self Pay                58976 non-null  int64  \n",
      " 29  REL_NOT SPECIFIED           58976 non-null  int64  \n",
      " 30  REL_RELIGIOUS               58976 non-null  int64  \n",
      " 31  REL_UNOBTAINABLE            58976 non-null  int64  \n",
      " 32  ETH_ASIAN                   58976 non-null  int64  \n",
      " 33  ETH_BLACK/AFRICAN AMERICAN  58976 non-null  int64  \n",
      " 34  ETH_HISPANIC/LATINO         58976 non-null  int64  \n",
      " 35  ETH_OTHER/UNKNOWN           58976 non-null  int64  \n",
      " 36  ETH_WHITE                   58976 non-null  int64  \n",
      " 37  AGE_300.2                   58976 non-null  int64  \n",
      " 38  AGE_middle_adult            58976 non-null  int64  \n",
      " 39  AGE_newborn                 58976 non-null  int64  \n",
      " 40  AGE_senior                  58976 non-null  int64  \n",
      " 41  AGE_young_adult             58976 non-null  int64  \n",
      " 42  MAR_DIVORCED                58976 non-null  int64  \n",
      " 43  MAR_LIFE PARTNER            58976 non-null  int64  \n",
      " 44  MAR_MARRIED                 58976 non-null  int64  \n",
      " 45  MAR_SEPARATED               58976 non-null  int64  \n",
      " 46  MAR_SINGLE                  58976 non-null  int64  \n",
      " 47  MAR_UNKNOWN (DEFAULT)       58976 non-null  int64  \n",
      " 48  MAR_WIDOWED                 58976 non-null  int64  \n",
      " 49  RELIGION_NOT SPECIFIED      58976 non-null  int64  \n",
      " 50  RELIGION_RELIGIOUS          58976 non-null  int64  \n",
      " 51  RELIGION_UNOBTAINABLE       58976 non-null  int64  \n",
      "dtypes: float64(2), int64(50)\n",
      "memory usage: 23.4 MB\n"
     ]
    }
   ],
   "source": [
    "features.info()"
   ]
  },
  {
   "cell_type": "code",
   "execution_count": 100,
   "metadata": {
    "colab": {
     "base_uri": "https://localhost:8080/"
    },
    "id": "Pzkzxotq0fGd",
    "outputId": "f4063407-5264-4b62-86b1-1a59df4c3873"
   },
   "outputs": [
    {
     "name": "stdout",
     "output_type": "stream",
     "text": [
      "Training set has 47180 samples.\n",
      "Testing set has 11796 samples.\n"
     ]
    }
   ],
   "source": [
    "# Split into train 80% and test 20%\n",
    "X_train, X_test, y_train, y_test = train_test_split(features,\n",
    "                                                    DECEASED,\n",
    "                                                    test_size = .20,\n",
    "                                                    random_state = 0)\n",
    "\n",
    "# Show the results of the split\n",
    "print(\"Training set has {} samples.\".format(X_train.shape[0]))\n",
    "print(\"Testing set has {} samples.\".format(X_test.shape[0]))"
   ]
  },
  {
   "cell_type": "markdown",
   "metadata": {},
   "source": [
    "# Patient Segmentation"
   ]
  },
  {
   "cell_type": "code",
   "execution_count": 101,
   "metadata": {},
   "outputs": [
    {
     "data": {
      "image/png": "[encoded data removed]",
      "text/plain": [
       "<Figure size 800x600 with 1 Axes>"
      ]
     },
     "metadata": {},
     "output_type": "display_data"
    }
   ],
   "source": [
    "from sklearn.preprocessing import StandardScaler\n",
    "from sklearn.cluster import KMeans\n",
    "import matplotlib.pyplot as plt\n",
    "from sklearn.decomposition import PCA\n",
    "\n",
    "\n",
    "# Apply PCA for dimensionality reduction\n",
    "PCA_MODEL = PCA(n_components=2)\n",
    "DATA_PCA = PCA_MODEL.fit_transform(features)\n",
    "\n",
    "# Perform K-Means clustering\n",
    "KMEANS_MODEL = KMeans(n_clusters=3, n_init='auto')\n",
    "KMEANS_MODEL.fit(DATA_PCA)\n",
    "\n",
    "# Predict cluster labels\n",
    "CLUSTER_LABELS = KMEANS_MODEL.labels_\n",
    "\n",
    "\n",
    "# Visualize clusters with centroids\n",
    "plt.figure(figsize=(8, 6))\n",
    "plt.scatter(DATA_PCA[:, 0], DATA_PCA[:, 1], c=CLUSTER_LABELS, cmap='viridis', s=50, alpha=0.6)\n",
    "\n",
    "# Plot the centroids of each cluster\n",
    "centroids = KMEANS_MODEL.cluster_centers_\n",
    "plt.scatter(centroids[:, 0], centroids[:, 1], c='red', marker='X', s=200, label='Centroids')\n",
    "\n",
    "plt.title('Patient Segmentation with KMeans Clustering')\n",
    "plt.xlabel('Principal Component 1')\n",
    "plt.ylabel('Principal Component 2')\n",
    "plt.legend()\n",
    "plt.show()"
   ]
  },
  {
   "cell_type": "code",
   "execution_count": 102,
   "metadata": {},
   "outputs": [
    {
     "name": "stdout",
     "output_type": "stream",
     "text": [
      "Cluster 0:\n",
      "           DECEASED        blood   circulatory    congenital     digestive  \\\n",
      "count  25221.000000  25221.00000  25221.000000  25221.000000  25221.000000   \n",
      "mean       0.116609      0.41521      3.741684      0.035209      0.665794   \n",
      "std        0.320960      0.66503      1.776578      0.198601      1.118264   \n",
      "min        0.000000      0.00000      0.000000      0.000000      0.000000   \n",
      "25%        0.000000      0.00000      2.000000      0.000000      0.000000   \n",
      "50%        0.000000      0.00000      3.000000      0.000000      0.000000   \n",
      "75%        0.000000      1.00000      5.000000      0.000000      1.000000   \n",
      "max        1.000000      7.00000     17.000000      4.000000     11.000000   \n",
      "\n",
      "          endocrine  genitourinary    infectious        injury        mental  \\\n",
      "count  25221.000000   25221.000000  25221.000000  25221.000000  25221.000000   \n",
      "mean       1.565481       0.690536      0.302129      1.200864      0.359740   \n",
      "std        1.305468       0.905127      0.620230      1.063459      0.714445   \n",
      "min        0.000000       0.000000      0.000000      0.000000      0.000000   \n",
      "25%        1.000000       0.000000      0.000000      0.000000      0.000000   \n",
      "50%        1.000000       0.000000      0.000000      1.000000      0.000000   \n",
      "75%        2.000000       1.000000      0.000000      2.000000      1.000000   \n",
      "max       12.000000       7.000000      6.000000      4.000000      7.000000   \n",
      "\n",
      "       ...  MAR_LIFE PARTNER   MAR_MARRIED  MAR_SEPARATED    MAR_SINGLE  \\\n",
      "count  ...      25221.000000  25221.000000   25221.000000  25221.000000   \n",
      "mean   ...          0.000159      0.510011       0.010943      0.191547   \n",
      "std    ...          0.012593      0.499910       0.104038      0.393526   \n",
      "min    ...          0.000000      0.000000       0.000000      0.000000   \n",
      "25%    ...          0.000000      0.000000       0.000000      0.000000   \n",
      "50%    ...          0.000000      1.000000       0.000000      0.000000   \n",
      "75%    ...          0.000000      1.000000       0.000000      0.000000   \n",
      "max    ...          1.000000      1.000000       1.000000      1.000000   \n",
      "\n",
      "       MAR_UNKNOWN (DEFAULT)   MAR_WIDOWED  RELIGION_NOT SPECIFIED  \\\n",
      "count           25221.000000  25221.000000            25221.000000   \n",
      "mean                0.045756      0.180286                0.167043   \n",
      "std                 0.208959      0.384433                0.373022   \n",
      "min                 0.000000      0.000000                0.000000   \n",
      "25%                 0.000000      0.000000                0.000000   \n",
      "50%                 0.000000      0.000000                0.000000   \n",
      "75%                 0.000000      0.000000                0.000000   \n",
      "max                 1.000000      1.000000                1.000000   \n",
      "\n",
      "       RELIGION_RELIGIOUS  RELIGION_UNOBTAINABLE  CLUSTER  \n",
      "count        25221.000000           25221.000000  25221.0  \n",
      "mean             0.736648               0.096309      0.0  \n",
      "std              0.440460               0.295020      0.0  \n",
      "min              0.000000               0.000000      0.0  \n",
      "25%              0.000000               0.000000      0.0  \n",
      "50%              1.000000               0.000000      0.0  \n",
      "75%              1.000000               0.000000      0.0  \n",
      "max              1.000000               1.000000      0.0  \n",
      "\n",
      "[8 rows x 54 columns]\n",
      "Cluster 1:\n",
      "          DECEASED        blood  circulatory   congenital    digestive  \\\n",
      "count  9785.000000  9785.000000  9785.000000  9785.000000  9785.000000   \n",
      "mean      0.142361     0.727542     3.620337     0.032805     1.053347   \n",
      "std       0.349438     0.860914     2.569527     0.190341     1.515866   \n",
      "min       0.000000     0.000000     0.000000     0.000000     0.000000   \n",
      "25%       0.000000     0.000000     2.000000     0.000000     0.000000   \n",
      "50%       0.000000     1.000000     3.000000     0.000000     1.000000   \n",
      "75%       0.000000     1.000000     5.000000     0.000000     2.000000   \n",
      "max       1.000000     6.000000    15.000000     3.000000    11.000000   \n",
      "\n",
      "         endocrine  genitourinary   infectious       injury       mental  ...  \\\n",
      "count  9785.000000    9785.000000  9785.000000  9785.000000  9785.000000  ...   \n",
      "mean      2.017169       1.007256     0.689218     5.984364     0.624834  ...   \n",
      "std       1.628746       1.084647     0.978714     2.266635     0.974625  ...   \n",
      "min       0.000000       0.000000     0.000000     2.000000     0.000000  ...   \n",
      "25%       1.000000       0.000000     0.000000     4.000000     0.000000  ...   \n",
      "50%       2.000000       1.000000     0.000000     5.000000     0.000000  ...   \n",
      "75%       3.000000       2.000000     1.000000     7.000000     1.000000  ...   \n",
      "max      10.000000       7.000000     7.000000    23.000000     9.000000  ...   \n",
      "\n",
      "       MAR_LIFE PARTNER  MAR_MARRIED  MAR_SEPARATED   MAR_SINGLE  \\\n",
      "count       9785.000000  9785.000000    9785.000000  9785.000000   \n",
      "mean           0.000307     0.471845       0.008789     0.249463   \n",
      "std            0.017508     0.499232       0.093341     0.432725   \n",
      "min            0.000000     0.000000       0.000000     0.000000   \n",
      "25%            0.000000     0.000000       0.000000     0.000000   \n",
      "50%            0.000000     0.000000       0.000000     0.000000   \n",
      "75%            0.000000     1.000000       0.000000     0.000000   \n",
      "max            1.000000     1.000000       1.000000     1.000000   \n",
      "\n",
      "       MAR_UNKNOWN (DEFAULT)  MAR_WIDOWED  RELIGION_NOT SPECIFIED  \\\n",
      "count            9785.000000  9785.000000             9785.000000   \n",
      "mean                0.047011     0.155851                0.208891   \n",
      "std                 0.211673     0.362732                0.406537   \n",
      "min                 0.000000     0.000000                0.000000   \n",
      "25%                 0.000000     0.000000                0.000000   \n",
      "50%                 0.000000     0.000000                0.000000   \n",
      "75%                 0.000000     0.000000                0.000000   \n",
      "max                 1.000000     1.000000                1.000000   \n",
      "\n",
      "       RELIGION_RELIGIOUS  RELIGION_UNOBTAINABLE  CLUSTER  \n",
      "count         9785.000000            9785.000000   9785.0  \n",
      "mean             0.709964               0.081145      1.0  \n",
      "std              0.453802               0.273071      0.0  \n",
      "min              0.000000               0.000000      1.0  \n",
      "25%              0.000000               0.000000      1.0  \n",
      "50%              1.000000               0.000000      1.0  \n",
      "75%              1.000000               0.000000      1.0  \n",
      "max              1.000000               1.000000      1.0  \n",
      "\n",
      "[8 rows x 54 columns]\n",
      "Cluster 2:\n",
      "           DECEASED         blood   circulatory    congenital     digestive  \\\n",
      "count  23970.000000  23970.000000  23970.000000  23970.000000  23970.000000   \n",
      "mean       0.063413      0.239841      0.436546      0.123237      0.479224   \n",
      "std        0.243709      0.541496      0.633786      0.478149      0.988442   \n",
      "min        0.000000      0.000000      0.000000      0.000000      0.000000   \n",
      "25%        0.000000      0.000000      0.000000      0.000000      0.000000   \n",
      "50%        0.000000      0.000000      0.000000      0.000000      0.000000   \n",
      "75%        0.000000      0.000000      1.000000      0.000000      1.000000   \n",
      "max        1.000000      4.000000      3.000000     11.000000     10.000000   \n",
      "\n",
      "          endocrine  genitourinary    infectious        injury        mental  \\\n",
      "count  23970.000000   23970.000000  23970.000000  23970.000000  23970.000000   \n",
      "mean       0.521068       0.230455      0.246308      2.137380      0.397914   \n",
      "std        0.871383       0.565571      0.595917      1.458803      0.876701   \n",
      "min        0.000000       0.000000      0.000000      0.000000      0.000000   \n",
      "25%        0.000000       0.000000      0.000000      1.000000      0.000000   \n",
      "50%        0.000000       0.000000      0.000000      2.000000      0.000000   \n",
      "75%        1.000000       0.000000      0.000000      3.000000      0.000000   \n",
      "max        7.000000       7.000000      9.000000      8.000000     11.000000   \n",
      "\n",
      "       ...  MAR_LIFE PARTNER   MAR_MARRIED  MAR_SEPARATED    MAR_SINGLE  \\\n",
      "count  ...      23970.000000  23970.000000   23970.000000  23970.000000   \n",
      "mean   ...          0.000334      0.281977       0.008719      0.249562   \n",
      "std    ...          0.018266      0.449972       0.092971      0.432769   \n",
      "min    ...          0.000000      0.000000       0.000000      0.000000   \n",
      "25%    ...          0.000000      0.000000       0.000000      0.000000   \n",
      "50%    ...          0.000000      0.000000       0.000000      0.000000   \n",
      "75%    ...          0.000000      1.000000       0.000000      0.000000   \n",
      "max    ...          1.000000      1.000000       1.000000      1.000000   \n",
      "\n",
      "       MAR_UNKNOWN (DEFAULT)   MAR_WIDOWED  RELIGION_NOT SPECIFIED  \\\n",
      "count           23970.000000  23970.000000            23970.000000   \n",
      "mean                0.369587      0.047518                0.229287   \n",
      "std                 0.482703      0.212748                0.420383   \n",
      "min                 0.000000      0.000000                0.000000   \n",
      "25%                 0.000000      0.000000                0.000000   \n",
      "50%                 0.000000      0.000000                0.000000   \n",
      "75%                 1.000000      0.000000                0.000000   \n",
      "max                 1.000000      1.000000                1.000000   \n",
      "\n",
      "       RELIGION_RELIGIOUS  RELIGION_UNOBTAINABLE  CLUSTER  \n",
      "count        23970.000000           23970.000000  23970.0  \n",
      "mean             0.560200               0.210513      2.0  \n",
      "std              0.496373               0.407682      0.0  \n",
      "min              0.000000               0.000000      2.0  \n",
      "25%              0.000000               0.000000      2.0  \n",
      "50%              1.000000               0.000000      2.0  \n",
      "75%              1.000000               0.000000      2.0  \n",
      "max              1.000000               1.000000      2.0  \n",
      "\n",
      "[8 rows x 54 columns]\n"
     ]
    }
   ],
   "source": [
    "# Analyze cluster characteristics\n",
    "CLUSTER_DATA = pd.concat([df, pd.DataFrame(CLUSTER_LABELS, columns=['CLUSTER'])], axis=1)\n",
    "\n",
    "# Print cluster statistics\n",
    "for cluster in range(3):\n",
    "    print(f'Cluster {cluster}:')\n",
    "    print(CLUSTER_DATA[CLUSTER_DATA['CLUSTER'] == cluster].describe())"
   ]
  },
  {
   "cell_type": "markdown",
   "metadata": {
    "id": "6Bd3r4T5Cikr"
   },
   "source": [
    "**Machine Learning Models**"
   ]
  },
  {
   "cell_type": "code",
   "execution_count": 103,
   "metadata": {},
   "outputs": [],
   "source": [
    "from dataclasses import dataclass\n",
    "\n",
    "@dataclass\n",
    "class ModelMetric:\n",
    "    accuracy: float\n",
    "    f1score: float\n",
    "\n"
   ]
  },
  {
   "cell_type": "code",
   "execution_count": 104,
   "metadata": {
    "colab": {
     "base_uri": "https://localhost:8080/"
    },
    "id": "3cwTaxbp0pFF",
    "outputId": "a972806a-0fc7-4658-9648-3fcb4cd61b3b"
   },
   "outputs": [
    {
     "name": "stdout",
     "output_type": "stream",
     "text": [
      "Model=SGDClassifier\n",
      "SGDClassifier done.\n",
      "Model=GradientBoostingClassifier\n",
      "GradientBoostingClassifier done.\n",
      "Model=LogisticRegression\n",
      "LogisticRegression done.\n",
      "Model=RandomForestClassifier\n",
      "RandomForestClassifier done.\n"
     ]
    }
   ],
   "source": [
    "# Regression models for comparison\n",
    "models = [SGDClassifier(random_state = 0),\n",
    "          GradientBoostingClassifier(random_state = 0),\n",
    "          LogisticRegression(max_iter=5000),\n",
    "          RandomForestClassifier(random_state = 0)] #KNeighborsClassifier()\n",
    "\n",
    "model_metrics = {}\n",
    "for model in models:\n",
    "    name = str(model).split(\"(\")[0]\n",
    "    print(f\"Model={name}\")\n",
    "    # Instantiate and fit Regressor Model\n",
    "    reg_model = model\n",
    "    \n",
    "    reg_model.fit(X_train, y_train)\n",
    "\n",
    "    # Make predictions with model\n",
    "    y_test_preds = reg_model.predict(X_test)\n",
    "\n",
    "    # Grab model name and store results associated with model\n",
    "    \n",
    "\n",
    "    model_metrics[name] = ModelMetric(accuracy = round(accuracy_score(y_test, y_test_preds),4),\n",
    "                                      f1score=round(f1_score(y_test, y_test_preds, average='weighted'),4))\n",
    "\n",
    "    print('{} done.'.format(name))"
   ]
  },
  {
   "cell_type": "code",
   "execution_count": 105,
   "metadata": {},
   "outputs": [
    {
     "data": {
      "text/plain": [
       "{'GradientBoostingClassifier': ModelMetric(accuracy=0.899, f1score=np.float64(0.8586)),\n",
       " 'RandomForestClassifier': ModelMetric(accuracy=0.8976, f1score=np.float64(0.8564)),\n",
       " 'LogisticRegression': ModelMetric(accuracy=0.896, f1score=np.float64(0.8559)),\n",
       " 'SGDClassifier': ModelMetric(accuracy=0.8975, f1score=np.float64(0.849))}"
      ]
     },
     "execution_count": 105,
     "metadata": {},
     "output_type": "execute_result"
    }
   ],
   "source": [
    "#sort the data for display by F1Score\n",
    "sorted_model_metrics = dict(sorted(model_metrics.items(), key=lambda item: item[1].f1score,reverse=True))\n",
    "sorted_model_metrics"
   ]
  },
  {
   "cell_type": "code",
   "execution_count": 106,
   "metadata": {},
   "outputs": [
    {
     "name": "stdout",
     "output_type": "stream",
     "text": [
      "+----------------------------+----------+---------------------+\n",
      "|           Model            | Accuracy | f1-score (weighted) |\n",
      "+----------------------------+----------+---------------------+\n",
      "| GradientBoostingClassifier |  0.899   |        0.8586       |\n",
      "|   RandomForestClassifier   |  0.8976  |        0.8564       |\n",
      "|     LogisticRegression     |  0.896   |        0.8559       |\n",
      "|       SGDClassifier        |  0.8975  |        0.849        |\n",
      "+----------------------------+----------+---------------------+\n"
     ]
    }
   ],
   "source": [
    "from prettytable.colortable import ColorTable, Themes\n",
    "\n",
    "table = ColorTable(theme=Themes.OCEAN)\n",
    "\n",
    "table.field_names = ['Model', 'Accuracy', 'f1-score (weighted)']\n",
    "for k, v in sorted_model_metrics.items():\n",
    "    table.add_row([k,v.accuracy, v.f1score])\n",
    "print(table)"
   ]
  },
  {
   "cell_type": "code",
   "execution_count": 107,
   "metadata": {
    "colab": {
     "base_uri": "https://localhost:8080/"
    },
    "id": "pB0L6qGH1cNy",
    "outputId": "c7a2f706-1d92-4256-80a1-f3e9a859db2b"
   },
   "outputs": [
    {
     "name": "stdout",
     "output_type": "stream",
     "text": [
      "F1 score (Not Optimized) is: 0.8586\n"
     ]
    }
   ],
   "source": [
    "# GradientBoostingRegressor will be used as the DESEASED prediction model\n",
    "reg_model = GradientBoostingClassifier(random_state=0)\n",
    "reg_model.fit(X_train, y_train)\n",
    "y_test_preds = reg_model.predict(X_test)\n",
    "f1_not_optimized = round(f1_score(y_test, y_test_preds, average='weighted'),4)\n",
    "print(f\"F1 score (Not Optimized) is: {f1_not_optimized}\")"
   ]
  },
  {
   "cell_type": "markdown",
   "metadata": {
    "id": "g6ImDq8QCpZk"
   },
   "source": [
    "**Model Finetuning**"
   ]
  },
  {
   "cell_type": "code",
   "execution_count": 108,
   "metadata": {
    "colab": {
     "base_uri": "https://localhost:8080/"
    },
    "id": "KwvbPLdb1z8X",
    "outputId": "d58e5f4c-4613-498a-901d-50562041bc52"
   },
   "outputs": [],
   "source": [
    "# # Split into train 80% and test 20%\n",
    "# X_train, X_test, y_train, y_test = train_test_split(features,\n",
    "#                                                     DECEASED,\n",
    "#                                                     test_size = .20,\n",
    "#                                                     random_state = 42)\n",
    "\n",
    "\n",
    "# tuned_parameters = [{'n_estimators': [200, 300],\n",
    "#                      'max_depth' : [3, 4],\n",
    "#                      'loss': ['log_loss', 'exponential']}]\n",
    "\n",
    "# # create and fit a ridge regression model, testing each alpha\n",
    "# reg_model = GradientBoostingClassifier()\n",
    "# grid = GridSearchCV(reg_model, tuned_parameters)\n",
    "# grid.fit(X_train, y_train)\n",
    "# reg_model_optimized = grid.best_estimator_\n",
    "\n",
    "# # summarize the results of the grid search\n",
    "# print(grid.best_score_)\n",
    "# print(grid.best_estimator_)"
   ]
  },
  {
   "cell_type": "code",
   "execution_count": 109,
   "metadata": {
    "colab": {
     "base_uri": "https://localhost:8080/"
    },
    "id": "j32qkufT4zzG",
    "outputId": "658f4392-ccf6-4108-f456-4387ae71ba65"
   },
   "outputs": [
    {
     "name": "stdout",
     "output_type": "stream",
     "text": [
      "Optimized F1 score is: 0.8652\n"
     ]
    }
   ],
   "source": [
    "#Best Model from optimizer, hardcoded to save time at every execution\n",
    "\n",
    "reg_model_optimized = GradientBoostingClassifier(loss='exponential',n_estimators = 200, max_depth=4, random_state=42)\n",
    "reg_model_optimized.fit(X_train, y_train)\n",
    "\n",
    "y_test_preds = reg_model_optimized.predict(X_test)\n",
    "f1_optimized = round(f1_score(y_test, y_test_preds, average='weighted'),4)\n",
    "print(f\"Optimized F1 score is: {f1_optimized}\")"
   ]
  },
  {
   "cell_type": "code",
   "execution_count": 110,
   "metadata": {
    "colab": {
     "base_uri": "https://localhost:8080/"
    },
    "id": "f9VO0Vuz46YG",
    "outputId": "e89c7416-d647-4ba3-a96e-951c2917785e"
   },
   "outputs": [
    {
     "name": "stdout",
     "output_type": "stream",
     "text": [
      "Model refinement improved f1 score by 0.0066\n"
     ]
    }
   ],
   "source": [
    "print('Model refinement improved f1 score by {:.4f}'.format(f1_optimized-f1_not_optimized))"
   ]
  },
  {
   "cell_type": "markdown",
   "metadata": {
    "id": "NDWy2cAfCx_x"
   },
   "source": [
    "**Evaluation**"
   ]
  },
  {
   "cell_type": "code",
   "execution_count": 111,
   "metadata": {
    "colab": {
     "base_uri": "https://localhost:8080/",
     "height": 677
    },
    "id": "nNtRGL0a5KII",
    "outputId": "818cb21f-ee86-4970-d6d3-980e1f76c114"
   },
   "outputs": [
    {
     "data": {
      "text/html": [
       "<div>\n",
       "<style scoped>\n",
       "    .dataframe tbody tr th:only-of-type {\n",
       "        vertical-align: middle;\n",
       "    }\n",
       "\n",
       "    .dataframe tbody tr th {\n",
       "        vertical-align: top;\n",
       "    }\n",
       "\n",
       "    .dataframe thead th {\n",
       "        text-align: right;\n",
       "    }\n",
       "</style>\n",
       "<table border=\"1\" class=\"dataframe\">\n",
       "  <thead>\n",
       "    <tr style=\"text-align: right;\">\n",
       "      <th></th>\n",
       "      <th>importance</th>\n",
       "    </tr>\n",
       "  </thead>\n",
       "  <tbody>\n",
       "    <tr>\n",
       "      <th>respiratory</th>\n",
       "      <td>0.205658</td>\n",
       "    </tr>\n",
       "    <tr>\n",
       "      <th>neoplasms</th>\n",
       "      <td>0.066347</td>\n",
       "    </tr>\n",
       "    <tr>\n",
       "      <th>infectious</th>\n",
       "      <td>0.065980</td>\n",
       "    </tr>\n",
       "    <tr>\n",
       "      <th>genitourinary</th>\n",
       "      <td>0.059404</td>\n",
       "    </tr>\n",
       "    <tr>\n",
       "      <th>ADM_EMERGENCY</th>\n",
       "      <td>0.046464</td>\n",
       "    </tr>\n",
       "    <tr>\n",
       "      <th>circulatory</th>\n",
       "      <td>0.041725</td>\n",
       "    </tr>\n",
       "    <tr>\n",
       "      <th>misc</th>\n",
       "      <td>0.039027</td>\n",
       "    </tr>\n",
       "    <tr>\n",
       "      <th>mental</th>\n",
       "      <td>0.039002</td>\n",
       "    </tr>\n",
       "    <tr>\n",
       "      <th>digestive</th>\n",
       "      <td>0.036082</td>\n",
       "    </tr>\n",
       "    <tr>\n",
       "      <th>nervous</th>\n",
       "      <td>0.036016</td>\n",
       "    </tr>\n",
       "    <tr>\n",
       "      <th>MAR_UNKNOWN (DEFAULT)</th>\n",
       "      <td>0.035910</td>\n",
       "    </tr>\n",
       "    <tr>\n",
       "      <th>injury</th>\n",
       "      <td>0.031477</td>\n",
       "    </tr>\n",
       "    <tr>\n",
       "      <th>prenatal</th>\n",
       "      <td>0.025660</td>\n",
       "    </tr>\n",
       "    <tr>\n",
       "      <th>INS_Medicare</th>\n",
       "      <td>0.024752</td>\n",
       "    </tr>\n",
       "    <tr>\n",
       "      <th>ADM_ELECTIVE</th>\n",
       "      <td>0.022163</td>\n",
       "    </tr>\n",
       "    <tr>\n",
       "      <th>endocrine</th>\n",
       "      <td>0.020883</td>\n",
       "    </tr>\n",
       "    <tr>\n",
       "      <th>REL_UNOBTAINABLE</th>\n",
       "      <td>0.020168</td>\n",
       "    </tr>\n",
       "    <tr>\n",
       "      <th>blood</th>\n",
       "      <td>0.019401</td>\n",
       "    </tr>\n",
       "    <tr>\n",
       "      <th>AGE_300.2</th>\n",
       "      <td>0.019106</td>\n",
       "    </tr>\n",
       "    <tr>\n",
       "      <th>ETH_OTHER/UNKNOWN</th>\n",
       "      <td>0.016694</td>\n",
       "    </tr>\n",
       "  </tbody>\n",
       "</table>\n",
       "</div>"
      ],
      "text/plain": [
       "                       importance\n",
       "respiratory              0.205658\n",
       "neoplasms                0.066347\n",
       "infectious               0.065980\n",
       "genitourinary            0.059404\n",
       "ADM_EMERGENCY            0.046464\n",
       "circulatory              0.041725\n",
       "misc                     0.039027\n",
       "mental                   0.039002\n",
       "digestive                0.036082\n",
       "nervous                  0.036016\n",
       "MAR_UNKNOWN (DEFAULT)    0.035910\n",
       "injury                   0.031477\n",
       "prenatal                 0.025660\n",
       "INS_Medicare             0.024752\n",
       "ADM_ELECTIVE             0.022163\n",
       "endocrine                0.020883\n",
       "REL_UNOBTAINABLE         0.020168\n",
       "blood                    0.019401\n",
       "AGE_300.2                0.019106\n",
       "ETH_OTHER/UNKNOWN        0.016694"
      ]
     },
     "execution_count": 111,
     "metadata": {},
     "output_type": "execute_result"
    }
   ],
   "source": [
    "# https://towardsdatascience.com/running-random-forests-inspect-the-feature-importances-with-this-code-2b00dd72b92e\n",
    "feature_imp = pd.DataFrame(reg_model_optimized.feature_importances_,\n",
    "                                   index = X_train.columns,\n",
    "                                   columns=['importance']).sort_values('importance', ascending=False)\n",
    "\n",
    "feature_imp.head(20)"
   ]
  },
  {
   "cell_type": "code",
   "execution_count": 112,
   "metadata": {
    "colab": {
     "base_uri": "https://localhost:8080/"
    },
    "id": "xsE1Erp65TJc",
    "outputId": "954b4826-c634-471b-83e4-797b4add8250"
   },
   "outputs": [
    {
     "data": {
      "text/plain": [
       "['respiratory',\n",
       " 'neoplasms',\n",
       " 'infectious',\n",
       " 'genitourinary',\n",
       " 'ADM_EMERGENCY',\n",
       " 'circulatory',\n",
       " 'misc',\n",
       " 'mental',\n",
       " 'digestive',\n",
       " 'nervous']"
      ]
     },
     "execution_count": 112,
     "metadata": {},
     "output_type": "execute_result"
    }
   ],
   "source": [
    "feature_imp.index[0:10].tolist()"
   ]
  },
  {
   "cell_type": "code",
   "execution_count": 113,
   "metadata": {
    "colab": {
     "base_uri": "https://localhost:8080/",
     "height": 516
    },
    "id": "rdvDDssN5X3B",
    "outputId": "a43980aa-d58d-4f57-8f97-2f951128ee5e"
   },
   "outputs": [
    {
     "data": {
      "image/png": "[encoded data removed]",
      "text/plain": [
       "<Figure size 700x500 with 1 Axes>"
      ]
     },
     "metadata": {},
     "output_type": "display_data"
    }
   ],
   "source": [
    "\n",
    "# Plot feature importance\n",
    "fig, ax = plt.subplots(figsize=(7, 5))\n",
    "ind = range(0,10)\n",
    "ax.barh(ind, feature_imp['importance'].values[0:10],\n",
    "        align='center', color='#c44e52', alpha=0.9)\n",
    "ax.set_yticks(ind)\n",
    "ax.set_yticklabels(feature_imp.index[0:10].tolist())\n",
    "ax.tick_params(left=False, top=False, right=False)\n",
    "ax.set_title(\"Top 10 features for predicting Mortality\")\n",
    "ax.set_xlabel('Feature Importance Coefficient \\n(GradientBoostingClassifier)')\n",
    "plt.gca().invert_yaxis()\n",
    "#fig.savefig('images/feature_importance.png', bbox_inches = 'tight')"
   ]
  },
  {
   "cell_type": "code",
   "execution_count": null,
   "metadata": {},
   "outputs": [],
   "source": []
  },
  {
   "cell_type": "code",
   "execution_count": 114,
   "metadata": {},
   "outputs": [
    {
     "data": {
      "image/png": "[encoded data removed]",
      "text/plain": [
       "<Figure size 800x600 with 1 Axes>"
      ]
     },
     "metadata": {},
     "output_type": "display_data"
    }
   ],
   "source": [
    "# Elbow plot to determine optimal number of clusters\n",
    "inertia = []\n",
    "for k in range(1, 11):  # Test from 1 to 10 clusters\n",
    "    kmeans = KMeans(n_clusters=k, n_init='auto')\n",
    "    kmeans.fit(DATA_PCA)\n",
    "    inertia.append(kmeans.inertia_)\n",
    "\n",
    "plt.figure(figsize=(8, 6))\n",
    "plt.plot(range(1, 11), inertia, marker='o')\n",
    "plt.title('Elbow Method for Optimal K')\n",
    "plt.xlabel('Number of Clusters')\n",
    "plt.ylabel('Inertia')\n",
    "plt.show()\n"
   ]
  },
  {
   "cell_type": "markdown",
   "metadata": {},
   "source": [
    "# Bonus - Neural Networks"
   ]
  },
  {
   "cell_type": "code",
   "execution_count": 115,
   "metadata": {},
   "outputs": [],
   "source": [
    "%load_ext tensorboard"
   ]
  },
  {
   "cell_type": "code",
   "execution_count": 116,
   "metadata": {},
   "outputs": [
    {
     "data": {
      "text/plain": [
       "Reusing TensorBoard on port 6007 (pid 33096), started 4:07:43 ago. (Use '!kill 33096' to kill it.)"
      ]
     },
     "metadata": {},
     "output_type": "display_data"
    },
    {
     "data": {
      "text/html": [
       "\n",
       "      <iframe id=\"tensorboard-frame-59d2f04bc79b9ac9\" width=\"100%\" height=\"800\" frameborder=\"0\">\n",
       "      </iframe>\n",
       "      <script>\n",
       "        (function() {\n",
       "          const frame = document.getElementById(\"tensorboard-frame-59d2f04bc79b9ac9\");\n",
       "          const url = new URL(\"/\", window.location);\n",
       "          const port = 6007;\n",
       "          if (port) {\n",
       "            url.port = port;\n",
       "          }\n",
       "          frame.src = url;\n",
       "        })();\n",
       "      </script>\n",
       "    "
      ],
      "text/plain": [
       "<IPython.core.display.HTML object>"
      ]
     },
     "metadata": {},
     "output_type": "display_data"
    }
   ],
   "source": [
    "%tensorboard --logdir runs"
   ]
  },
  {
   "cell_type": "code",
   "execution_count": 117,
   "metadata": {},
   "outputs": [
    {
     "name": "stderr",
     "output_type": "stream",
     "text": [
      "'kill' is not recognized as an internal or external command,\n",
      "operable program or batch file.\n"
     ]
    }
   ],
   "source": [
    "!kill 33096"
   ]
  },
  {
   "cell_type": "code",
   "execution_count": 118,
   "metadata": {},
   "outputs": [
    {
     "name": "stdout",
     "output_type": "stream",
     "text": [
      "Requirement already satisfied: tensorboard in c:\\users\\water\\.conda\\envs\\aihc-py39\\lib\\site-packages (2.18.0)\n",
      "Requirement already satisfied: absl-py>=0.4 in c:\\users\\water\\.conda\\envs\\aihc-py39\\lib\\site-packages (from tensorboard) (2.1.0)\n",
      "Requirement already satisfied: grpcio>=1.48.2 in c:\\users\\water\\.conda\\envs\\aihc-py39\\lib\\site-packages (from tensorboard) (1.68.0)\n",
      "Requirement already satisfied: markdown>=2.6.8 in c:\\users\\water\\.conda\\envs\\aihc-py39\\lib\\site-packages (from tensorboard) (3.7)\n",
      "Requirement already satisfied: numpy>=1.12.0 in c:\\users\\water\\.conda\\envs\\aihc-py39\\lib\\site-packages (from tensorboard) (2.0.2)\n",
      "Requirement already satisfied: packaging in c:\\users\\water\\.conda\\envs\\aihc-py39\\lib\\site-packages (from tensorboard) (24.1)\n",
      "Requirement already satisfied: protobuf!=4.24.0,>=3.19.6 in c:\\users\\water\\.conda\\envs\\aihc-py39\\lib\\site-packages (from tensorboard) (5.28.3)\n",
      "Requirement already satisfied: setuptools>=41.0.0 in c:\\users\\water\\.conda\\envs\\aihc-py39\\lib\\site-packages (from tensorboard) (75.1.0)\n",
      "Requirement already satisfied: six>1.9 in c:\\users\\water\\.conda\\envs\\aihc-py39\\lib\\site-packages (from tensorboard) (1.16.0)\n",
      "Requirement already satisfied: tensorboard-data-server<0.8.0,>=0.7.0 in c:\\users\\water\\.conda\\envs\\aihc-py39\\lib\\site-packages (from tensorboard) (0.7.2)\n",
      "Requirement already satisfied: werkzeug>=1.0.1 in c:\\users\\water\\.conda\\envs\\aihc-py39\\lib\\site-packages (from tensorboard) (3.1.3)\n",
      "Requirement already satisfied: importlib-metadata>=4.4 in c:\\users\\water\\.conda\\envs\\aihc-py39\\lib\\site-packages (from markdown>=2.6.8->tensorboard) (7.0.1)\n",
      "Requirement already satisfied: MarkupSafe>=2.1.1 in c:\\users\\water\\.conda\\envs\\aihc-py39\\lib\\site-packages (from werkzeug>=1.0.1->tensorboard) (3.0.1)\n",
      "Requirement already satisfied: zipp>=0.5 in c:\\users\\water\\.conda\\envs\\aihc-py39\\lib\\site-packages (from importlib-metadata>=4.4->markdown>=2.6.8->tensorboard) (3.17.0)\n"
     ]
    }
   ],
   "source": [
    "!pip install tensorboard"
   ]
  },
  {
   "cell_type": "code",
   "execution_count": null,
   "metadata": {},
   "outputs": [],
   "source": []
  },
  {
   "cell_type": "code",
   "execution_count": 119,
   "metadata": {},
   "outputs": [
    {
     "name": "stdout",
     "output_type": "stream",
     "text": [
      "+----------------------------+----------+---------------------+\n",
      "|           Model            | Accuracy | f1-score (weighted) |\n",
      "+----------------------------+----------+---------------------+\n",
      "| GradientBoostingClassifier |  0.899   |        0.8586       |\n",
      "|   RandomForestClassifier   |  0.8976  |        0.8564       |\n",
      "|     LogisticRegression     |  0.896   |        0.8559       |\n",
      "|       SGDClassifier        |  0.8975  |        0.849        |\n",
      "+----------------------------+----------+---------------------+\n"
     ]
    }
   ],
   "source": [
    "#sort the data for display by F1Score\n",
    "sorted_model_metrics = dict(sorted(model_metrics.items(), key=lambda item: item[1].f1score,reverse=True))\n",
    "sorted_model_metrics\n",
    "from prettytable.colortable import ColorTable, Themes\n",
    "\n",
    "table = ColorTable(theme=Themes.OCEAN)\n",
    "\n",
    "table.field_names = ['Model', 'Accuracy', 'f1-score (weighted)']\n",
    "for k, v in sorted_model_metrics.items():\n",
    "    table.add_row([k,v.accuracy, v.f1score])\n",
    "print(table)"
   ]
  },
  {
   "cell_type": "code",
   "execution_count": 120,
   "metadata": {},
   "outputs": [
    {
     "data": {
      "text/plain": [
       "DECEASED\n",
       "0    53122\n",
       "1     5854\n",
       "Name: count, dtype: int64"
      ]
     },
     "execution_count": 120,
     "metadata": {},
     "output_type": "execute_result"
    }
   ],
   "source": [
    "df['DECEASED'].value_counts()"
   ]
  },
  {
   "cell_type": "code",
   "execution_count": 121,
   "metadata": {},
   "outputs": [
    {
     "name": "stdout",
     "output_type": "stream",
     "text": [
      "Epoch 1: Loss = 0.69287\n",
      "Epoch 21: Loss = 0.07205\n",
      "Epoch 41: Loss = 0.06876\n",
      "Epoch 61: Loss = 0.06433\n",
      "Epoch 81: Loss = 0.06309\n",
      "Epoch 101: Loss = 0.06152\n",
      "Epoch 121: Loss = 0.05893\n",
      "Epoch 141: Loss = 0.05537\n",
      "Epoch 161: Loss = 0.05110\n",
      "Epoch 181: Loss = 0.04477\n",
      "Epoch 201: Loss = 0.04497\n",
      "Epoch 221: Loss = 0.04272\n",
      "Epoch 241: Loss = 0.03454\n",
      "Epoch 261: Loss = 0.02800\n",
      "Epoch 281: Loss = 0.02417\n",
      "Epoch 301: Loss = 0.04706\n",
      "Epoch 321: Loss = 0.03886\n",
      "Epoch 341: Loss = 0.02337\n",
      "Epoch 361: Loss = 0.01764\n",
      "Epoch 381: Loss = 0.01462\n",
      "Epoch 401: Loss = 0.01863\n",
      "Epoch 421: Loss = 0.01153\n",
      "Epoch 441: Loss = 0.00870\n",
      "Epoch 461: Loss = 0.00765\n",
      "Epoch 481: Loss = 0.00727\n",
      "Epoch 501: Loss = 0.00701\n",
      "Epoch 521: Loss = 0.00668\n",
      "Epoch 541: Loss = 0.00536\n",
      "Epoch 561: Loss = 0.00524\n",
      "Epoch 581: Loss = 0.00399\n",
      "Epoch 601: Loss = 0.00412\n",
      "Epoch 621: Loss = 0.00439\n",
      "Epoch 641: Loss = 0.00360\n",
      "Epoch 661: Loss = 0.00395\n",
      "Epoch 681: Loss = 0.00349\n",
      "Epoch 701: Loss = 0.00381\n",
      "Epoch 721: Loss = 0.00440\n",
      "Epoch 741: Loss = 0.00308\n",
      "Epoch 761: Loss = 0.00361\n",
      "Epoch 781: Loss = 0.00278\n",
      "Epoch 801: Loss = 0.00246\n",
      "Epoch 821: Loss = 0.00286\n",
      "Epoch 841: Loss = 0.00256\n",
      "Epoch 861: Loss = 0.00251\n",
      "Epoch 881: Loss = 0.00264\n",
      "Epoch 901: Loss = 0.00235\n",
      "Epoch 921: Loss = 0.00198\n",
      "Epoch 941: Loss = 0.00287\n",
      "Epoch 961: Loss = 0.00187\n",
      "Epoch 981: Loss = 0.00228\n",
      "Epoch 1001: Loss = 0.00215\n",
      "Epoch 1021: Loss = 0.00232\n",
      "Epoch 1041: Loss = 0.00250\n",
      "Epoch 1061: Loss = 0.00225\n",
      "Epoch 1081: Loss = 0.00174\n",
      "Epoch 1101: Loss = 0.00183\n",
      "Epoch 1121: Loss = 0.00191\n",
      "Epoch 1141: Loss = 0.00204\n",
      "Epoch 1161: Loss = 0.00163\n",
      "Epoch 1181: Loss = 0.00164\n",
      "Epoch 1201: Loss = 0.00171\n",
      "Epoch 1221: Loss = 0.00242\n",
      "Epoch 1241: Loss = 0.00208\n",
      "Epoch 1261: Loss = 0.00198\n",
      "Epoch 1281: Loss = 0.00163\n"
     ]
    }
   ],
   "source": [
    "import torch\n",
    "import torch.nn as nn\n",
    "import pandas as pd\n",
    "import numpy as np\n",
    "from sklearn.preprocessing import StandardScaler\n",
    "from sklearn.model_selection import train_test_split\n",
    "from sklearn.metrics import accuracy_score, classification_report\n",
    "\n",
    "\n",
    "# Assuming df is your DataFrame\n",
    "\n",
    "# Convert the target variable into binary (0 or 1)\n",
    "# Replace this line with your actual logic to create a binary target variable\n",
    "# y = (y > 0.5).astype(int)\n",
    "\n",
    "\n",
    "# Split the data into training and testing sets\n",
    "X_train, X_test, y_train, y_test = train_test_split(features, DECEASED, test_size=0.2, random_state=42)\n",
    "\n",
    "\n",
    "# Standardize features by removing the mean and scaling to unit variance\n",
    "scaler = StandardScaler()\n",
    "X_train_scaled = scaler.fit_transform(X_train)\n",
    "X_test_scaled = scaler.transform(X_test)\n",
    "\n",
    "\n",
    "# Convert the data into PyTorch tensors\n",
    "X_train_final = torch.from_numpy(X_train_scaled).float()\n",
    "X_test_final = torch.from_numpy(X_test_scaled).float()\n",
    "y_train_final = torch.from_numpy(y_train).long()\n",
    "y_test_final = torch.from_numpy(y_test).long()\n",
    "\n",
    "\n",
    "# Define the neural network model\n",
    "class BinaryClassifier(nn.Module):\n",
    "    def __init__(self):\n",
    "        super(BinaryClassifier, self).__init__()\n",
    "        self.classifier = nn.Sequential(\n",
    "            nn.Linear(X_train.shape[1], 128),\n",
    "            nn.ReLU(),\n",
    "            nn.Linear(128, 256),\n",
    "            nn.ReLU(),\n",
    "            nn.Linear(256, 512),\n",
    "            nn.ReLU(),\n",
    "\n",
    "            nn.Dropout(p=0.2),\n",
    "\n",
    "            nn.Linear(512, 1024),\n",
    "            nn.ReLU(),\n",
    "            nn.Linear(1024, 2048),\n",
    "            nn.ReLU(),\n",
    "            nn.Linear(2048, 2048),\n",
    "            nn.ReLU(),\n",
    "            \n",
    "            nn.Dropout(p=0.2),\n",
    "\n",
    "            nn.Linear(2048, 1024),\n",
    "            nn.ReLU(),\n",
    "            nn.Linear(1024, 512),\n",
    "            nn.ReLU(),\n",
    "            nn.Linear(512, 256),\n",
    "            \n",
    "            nn.Dropout(p=0.2),\n",
    "            \n",
    "            nn.ReLU(),\n",
    "            nn.Linear(256, 128),\n",
    "            nn.ReLU(),\n",
    "\n",
    "            nn.Linear(128, 64),\n",
    "            nn.ReLU(),\n",
    "            nn.Linear(64, 2),\n",
    "#             nn.Softmax(dim=1)\n",
    "        )        \n",
    "\n",
    "    def forward(self, x):\n",
    "        return self.classifier(x)\n",
    "\n",
    "\n",
    "# Initialize the model, loss function, and optimizer\n",
    "model = BinaryClassifier().to(device=\"cuda\")\n",
    "criterion = nn.CrossEntropyLoss(weight=torch.tensor([8.0, 1.0])).to(device=\"cuda\")\n",
    "optimizer = torch.optim.Adam(model.parameters(), lr=0.001) #0.001\n",
    "\n",
    "lr_scheduler = torch.optim.lr_scheduler.StepLR( optimizer, \n",
    "                                                step_size = 50, \n",
    "                                                gamma = 0.1)\n",
    "\n",
    "X_train_final = X_train_final.to(device=\"cuda\")\n",
    "y_train_final = y_train_final.to(device=\"cuda\")\n",
    "\n",
    "# Train the model\n",
    "for epoch in range(1300):  # loop over the dataset multiple times\n",
    "    optimizer.zero_grad()\n",
    "    outputs = model(X_train_final)\n",
    "    loss = criterion(outputs, y_train_final)\n",
    "    loss.backward()\n",
    "    optimizer.step()\n",
    "#     lr_scheduler.step()\n",
    "    if epoch % 20 == 0:\n",
    "        print('Epoch {}: Loss = {:.5f}'.format(epoch+1, loss.item()))\n"
   ]
  },
  {
   "cell_type": "code",
   "execution_count": 122,
   "metadata": {},
   "outputs": [
    {
     "name": "stdout",
     "output_type": "stream",
     "text": [
      "Accuracy: 0.8869108172261784\n",
      "Classification Report:\n",
      "              precision    recall  f1-score   support\n",
      "\n",
      "           0       0.91      0.97      0.94     10629\n",
      "           1       0.34      0.15      0.21      1167\n",
      "\n",
      "    accuracy                           0.89     11796\n",
      "   macro avg       0.63      0.56      0.57     11796\n",
      "weighted avg       0.86      0.89      0.87     11796\n",
      "\n",
      "Neural Network Confusion Matrix:\n",
      "[[10287   342]\n",
      " [  992   175]]\n"
     ]
    }
   ],
   "source": [
    "# Evaluate the model\n",
    "model.eval()\n",
    "X_test_final = X_test_final.to(device=\"cuda\")\n",
    "y_test_final = y_test_final.to(device='cuda')\n",
    "\n",
    "outputs = model(X_test_final)\n",
    "_, predicted = torch.max(outputs, 1)\n",
    "\n",
    "print('Accuracy:', accuracy_score(y_test_final.cpu(), predicted.cpu()))\n",
    "print('Classification Report:')\n",
    "print(classification_report(y_test_final.cpu(), predicted.cpu()))\n",
    "print(\"Neural Network Confusion Matrix:\")\n",
    "print(confusion_matrix(y_test_final.cpu(), predicted.cpu()))\n",
    "\n",
    "\n",
    "f1score=f1_score(y_test_final.cpu(), predicted.cpu(), average='weighted')\n",
    "model_metrics['Neural Network'] = ModelMetric(accuracy=round(accuracy_score(y_test_final.cpu(), predicted.cpu()),4), \n",
    "                                              f1score=round(f1score,4))"
   ]
  },
  {
   "cell_type": "code",
   "execution_count": 123,
   "metadata": {},
   "outputs": [
    {
     "name": "stdout",
     "output_type": "stream",
     "text": [
      "+----------------------------+----------+---------------------+\n",
      "|           Model            | Accuracy | f1-score (weighted) |\n",
      "+----------------------------+----------+---------------------+\n",
      "|       Neural Network       |  0.8869  |        0.8668       |\n",
      "| GradientBoostingClassifier |  0.899   |        0.8586       |\n",
      "|   RandomForestClassifier   |  0.8976  |        0.8564       |\n",
      "|     LogisticRegression     |  0.896   |        0.8559       |\n",
      "|       SGDClassifier        |  0.8975  |        0.849        |\n",
      "+----------------------------+----------+---------------------+\n"
     ]
    }
   ],
   "source": [
    "#sort the data for display by F1Score\n",
    "sorted_model_metrics = dict(sorted(model_metrics.items(), key=lambda item: item[1].f1score,reverse=True))\n",
    "sorted_model_metrics\n",
    "from prettytable.colortable import ColorTable, Themes\n",
    "\n",
    "table = ColorTable(theme=Themes.OCEAN)\n",
    "\n",
    "table.field_names = ['Model', 'Accuracy', 'f1-score (weighted)']\n",
    "for k, v in sorted_model_metrics.items():\n",
    "    table.add_row([k,v.accuracy, v.f1score])\n",
    "print(table)"
   ]
  },
  {
   "cell_type": "code",
   "execution_count": null,
   "metadata": {},
   "outputs": [],
   "source": []
  }
 ],
 "metadata": {
  "colab": {
   "provenance": []
  },
  "kernelspec": {
   "display_name": "aihc-py39-kernel",
   "language": "python",
   "name": "aihc-py39-kernel"
  },
  "language_info": {
   "codemirror_mode": {
    "name": "ipython",
    "version": 3
   },
   "file_extension": ".py",
   "mimetype": "text/x-python",
   "name": "python",
   "nbconvert_exporter": "python",
   "pygments_lexer": "ipython3",
   "version": "3.9.20"
  }
 },
 "nbformat": 4,
 "nbformat_minor": 1
}
